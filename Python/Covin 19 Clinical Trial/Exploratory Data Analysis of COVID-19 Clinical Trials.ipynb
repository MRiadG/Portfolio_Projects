{
 "cells": [
  {
   "cell_type": "markdown",
   "id": "caf0064c-316f-48c2-8cd3-09c671a39a27",
   "metadata": {},
   "source": [
    "# About Me\n",
    "\n",
    "**Mohammed Imam Uddin Riad**  \n",
    "**Data Analyst**\n",
    "\n",
    "**Connect With Me**\n",
    "- [Portfolio](https://mriadg.github.io/MohammedRiad.com/)\n",
    "- [LinkedIn](https://www.linkedin.com/in/mohammed-imam-uddin-riad-1b7b682ab/)\n",
    "- [Email Me](mailto:imamuddinriad@gmail.com)\n",
    "\n",
    "Email Me"
   ]
  },
  {
   "cell_type": "markdown",
   "id": "172678db-7342-4ed5-9b99-91ee37588ec0",
   "metadata": {},
   "source": [
    "# Project:Exploratory Data Analysis of COVID-19 Clinical Trials\n",
    "\n",
    "In this project, titled \"Exploratory Data Analysis of COVID-19 Clinical Trials,\" I performed a comprehensive analysis of clinical trial data related to COVID-19. Here’s a summary of my approach and the key tasks I accomplished:\r\n",
    "\r\n",
    "1. **Data Import and Initial Assessment**: \r\n",
    "   - I started by importing the dataset containing 5,783 entries across 27 columns. Initial inspections revealed a diverse range of columns with varying data types and numerous missing values.\r\n",
    "\r\n",
    "2. **Data Cleaning**:\r\n",
    "   - To streamline the dataset, I identified and removed columns with high proportions of missing values, such as \"Results First Posted\" and \"Study Documents.\"\r\n",
    "   - I addressed missing values in remaining columns by either filling them with 'unknown' (for categorical data) or performing conversions to ensure consistency across the dataset.\r\n",
    "\r\n",
    "3. **Data Transformation**:\r\n",
    "   - I converted key date columns, like \"Start Date,\" \"Completion Date,\" and \"First Posted,\" to datetime format, making it easier to analyze time-based trends.\r\n",
    "   - I standardized entries in text columns to ensure consistency. For instance, I unified entries related to COVID-19 in columns like \"Acronym\" and \"Conditions\" by replacing all variations with \"Covid.\"\r\n",
    "\r\n",
    "4. **Exploratory Data Analysis (EDA)**:\r\n",
    "   - **Univariate Analysis**: I analyzed individual features, such as the \"Status\" and \"Phases\" of clinical trials, to understand their distribution. I visualized these distributions to highlight the most common trial statuses (e.g., \"Recruiting\") and phases (e.g., \"Phase 2\").\r\n",
    "   - **Categorical Analysis**: I examined categorical variables like \"Study Type\" and \"Gender\" to explore the characteristics of the trials and visualize them with bar charts.\r\n",
    "   - **Conditions and Outcome Measures**: I cross-tabulated conditions with outcome measures to gain insights into the focus of different clinical trials. This provided an understanding of the most frequently studied COVID-19-related conditions.\r\n",
    "\r\n",
    "5. **Time-Based Analysis**:\r\n",
    "   - I explored the \"Start Date\" column to analyze trends in trial initiation over time. Monthly and yearly breakdowns were generated, revealing how trial frequency changed as the pandemic evolved.\r\n",
    "\r\n",
    "6. **Visualization**:\r\n",
    "   - I used various visualization techniques, including bar and line charts, to display trends in trial status, phases, and study types, as well as the frequency of specific conditions in the trials.\r\n",
    "\r\n",
    "Through this project, I showcased my skills in data cleaning, transformation, and visualization, generating valuable insights into the landscape of COVID-19 clinical trials. This analysis highlights the trends, focal points, and status of ongoing research efforts during the pandemic."
   ]
  },
  {
   "cell_type": "code",
   "execution_count": 45,
   "id": "4ed1e2fd-8849-4776-954c-935049889111",
   "metadata": {},
   "outputs": [],
   "source": [
    "import pandas as pd"
   ]
  },
  {
   "cell_type": "code",
   "execution_count": 46,
   "id": "55bdedd2-3357-47fc-b8d5-1c619c0d25e6",
   "metadata": {},
   "outputs": [
    {
     "data": {
      "text/html": [
       "<div>\n",
       "<style scoped>\n",
       "    .dataframe tbody tr th:only-of-type {\n",
       "        vertical-align: middle;\n",
       "    }\n",
       "\n",
       "    .dataframe tbody tr th {\n",
       "        vertical-align: top;\n",
       "    }\n",
       "\n",
       "    .dataframe thead th {\n",
       "        text-align: right;\n",
       "    }\n",
       "</style>\n",
       "<table border=\"1\" class=\"dataframe\">\n",
       "  <thead>\n",
       "    <tr style=\"text-align: right;\">\n",
       "      <th></th>\n",
       "      <th>Rank</th>\n",
       "      <th>NCT Number</th>\n",
       "      <th>Title</th>\n",
       "      <th>Acronym</th>\n",
       "      <th>Status</th>\n",
       "      <th>Study Results</th>\n",
       "      <th>Conditions</th>\n",
       "      <th>Interventions</th>\n",
       "      <th>Outcome Measures</th>\n",
       "      <th>Sponsor/Collaborators</th>\n",
       "      <th>...</th>\n",
       "      <th>Other IDs</th>\n",
       "      <th>Start Date</th>\n",
       "      <th>Primary Completion Date</th>\n",
       "      <th>Completion Date</th>\n",
       "      <th>First Posted</th>\n",
       "      <th>Results First Posted</th>\n",
       "      <th>Last Update Posted</th>\n",
       "      <th>Locations</th>\n",
       "      <th>Study Documents</th>\n",
       "      <th>URL</th>\n",
       "    </tr>\n",
       "  </thead>\n",
       "  <tbody>\n",
       "    <tr>\n",
       "      <th>0</th>\n",
       "      <td>1</td>\n",
       "      <td>NCT04785898</td>\n",
       "      <td>Diagnostic Performance of the ID Now™ COVID-19...</td>\n",
       "      <td>COVID-IDNow</td>\n",
       "      <td>Active, not recruiting</td>\n",
       "      <td>No Results Available</td>\n",
       "      <td>Covid19</td>\n",
       "      <td>Diagnostic Test: ID Now™ COVID-19 Screening Test</td>\n",
       "      <td>Evaluate the diagnostic performance of the ID ...</td>\n",
       "      <td>Groupe Hospitalier Paris Saint Joseph</td>\n",
       "      <td>...</td>\n",
       "      <td>COVID-IDNow</td>\n",
       "      <td>November 9, 2020</td>\n",
       "      <td>December 22, 2020</td>\n",
       "      <td>April 30, 2021</td>\n",
       "      <td>March 8, 2021</td>\n",
       "      <td>NaN</td>\n",
       "      <td>March 8, 2021</td>\n",
       "      <td>Groupe Hospitalier Paris Saint-Joseph, Paris, ...</td>\n",
       "      <td>NaN</td>\n",
       "      <td>https://ClinicalTrials.gov/show/NCT04785898</td>\n",
       "    </tr>\n",
       "    <tr>\n",
       "      <th>1</th>\n",
       "      <td>2</td>\n",
       "      <td>NCT04595136</td>\n",
       "      <td>Study to Evaluate the Efficacy of COVID19-0001...</td>\n",
       "      <td>COVID-19</td>\n",
       "      <td>Not yet recruiting</td>\n",
       "      <td>No Results Available</td>\n",
       "      <td>SARS-CoV-2 Infection</td>\n",
       "      <td>Drug: Drug COVID19-0001-USR|Drug: normal saline</td>\n",
       "      <td>Change on viral load results from baseline aft...</td>\n",
       "      <td>United Medical Specialties</td>\n",
       "      <td>...</td>\n",
       "      <td>COVID19-0001-USR</td>\n",
       "      <td>November 2, 2020</td>\n",
       "      <td>December 15, 2020</td>\n",
       "      <td>January 29, 2021</td>\n",
       "      <td>October 20, 2020</td>\n",
       "      <td>NaN</td>\n",
       "      <td>October 20, 2020</td>\n",
       "      <td>Cimedical, Barranquilla, Atlantico, Colombia</td>\n",
       "      <td>NaN</td>\n",
       "      <td>https://ClinicalTrials.gov/show/NCT04595136</td>\n",
       "    </tr>\n",
       "  </tbody>\n",
       "</table>\n",
       "<p>2 rows × 27 columns</p>\n",
       "</div>"
      ],
      "text/plain": [
       "   Rank   NCT Number                                              Title  \\\n",
       "0     1  NCT04785898  Diagnostic Performance of the ID Now™ COVID-19...   \n",
       "1     2  NCT04595136  Study to Evaluate the Efficacy of COVID19-0001...   \n",
       "\n",
       "       Acronym                  Status         Study Results  \\\n",
       "0  COVID-IDNow  Active, not recruiting  No Results Available   \n",
       "1     COVID-19      Not yet recruiting  No Results Available   \n",
       "\n",
       "             Conditions                                     Interventions  \\\n",
       "0               Covid19  Diagnostic Test: ID Now™ COVID-19 Screening Test   \n",
       "1  SARS-CoV-2 Infection   Drug: Drug COVID19-0001-USR|Drug: normal saline   \n",
       "\n",
       "                                    Outcome Measures  \\\n",
       "0  Evaluate the diagnostic performance of the ID ...   \n",
       "1  Change on viral load results from baseline aft...   \n",
       "\n",
       "                   Sponsor/Collaborators  ...         Other IDs  \\\n",
       "0  Groupe Hospitalier Paris Saint Joseph  ...       COVID-IDNow   \n",
       "1             United Medical Specialties  ...  COVID19-0001-USR   \n",
       "\n",
       "         Start Date Primary Completion Date   Completion Date  \\\n",
       "0  November 9, 2020       December 22, 2020    April 30, 2021   \n",
       "1  November 2, 2020       December 15, 2020  January 29, 2021   \n",
       "\n",
       "       First Posted Results First Posted Last Update Posted  \\\n",
       "0     March 8, 2021                  NaN      March 8, 2021   \n",
       "1  October 20, 2020                  NaN   October 20, 2020   \n",
       "\n",
       "                                           Locations Study Documents  \\\n",
       "0  Groupe Hospitalier Paris Saint-Joseph, Paris, ...             NaN   \n",
       "1       Cimedical, Barranquilla, Atlantico, Colombia             NaN   \n",
       "\n",
       "                                           URL  \n",
       "0  https://ClinicalTrials.gov/show/NCT04785898  \n",
       "1  https://ClinicalTrials.gov/show/NCT04595136  \n",
       "\n",
       "[2 rows x 27 columns]"
      ]
     },
     "execution_count": 46,
     "metadata": {},
     "output_type": "execute_result"
    }
   ],
   "source": [
    "raw_data = pd.read_csv(\"COVID clinical trials.csv\")\n",
    "df = raw_data.copy()\n",
    "df.head(2)\n"
   ]
  },
  {
   "cell_type": "markdown",
   "id": "dfaede38-0e5b-4dfa-a5b6-ece058ef4a23",
   "metadata": {},
   "source": [
    "# Basic Info"
   ]
  },
  {
   "cell_type": "code",
   "execution_count": 47,
   "id": "fdb015f5-f71d-4b50-acef-6447fbd695ec",
   "metadata": {},
   "outputs": [
    {
     "name": "stdout",
     "output_type": "stream",
     "text": [
      "<class 'pandas.core.frame.DataFrame'>\n",
      "RangeIndex: 5783 entries, 0 to 5782\n",
      "Data columns (total 27 columns):\n",
      " #   Column                   Non-Null Count  Dtype  \n",
      "---  ------                   --------------  -----  \n",
      " 0   Rank                     5783 non-null   int64  \n",
      " 1   NCT Number               5783 non-null   object \n",
      " 2   Title                    5783 non-null   object \n",
      " 3   Acronym                  2480 non-null   object \n",
      " 4   Status                   5783 non-null   object \n",
      " 5   Study Results            5783 non-null   object \n",
      " 6   Conditions               5783 non-null   object \n",
      " 7   Interventions            4897 non-null   object \n",
      " 8   Outcome Measures         5748 non-null   object \n",
      " 9   Sponsor/Collaborators    5783 non-null   object \n",
      " 10  Gender                   5773 non-null   object \n",
      " 11  Age                      5783 non-null   object \n",
      " 12  Phases                   3322 non-null   object \n",
      " 13  Enrollment               5749 non-null   float64\n",
      " 14  Funded Bys               5783 non-null   object \n",
      " 15  Study Type               5783 non-null   object \n",
      " 16  Study Designs            5748 non-null   object \n",
      " 17  Other IDs                5782 non-null   object \n",
      " 18  Start Date               5749 non-null   object \n",
      " 19  Primary Completion Date  5747 non-null   object \n",
      " 20  Completion Date          5747 non-null   object \n",
      " 21  First Posted             5783 non-null   object \n",
      " 22  Results First Posted     36 non-null     object \n",
      " 23  Last Update Posted       5783 non-null   object \n",
      " 24  Locations                5198 non-null   object \n",
      " 25  Study Documents          182 non-null    object \n",
      " 26  URL                      5783 non-null   object \n",
      "dtypes: float64(1), int64(1), object(25)\n",
      "memory usage: 1.2+ MB\n"
     ]
    }
   ],
   "source": [
    "df.info()"
   ]
  },
  {
   "cell_type": "code",
   "execution_count": 48,
   "id": "6c63aaad-443f-429e-b3ad-7e0a79bb992c",
   "metadata": {},
   "outputs": [
    {
     "data": {
      "text/plain": [
       "(5783, 27)"
      ]
     },
     "execution_count": 48,
     "metadata": {},
     "output_type": "execute_result"
    }
   ],
   "source": [
    "df.shape"
   ]
  },
  {
   "cell_type": "code",
   "execution_count": 49,
   "id": "521158f0-4f12-4e69-98d4-d150a1ae6a61",
   "metadata": {},
   "outputs": [
    {
     "data": {
      "text/html": [
       "<div>\n",
       "<style scoped>\n",
       "    .dataframe tbody tr th:only-of-type {\n",
       "        vertical-align: middle;\n",
       "    }\n",
       "\n",
       "    .dataframe tbody tr th {\n",
       "        vertical-align: top;\n",
       "    }\n",
       "\n",
       "    .dataframe thead th {\n",
       "        text-align: right;\n",
       "    }\n",
       "</style>\n",
       "<table border=\"1\" class=\"dataframe\">\n",
       "  <thead>\n",
       "    <tr style=\"text-align: right;\">\n",
       "      <th></th>\n",
       "      <th>count</th>\n",
       "      <th>unique</th>\n",
       "      <th>top</th>\n",
       "      <th>freq</th>\n",
       "    </tr>\n",
       "  </thead>\n",
       "  <tbody>\n",
       "    <tr>\n",
       "      <th>Results First Posted</th>\n",
       "      <td>36</td>\n",
       "      <td>33</td>\n",
       "      <td>November 4, 2020</td>\n",
       "      <td>2</td>\n",
       "    </tr>\n",
       "    <tr>\n",
       "      <th>Study Documents</th>\n",
       "      <td>182</td>\n",
       "      <td>182</td>\n",
       "      <td>\"Statistical Analysis Plan\", https://ClinicalT...</td>\n",
       "      <td>1</td>\n",
       "    </tr>\n",
       "    <tr>\n",
       "      <th>Acronym</th>\n",
       "      <td>2480</td>\n",
       "      <td>2338</td>\n",
       "      <td>COVID-19</td>\n",
       "      <td>47</td>\n",
       "    </tr>\n",
       "    <tr>\n",
       "      <th>Phases</th>\n",
       "      <td>3322</td>\n",
       "      <td>8</td>\n",
       "      <td>Not Applicable</td>\n",
       "      <td>1354</td>\n",
       "    </tr>\n",
       "    <tr>\n",
       "      <th>Interventions</th>\n",
       "      <td>4897</td>\n",
       "      <td>4337</td>\n",
       "      <td>Other: No intervention</td>\n",
       "      <td>32</td>\n",
       "    </tr>\n",
       "    <tr>\n",
       "      <th>Locations</th>\n",
       "      <td>5198</td>\n",
       "      <td>4255</td>\n",
       "      <td>Uhmontpellier, Montpellier, France</td>\n",
       "      <td>19</td>\n",
       "    </tr>\n",
       "    <tr>\n",
       "      <th>Primary Completion Date</th>\n",
       "      <td>5747</td>\n",
       "      <td>877</td>\n",
       "      <td>December 31, 2020</td>\n",
       "      <td>122</td>\n",
       "    </tr>\n",
       "    <tr>\n",
       "      <th>Completion Date</th>\n",
       "      <td>5747</td>\n",
       "      <td>978</td>\n",
       "      <td>December 31, 2021</td>\n",
       "      <td>179</td>\n",
       "    </tr>\n",
       "    <tr>\n",
       "      <th>Study Designs</th>\n",
       "      <td>5748</td>\n",
       "      <td>267</td>\n",
       "      <td>Observational Model: Cohort|Time Perspective: ...</td>\n",
       "      <td>1011</td>\n",
       "    </tr>\n",
       "    <tr>\n",
       "      <th>Outcome Measures</th>\n",
       "      <td>5748</td>\n",
       "      <td>5687</td>\n",
       "      <td>Mortality</td>\n",
       "      <td>5</td>\n",
       "    </tr>\n",
       "    <tr>\n",
       "      <th>Start Date</th>\n",
       "      <td>5749</td>\n",
       "      <td>654</td>\n",
       "      <td>May 1, 2020</td>\n",
       "      <td>113</td>\n",
       "    </tr>\n",
       "    <tr>\n",
       "      <th>Gender</th>\n",
       "      <td>5773</td>\n",
       "      <td>3</td>\n",
       "      <td>All</td>\n",
       "      <td>5567</td>\n",
       "    </tr>\n",
       "    <tr>\n",
       "      <th>Other IDs</th>\n",
       "      <td>5782</td>\n",
       "      <td>5734</td>\n",
       "      <td>COVID-19</td>\n",
       "      <td>6</td>\n",
       "    </tr>\n",
       "    <tr>\n",
       "      <th>Study Results</th>\n",
       "      <td>5783</td>\n",
       "      <td>2</td>\n",
       "      <td>No Results Available</td>\n",
       "      <td>5747</td>\n",
       "    </tr>\n",
       "    <tr>\n",
       "      <th>Study Type</th>\n",
       "      <td>5783</td>\n",
       "      <td>9</td>\n",
       "      <td>Interventional</td>\n",
       "      <td>3322</td>\n",
       "    </tr>\n",
       "    <tr>\n",
       "      <th>Status</th>\n",
       "      <td>5783</td>\n",
       "      <td>12</td>\n",
       "      <td>Recruiting</td>\n",
       "      <td>2805</td>\n",
       "    </tr>\n",
       "    <tr>\n",
       "      <th>Funded Bys</th>\n",
       "      <td>5783</td>\n",
       "      <td>26</td>\n",
       "      <td>Other</td>\n",
       "      <td>4488</td>\n",
       "    </tr>\n",
       "    <tr>\n",
       "      <th>Last Update Posted</th>\n",
       "      <td>5783</td>\n",
       "      <td>269</td>\n",
       "      <td>April 8, 2021</td>\n",
       "      <td>109</td>\n",
       "    </tr>\n",
       "    <tr>\n",
       "      <th>Age</th>\n",
       "      <td>5783</td>\n",
       "      <td>417</td>\n",
       "      <td>18 Years and older   (Adult, Older Adult)</td>\n",
       "      <td>2885</td>\n",
       "    </tr>\n",
       "    <tr>\n",
       "      <th>First Posted</th>\n",
       "      <td>5783</td>\n",
       "      <td>438</td>\n",
       "      <td>April 24, 2020</td>\n",
       "      <td>108</td>\n",
       "    </tr>\n",
       "    <tr>\n",
       "      <th>Conditions</th>\n",
       "      <td>5783</td>\n",
       "      <td>3067</td>\n",
       "      <td>COVID-19</td>\n",
       "      <td>720</td>\n",
       "    </tr>\n",
       "    <tr>\n",
       "      <th>Sponsor/Collaborators</th>\n",
       "      <td>5783</td>\n",
       "      <td>3631</td>\n",
       "      <td>Assistance Publique - Hôpitaux de Paris</td>\n",
       "      <td>78</td>\n",
       "    </tr>\n",
       "    <tr>\n",
       "      <th>Title</th>\n",
       "      <td>5783</td>\n",
       "      <td>5775</td>\n",
       "      <td>Study Assessing Vagus Nerve Stimulation in CoV...</td>\n",
       "      <td>2</td>\n",
       "    </tr>\n",
       "    <tr>\n",
       "      <th>NCT Number</th>\n",
       "      <td>5783</td>\n",
       "      <td>5783</td>\n",
       "      <td>NCT04785898</td>\n",
       "      <td>1</td>\n",
       "    </tr>\n",
       "    <tr>\n",
       "      <th>URL</th>\n",
       "      <td>5783</td>\n",
       "      <td>5783</td>\n",
       "      <td>https://ClinicalTrials.gov/show/NCT04785898</td>\n",
       "      <td>1</td>\n",
       "    </tr>\n",
       "  </tbody>\n",
       "</table>\n",
       "</div>"
      ],
      "text/plain": [
       "                        count unique  \\\n",
       "Results First Posted       36     33   \n",
       "Study Documents           182    182   \n",
       "Acronym                  2480   2338   \n",
       "Phases                   3322      8   \n",
       "Interventions            4897   4337   \n",
       "Locations                5198   4255   \n",
       "Primary Completion Date  5747    877   \n",
       "Completion Date          5747    978   \n",
       "Study Designs            5748    267   \n",
       "Outcome Measures         5748   5687   \n",
       "Start Date               5749    654   \n",
       "Gender                   5773      3   \n",
       "Other IDs                5782   5734   \n",
       "Study Results            5783      2   \n",
       "Study Type               5783      9   \n",
       "Status                   5783     12   \n",
       "Funded Bys               5783     26   \n",
       "Last Update Posted       5783    269   \n",
       "Age                      5783    417   \n",
       "First Posted             5783    438   \n",
       "Conditions               5783   3067   \n",
       "Sponsor/Collaborators    5783   3631   \n",
       "Title                    5783   5775   \n",
       "NCT Number               5783   5783   \n",
       "URL                      5783   5783   \n",
       "\n",
       "                                                                       top  \\\n",
       "Results First Posted                                      November 4, 2020   \n",
       "Study Documents          \"Statistical Analysis Plan\", https://ClinicalT...   \n",
       "Acronym                                                           COVID-19   \n",
       "Phases                                                      Not Applicable   \n",
       "Interventions                                       Other: No intervention   \n",
       "Locations                               Uhmontpellier, Montpellier, France   \n",
       "Primary Completion Date                                  December 31, 2020   \n",
       "Completion Date                                          December 31, 2021   \n",
       "Study Designs            Observational Model: Cohort|Time Perspective: ...   \n",
       "Outcome Measures                                                 Mortality   \n",
       "Start Date                                                     May 1, 2020   \n",
       "Gender                                                                 All   \n",
       "Other IDs                                                         COVID-19   \n",
       "Study Results                                         No Results Available   \n",
       "Study Type                                                  Interventional   \n",
       "Status                                                          Recruiting   \n",
       "Funded Bys                                                           Other   \n",
       "Last Update Posted                                           April 8, 2021   \n",
       "Age                              18 Years and older   (Adult, Older Adult)   \n",
       "First Posted                                                April 24, 2020   \n",
       "Conditions                                                        COVID-19   \n",
       "Sponsor/Collaborators              Assistance Publique - Hôpitaux de Paris   \n",
       "Title                    Study Assessing Vagus Nerve Stimulation in CoV...   \n",
       "NCT Number                                                     NCT04785898   \n",
       "URL                            https://ClinicalTrials.gov/show/NCT04785898   \n",
       "\n",
       "                         freq  \n",
       "Results First Posted        2  \n",
       "Study Documents             1  \n",
       "Acronym                    47  \n",
       "Phases                   1354  \n",
       "Interventions              32  \n",
       "Locations                  19  \n",
       "Primary Completion Date   122  \n",
       "Completion Date           179  \n",
       "Study Designs            1011  \n",
       "Outcome Measures            5  \n",
       "Start Date                113  \n",
       "Gender                   5567  \n",
       "Other IDs                   6  \n",
       "Study Results            5747  \n",
       "Study Type               3322  \n",
       "Status                   2805  \n",
       "Funded Bys               4488  \n",
       "Last Update Posted        109  \n",
       "Age                      2885  \n",
       "First Posted              108  \n",
       "Conditions                720  \n",
       "Sponsor/Collaborators      78  \n",
       "Title                       2  \n",
       "NCT Number                  1  \n",
       "URL                         1  "
      ]
     },
     "execution_count": 49,
     "metadata": {},
     "output_type": "execute_result"
    }
   ],
   "source": [
    "#Summary Statistics for Categorical Columns\n",
    "df.describe(include='object').T.sort_values(by = ['count','unique'],ascending = True)"
   ]
  },
  {
   "cell_type": "markdown",
   "id": "0339d8cd-7fac-404d-9e53-ba54c1d74074",
   "metadata": {},
   "source": [
    "# Dropping Unnecessary Columns"
   ]
  },
  {
   "cell_type": "code",
   "execution_count": 50,
   "id": "a5df920c-477b-4b84-a0ae-0208f69ba716",
   "metadata": {},
   "outputs": [],
   "source": [
    "#dropping columns as they have enourmous amount of missing values\n",
    "col_to_drop = ['Results First Posted','Study Documents','Study Results','Rank']\n",
    "for i in col_to_drop:\n",
    "    df.drop([i],axis =1,inplace = True)"
   ]
  },
  {
   "cell_type": "code",
   "execution_count": 51,
   "id": "10aeac6a-1bd4-457a-bf0d-4f706ebeb4ad",
   "metadata": {},
   "outputs": [
    {
     "data": {
      "text/plain": [
       "Index(['NCT Number', 'Title', 'Acronym', 'Status', 'Conditions',\n",
       "       'Interventions', 'Outcome Measures', 'Sponsor/Collaborators', 'Gender',\n",
       "       'Age', 'Phases', 'Enrollment', 'Funded Bys', 'Study Type',\n",
       "       'Study Designs', 'Other IDs', 'Start Date', 'Primary Completion Date',\n",
       "       'Completion Date', 'First Posted', 'Last Update Posted', 'Locations'],\n",
       "      dtype='object')"
      ]
     },
     "execution_count": 51,
     "metadata": {},
     "output_type": "execute_result"
    }
   ],
   "source": [
    "df = df.drop(['URL'],axis = 1)\n",
    "df.columns"
   ]
  },
  {
   "cell_type": "code",
   "execution_count": 52,
   "id": "f60d5941-2c66-45db-9da3-aac11be35085",
   "metadata": {},
   "outputs": [
    {
     "data": {
      "text/plain": [
       "(5783, 22)"
      ]
     },
     "execution_count": 52,
     "metadata": {},
     "output_type": "execute_result"
    }
   ],
   "source": [
    "df.shape "
   ]
  },
  {
   "cell_type": "markdown",
   "id": "3b5280a5-286c-4daf-9896-2dd663f3e0d0",
   "metadata": {},
   "source": [
    "# Duplicted Rows"
   ]
  },
  {
   "cell_type": "code",
   "execution_count": 53,
   "id": "a7165339-7bf2-455d-851a-fea70e318b2e",
   "metadata": {},
   "outputs": [
    {
     "data": {
      "text/plain": [
       "False"
      ]
     },
     "execution_count": 53,
     "metadata": {},
     "output_type": "execute_result"
    }
   ],
   "source": [
    "df.duplicated().any()"
   ]
  },
  {
   "cell_type": "markdown",
   "id": "56c7d6d4-fcd9-44e3-882a-16f6ca205c61",
   "metadata": {},
   "source": [
    "# Handling Missing Values"
   ]
  },
  {
   "cell_type": "code",
   "execution_count": 54,
   "id": "4f7ded3d-0f35-41aa-a9cf-7a0d0c8dff48",
   "metadata": {},
   "outputs": [
    {
     "data": {
      "text/plain": [
       "Acronym                    3303\n",
       "Phases                     2461\n",
       "Interventions               886\n",
       "Locations                   585\n",
       "Primary Completion Date      36\n",
       "Completion Date              36\n",
       "Outcome Measures             35\n",
       "Study Designs                35\n",
       "Enrollment                   34\n",
       "Start Date                   34\n",
       "Gender                       10\n",
       "Other IDs                     1\n",
       "dtype: int64"
      ]
     },
     "execution_count": 54,
     "metadata": {},
     "output_type": "execute_result"
    }
   ],
   "source": [
    "#Displaying Columns with Missing Values in Descending Order\n",
    "\n",
    "df.isnull().sum()[df.isnull().sum().sort_values(ascending = False)>0].sort_values(ascending = False)"
   ]
  },
  {
   "cell_type": "code",
   "execution_count": 55,
   "id": "577168b1-dcb7-49bc-a4d3-bcc5ca59b300",
   "metadata": {},
   "outputs": [
    {
     "data": {
      "text/plain": [
       "NCT Number                 0\n",
       "Title                      0\n",
       "Acronym                    0\n",
       "Status                     0\n",
       "Conditions                 0\n",
       "Interventions              0\n",
       "Outcome Measures           0\n",
       "Sponsor/Collaborators      0\n",
       "Gender                     0\n",
       "Age                        0\n",
       "Phases                     0\n",
       "Enrollment                 0\n",
       "Funded Bys                 0\n",
       "Study Type                 0\n",
       "Study Designs              0\n",
       "Other IDs                  0\n",
       "Start Date                 0\n",
       "Primary Completion Date    0\n",
       "Completion Date            0\n",
       "First Posted               0\n",
       "Last Update Posted         0\n",
       "Locations                  0\n",
       "dtype: int64"
      ]
     },
     "execution_count": 55,
     "metadata": {},
     "output_type": "execute_result"
    }
   ],
   "source": [
    "#filling the missing rows with 'unknown'. But before that convert the whole data set into object\n",
    "\n",
    "# Convert the entire DataFrame to object type\n",
    "df = df.astype(object)\n",
    "\n",
    "# Now fill missing values with 'unknown'\n",
    "df.fillna('unknown', inplace=True)\n",
    "\n",
    "#checking is there any missing values now\n",
    "df.isnull().sum()"
   ]
  },
  {
   "cell_type": "markdown",
   "id": "420a0fc7-15ae-4ea2-a4a5-42c0dac5f295",
   "metadata": {},
   "source": [
    "# Creating a Checkpoint"
   ]
  },
  {
   "cell_type": "code",
   "execution_count": 56,
   "id": "e2024388-2295-4199-8c37-d47159952d53",
   "metadata": {},
   "outputs": [
    {
     "data": {
      "text/html": [
       "<div>\n",
       "<style scoped>\n",
       "    .dataframe tbody tr th:only-of-type {\n",
       "        vertical-align: middle;\n",
       "    }\n",
       "\n",
       "    .dataframe tbody tr th {\n",
       "        vertical-align: top;\n",
       "    }\n",
       "\n",
       "    .dataframe thead th {\n",
       "        text-align: right;\n",
       "    }\n",
       "</style>\n",
       "<table border=\"1\" class=\"dataframe\">\n",
       "  <thead>\n",
       "    <tr style=\"text-align: right;\">\n",
       "      <th></th>\n",
       "      <th>NCT Number</th>\n",
       "      <th>Title</th>\n",
       "      <th>Acronym</th>\n",
       "      <th>Status</th>\n",
       "      <th>Conditions</th>\n",
       "      <th>Interventions</th>\n",
       "      <th>Outcome Measures</th>\n",
       "      <th>Sponsor/Collaborators</th>\n",
       "      <th>Gender</th>\n",
       "      <th>Age</th>\n",
       "      <th>...</th>\n",
       "      <th>Funded Bys</th>\n",
       "      <th>Study Type</th>\n",
       "      <th>Study Designs</th>\n",
       "      <th>Other IDs</th>\n",
       "      <th>Start Date</th>\n",
       "      <th>Primary Completion Date</th>\n",
       "      <th>Completion Date</th>\n",
       "      <th>First Posted</th>\n",
       "      <th>Last Update Posted</th>\n",
       "      <th>Locations</th>\n",
       "    </tr>\n",
       "  </thead>\n",
       "  <tbody>\n",
       "    <tr>\n",
       "      <th>0</th>\n",
       "      <td>NCT04785898</td>\n",
       "      <td>Diagnostic Performance of the ID Now™ COVID-19...</td>\n",
       "      <td>COVID-IDNow</td>\n",
       "      <td>Active, not recruiting</td>\n",
       "      <td>Covid19</td>\n",
       "      <td>Diagnostic Test: ID Now™ COVID-19 Screening Test</td>\n",
       "      <td>Evaluate the diagnostic performance of the ID ...</td>\n",
       "      <td>Groupe Hospitalier Paris Saint Joseph</td>\n",
       "      <td>All</td>\n",
       "      <td>18 Years and older   (Adult, Older Adult)</td>\n",
       "      <td>...</td>\n",
       "      <td>Other</td>\n",
       "      <td>Interventional</td>\n",
       "      <td>Allocation: N/A|Intervention Model: Single Gro...</td>\n",
       "      <td>COVID-IDNow</td>\n",
       "      <td>November 9, 2020</td>\n",
       "      <td>December 22, 2020</td>\n",
       "      <td>April 30, 2021</td>\n",
       "      <td>March 8, 2021</td>\n",
       "      <td>March 8, 2021</td>\n",
       "      <td>Groupe Hospitalier Paris Saint-Joseph, Paris, ...</td>\n",
       "    </tr>\n",
       "    <tr>\n",
       "      <th>1</th>\n",
       "      <td>NCT04595136</td>\n",
       "      <td>Study to Evaluate the Efficacy of COVID19-0001...</td>\n",
       "      <td>COVID-19</td>\n",
       "      <td>Not yet recruiting</td>\n",
       "      <td>SARS-CoV-2 Infection</td>\n",
       "      <td>Drug: Drug COVID19-0001-USR|Drug: normal saline</td>\n",
       "      <td>Change on viral load results from baseline aft...</td>\n",
       "      <td>United Medical Specialties</td>\n",
       "      <td>All</td>\n",
       "      <td>18 Years and older   (Adult, Older Adult)</td>\n",
       "      <td>...</td>\n",
       "      <td>Other</td>\n",
       "      <td>Interventional</td>\n",
       "      <td>Allocation: Randomized|Intervention Model: Par...</td>\n",
       "      <td>COVID19-0001-USR</td>\n",
       "      <td>November 2, 2020</td>\n",
       "      <td>December 15, 2020</td>\n",
       "      <td>January 29, 2021</td>\n",
       "      <td>October 20, 2020</td>\n",
       "      <td>October 20, 2020</td>\n",
       "      <td>Cimedical, Barranquilla, Atlantico, Colombia</td>\n",
       "    </tr>\n",
       "    <tr>\n",
       "      <th>2</th>\n",
       "      <td>NCT04395482</td>\n",
       "      <td>Lung CT Scan Analysis of SARS-CoV2 Induced Lun...</td>\n",
       "      <td>TAC-COVID19</td>\n",
       "      <td>Recruiting</td>\n",
       "      <td>covid19</td>\n",
       "      <td>Other: Lung CT scan analysis in COVID-19 patients</td>\n",
       "      <td>A qualitative analysis of parenchymal lung dam...</td>\n",
       "      <td>University of Milano Bicocca</td>\n",
       "      <td>All</td>\n",
       "      <td>18 Years and older   (Adult, Older Adult)</td>\n",
       "      <td>...</td>\n",
       "      <td>Other</td>\n",
       "      <td>Observational</td>\n",
       "      <td>Observational Model: Cohort|Time Perspective: ...</td>\n",
       "      <td>TAC-COVID19</td>\n",
       "      <td>May 7, 2020</td>\n",
       "      <td>June 15, 2021</td>\n",
       "      <td>June 15, 2021</td>\n",
       "      <td>May 20, 2020</td>\n",
       "      <td>November 9, 2020</td>\n",
       "      <td>Ospedale Papa Giovanni XXIII, Bergamo, Italy|P...</td>\n",
       "    </tr>\n",
       "  </tbody>\n",
       "</table>\n",
       "<p>3 rows × 22 columns</p>\n",
       "</div>"
      ],
      "text/plain": [
       "    NCT Number                                              Title  \\\n",
       "0  NCT04785898  Diagnostic Performance of the ID Now™ COVID-19...   \n",
       "1  NCT04595136  Study to Evaluate the Efficacy of COVID19-0001...   \n",
       "2  NCT04395482  Lung CT Scan Analysis of SARS-CoV2 Induced Lun...   \n",
       "\n",
       "       Acronym                  Status            Conditions  \\\n",
       "0  COVID-IDNow  Active, not recruiting               Covid19   \n",
       "1     COVID-19      Not yet recruiting  SARS-CoV-2 Infection   \n",
       "2  TAC-COVID19              Recruiting               covid19   \n",
       "\n",
       "                                       Interventions  \\\n",
       "0   Diagnostic Test: ID Now™ COVID-19 Screening Test   \n",
       "1    Drug: Drug COVID19-0001-USR|Drug: normal saline   \n",
       "2  Other: Lung CT scan analysis in COVID-19 patients   \n",
       "\n",
       "                                    Outcome Measures  \\\n",
       "0  Evaluate the diagnostic performance of the ID ...   \n",
       "1  Change on viral load results from baseline aft...   \n",
       "2  A qualitative analysis of parenchymal lung dam...   \n",
       "\n",
       "                   Sponsor/Collaborators Gender  \\\n",
       "0  Groupe Hospitalier Paris Saint Joseph    All   \n",
       "1             United Medical Specialties    All   \n",
       "2           University of Milano Bicocca    All   \n",
       "\n",
       "                                         Age  ... Funded Bys      Study Type  \\\n",
       "0  18 Years and older   (Adult, Older Adult)  ...      Other  Interventional   \n",
       "1  18 Years and older   (Adult, Older Adult)  ...      Other  Interventional   \n",
       "2  18 Years and older   (Adult, Older Adult)  ...      Other   Observational   \n",
       "\n",
       "                                       Study Designs         Other IDs  \\\n",
       "0  Allocation: N/A|Intervention Model: Single Gro...       COVID-IDNow   \n",
       "1  Allocation: Randomized|Intervention Model: Par...  COVID19-0001-USR   \n",
       "2  Observational Model: Cohort|Time Perspective: ...       TAC-COVID19   \n",
       "\n",
       "         Start Date Primary Completion Date   Completion Date  \\\n",
       "0  November 9, 2020       December 22, 2020    April 30, 2021   \n",
       "1  November 2, 2020       December 15, 2020  January 29, 2021   \n",
       "2       May 7, 2020           June 15, 2021     June 15, 2021   \n",
       "\n",
       "       First Posted Last Update Posted  \\\n",
       "0     March 8, 2021      March 8, 2021   \n",
       "1  October 20, 2020   October 20, 2020   \n",
       "2      May 20, 2020   November 9, 2020   \n",
       "\n",
       "                                           Locations  \n",
       "0  Groupe Hospitalier Paris Saint-Joseph, Paris, ...  \n",
       "1       Cimedical, Barranquilla, Atlantico, Colombia  \n",
       "2  Ospedale Papa Giovanni XXIII, Bergamo, Italy|P...  \n",
       "\n",
       "[3 rows x 22 columns]"
      ]
     },
     "execution_count": 56,
     "metadata": {},
     "output_type": "execute_result"
    }
   ],
   "source": [
    "df_cleaned = df.copy()\n",
    "df_cleaned.head(3)"
   ]
  },
  {
   "cell_type": "code",
   "execution_count": 57,
   "id": "8768ae40-0c58-45f2-b2e1-e47073a1e738",
   "metadata": {},
   "outputs": [],
   "source": [
    "#saving the cleaned data \n",
    "df_cleaned.to_csv('Cleaned_COVID-19 Clinical Trials.csv', index=False)"
   ]
  },
  {
   "cell_type": "markdown",
   "id": "2b340868-192c-49ae-a964-7dec8260c941",
   "metadata": {},
   "source": [
    "# Data Manipulation"
   ]
  },
  {
   "cell_type": "code",
   "execution_count": 58,
   "id": "d6d6aa70-dd36-4c3d-af8c-36834c88a508",
   "metadata": {},
   "outputs": [],
   "source": [
    "# Show all columns and rows\n",
    "pd.options.display.max_columns = None\n",
    "pd.options.display.max_rows = None\n",
    "\n",
    "# Reset all display options to default\n",
    "pd.reset_option('display')\n",
    "\n",
    "import numpy as np\n",
    "np.set_printoptions(threshold=np.inf)"
   ]
  },
  {
   "cell_type": "markdown",
   "id": "7cc0cc33-40bd-4a35-bbd8-f80a79aa4e7a",
   "metadata": {},
   "source": [
    "### Acronym column"
   ]
  },
  {
   "cell_type": "code",
   "execution_count": 59,
   "id": "fb9502df-9bad-43b5-83f9-4175445177c8",
   "metadata": {},
   "outputs": [
    {
     "data": {
      "text/plain": [
       "2339"
      ]
     },
     "execution_count": 59,
     "metadata": {},
     "output_type": "execute_result"
    }
   ],
   "source": [
    "df_cleaned['Acronym'].unique().size"
   ]
  },
  {
   "cell_type": "markdown",
   "id": "2bd4df66-317b-43eb-aeae-ae2380dba062",
   "metadata": {},
   "source": [
    "### Standardize Acronym Column by Replacing Entries that are Containing 'covid' with 'Covid"
   ]
  },
  {
   "cell_type": "code",
   "execution_count": 60,
   "id": "47c8eb84-3ddc-41c3-aa32-fa7080fc398f",
   "metadata": {},
   "outputs": [
    {
     "data": {
      "text/plain": [
       "1650"
      ]
     },
     "execution_count": 60,
     "metadata": {},
     "output_type": "execute_result"
    }
   ],
   "source": [
    "df_cleaned['Acronym'] = df_cleaned['Acronym'].apply(lambda x: 'Covid' if 'covid' in str(x).lower() else x)\n",
    "df_cleaned['Acronym'].unique().size"
   ]
  },
  {
   "cell_type": "markdown",
   "id": "316cbefd-4579-41e3-9dbb-c75b31a853fa",
   "metadata": {},
   "source": [
    "All the values that contain string \"covid\" now is being displayed as \"Covid\".So the unique values are 1650 now "
   ]
  },
  {
   "cell_type": "code",
   "execution_count": 61,
   "id": "b65622ea-c006-49d5-8e14-0d79d165bd6f",
   "metadata": {},
   "outputs": [
    {
     "data": {
      "text/plain": [
       "array(['Active, not recruiting', 'Not yet recruiting', 'Recruiting',\n",
       "       'Enrolling by invitation', 'Suspended', 'Completed', 'Withdrawn',\n",
       "       'Terminated', 'No longer available', 'Available',\n",
       "       'Approved for marketing', 'Temporarily not available'],\n",
       "      dtype=object)"
      ]
     },
     "execution_count": 61,
     "metadata": {},
     "output_type": "execute_result"
    }
   ],
   "source": [
    "df_cleaned['Status'].unique()"
   ]
  },
  {
   "cell_type": "markdown",
   "id": "e75472da-17c2-40e7-80ed-61f487d95168",
   "metadata": {},
   "source": [
    "### Conditions Column"
   ]
  },
  {
   "cell_type": "code",
   "execution_count": 62,
   "id": "74a6c4d1-3de4-4221-b9ef-b883527eb15a",
   "metadata": {},
   "outputs": [
    {
     "data": {
      "text/plain": [
       "3067"
      ]
     },
     "execution_count": 62,
     "metadata": {},
     "output_type": "execute_result"
    }
   ],
   "source": [
    "df_cleaned['Conditions'].unique().size"
   ]
  },
  {
   "cell_type": "code",
   "execution_count": 63,
   "id": "5b7b848f-af26-4471-b2a6-0315d6e45024",
   "metadata": {},
   "outputs": [
    {
     "data": {
      "text/plain": [
       "1339"
      ]
     },
     "execution_count": 63,
     "metadata": {},
     "output_type": "execute_result"
    }
   ],
   "source": [
    "df_cleaned['Conditions'] = df_cleaned['Conditions'].apply(lambda x: 'Covid' if 'covid' in str(x).lower() else x)\n",
    "df_cleaned['Conditions'].unique().size"
   ]
  },
  {
   "cell_type": "code",
   "execution_count": 64,
   "id": "2020ad47-840f-4818-a25e-0e4caf488e42",
   "metadata": {},
   "outputs": [
    {
     "data": {
      "text/plain": [
       "5688"
      ]
     },
     "execution_count": 64,
     "metadata": {},
     "output_type": "execute_result"
    }
   ],
   "source": [
    "df_cleaned['Outcome Measures'].unique().size"
   ]
  },
  {
   "cell_type": "code",
   "execution_count": 65,
   "id": "e7aefa4c-7843-4122-a4a4-a9f1ebe139b5",
   "metadata": {},
   "outputs": [
    {
     "data": {
      "text/plain": [
       "3631"
      ]
     },
     "execution_count": 65,
     "metadata": {},
     "output_type": "execute_result"
    }
   ],
   "source": [
    "df_cleaned['Sponsor/Collaborators'].unique().size"
   ]
  },
  {
   "cell_type": "markdown",
   "id": "4737c12a-1b7e-4194-8142-d9bfa1335c08",
   "metadata": {},
   "source": [
    "### Gender Columns"
   ]
  },
  {
   "cell_type": "code",
   "execution_count": 66,
   "id": "65d81c55-f5c3-4554-ab2d-3f0676458b61",
   "metadata": {},
   "outputs": [
    {
     "data": {
      "text/plain": [
       "array(['Male', 'Female', 'other'], dtype=object)"
      ]
     },
     "execution_count": 66,
     "metadata": {},
     "output_type": "execute_result"
    }
   ],
   "source": [
    "df_cleaned['Gender'] = df_cleaned['Gender'].replace({'All': 'Male','unknown' : 'other'})\n",
    "df_cleaned['Gender'].unique()"
   ]
  },
  {
   "cell_type": "code",
   "execution_count": 67,
   "id": "e8edf339-7509-4c2d-8130-09804d2059b5",
   "metadata": {},
   "outputs": [
    {
     "data": {
      "text/plain": [
       "Age\n",
       "18 Years and older   (Adult, Older Adult)      2885\n",
       "Child, Adult, Older Adult                       486\n",
       "18 Years to 80 Years   (Adult, Older Adult)     221\n",
       "18 Years to 65 Years   (Adult, Older Adult)     155\n",
       "18 Years to 75 Years   (Adult, Older Adult)     135\n",
       "Name: count, dtype: int64"
      ]
     },
     "execution_count": 67,
     "metadata": {},
     "output_type": "execute_result"
    }
   ],
   "source": [
    "df_cleaned['Age'].value_counts().sort_values(ascending = False).head()"
   ]
  },
  {
   "cell_type": "code",
   "execution_count": 68,
   "id": "8b363624-5274-4978-9f33-4ee67ef9759d",
   "metadata": {},
   "outputs": [
    {
     "data": {
      "text/plain": [
       "array(['Not Applicable', 'Phase 1|Phase 2', 'unknown', 'Early Phase 1',\n",
       "       'Phase 2|Phase 3', 'Phase 1', 'Phase 4', 'Phase 2', 'Phase 3'],\n",
       "      dtype=object)"
      ]
     },
     "execution_count": 68,
     "metadata": {},
     "output_type": "execute_result"
    }
   ],
   "source": [
    "df_cleaned['Phases'].unique()"
   ]
  },
  {
   "cell_type": "code",
   "execution_count": 69,
   "id": "ba762161-e195-4588-8493-df5eede8e617",
   "metadata": {},
   "outputs": [
    {
     "data": {
      "text/plain": [
       "963"
      ]
     },
     "execution_count": 69,
     "metadata": {},
     "output_type": "execute_result"
    }
   ],
   "source": [
    "df_cleaned['Enrollment'].unique().size"
   ]
  },
  {
   "cell_type": "code",
   "execution_count": 70,
   "id": "c4326f40-5c55-47b4-90a5-d7a0fb1c4713",
   "metadata": {},
   "outputs": [
    {
     "data": {
      "text/plain": [
       "array(['Other', 'Industry', 'Industry|Other', 'Other|Industry',\n",
       "       'Other|U.S. Fed', 'NIH', 'Other|NIH', 'NIH|Other|Industry',\n",
       "       'NIH|Other', 'NIH|Industry', 'Industry|U.S. Fed', 'U.S. Fed|Other',\n",
       "       'Other|U.S. Fed|NIH', 'Industry|U.S. Fed|Other',\n",
       "       'Other|NIH|U.S. Fed', 'Industry|NIH|Other',\n",
       "       'Industry|Other|U.S. Fed', 'Industry|NIH',\n",
       "       'Other|U.S. Fed|Industry', 'U.S. Fed', 'NIH|Industry|Other',\n",
       "       'NIH|Other|U.S. Fed|Industry', 'Industry|U.S. Fed|NIH',\n",
       "       'Other|Industry|NIH', 'Other|NIH|Industry', 'Industry|Other|NIH'],\n",
       "      dtype=object)"
      ]
     },
     "execution_count": 70,
     "metadata": {},
     "output_type": "execute_result"
    }
   ],
   "source": [
    "df_cleaned['Funded Bys'].unique()"
   ]
  },
  {
   "cell_type": "code",
   "execution_count": 71,
   "id": "101fa343-c762-4087-ba7b-7f234b5dcb53",
   "metadata": {},
   "outputs": [
    {
     "data": {
      "text/plain": [
       "Study Type\n",
       "Interventional                                                         3322\n",
       "Observational                                                          2427\n",
       "Expanded Access:Intermediate-size Population                             15\n",
       "Expanded Access:Treatment IND/Protocol                                    8\n",
       "Expanded Access:Intermediate-size Population|Treatment IND/Protocol       5\n",
       "Expanded Access:Individual Patients                                       3\n",
       "Expanded Access:Individual Patients|Intermediate-size Population          1\n",
       "Expanded Access                                                           1\n",
       "Expanded Access:Individual Patients|Treatment IND/Protocol                1\n",
       "Name: count, dtype: int64"
      ]
     },
     "execution_count": 71,
     "metadata": {},
     "output_type": "execute_result"
    }
   ],
   "source": [
    "df_cleaned['Study Type'].value_counts()"
   ]
  },
  {
   "cell_type": "code",
   "execution_count": 72,
   "id": "bd698013-8893-4ecb-b0e8-ecab6c1bc469",
   "metadata": {},
   "outputs": [
    {
     "data": {
      "text/plain": [
       "268"
      ]
     },
     "execution_count": 72,
     "metadata": {},
     "output_type": "execute_result"
    }
   ],
   "source": [
    "df_cleaned['Study Designs'].unique().size"
   ]
  },
  {
   "cell_type": "code",
   "execution_count": 73,
   "id": "efba4129-01f9-4276-902b-2604d718a7a9",
   "metadata": {},
   "outputs": [
    {
     "data": {
      "text/plain": [
       "5735"
      ]
     },
     "execution_count": 73,
     "metadata": {},
     "output_type": "execute_result"
    }
   ],
   "source": [
    "df_cleaned['Other IDs'].unique().size"
   ]
  },
  {
   "cell_type": "markdown",
   "id": "3271558e-47ca-4d0e-8c68-93dca9f86353",
   "metadata": {},
   "source": [
    "### Start Date columns"
   ]
  },
  {
   "cell_type": "code",
   "execution_count": 74,
   "id": "5ac8f148-76f3-495f-b2ea-a6b18085b8c8",
   "metadata": {},
   "outputs": [
    {
     "data": {
      "text/plain": [
       "0    November 9, 2020\n",
       "1    November 2, 2020\n",
       "2         May 7, 2020\n",
       "3        May 25, 2020\n",
       "4         May 5, 2020\n",
       "Name: Start Date, dtype: object"
      ]
     },
     "execution_count": 74,
     "metadata": {},
     "output_type": "execute_result"
    }
   ],
   "source": [
    "df_cleaned['Start Date'].head()"
   ]
  },
  {
   "cell_type": "code",
   "execution_count": 75,
   "id": "c9347534-8585-4c81-9131-c77464451766",
   "metadata": {},
   "outputs": [
    {
     "name": "stdout",
     "output_type": "stream",
     "text": [
      "0   2020-11-09\n",
      "1   2020-11-02\n",
      "2   2020-05-07\n",
      "3   2020-05-25\n",
      "4   2020-05-05\n",
      "Name: Start Date, dtype: datetime64[ns]\n"
     ]
    }
   ],
   "source": [
    "#changing datatypes to datetime\n",
    "\n",
    "# Function to handle both formats\n",
    "def parse_dates(date_str):\n",
    "    try:\n",
    "        # Try parsing the full date (e.g., 'March 23, 2020')\n",
    "        return pd.to_datetime(date_str, errors='coerce', dayfirst=False)\n",
    "    except:\n",
    "        # If that fails, try parsing the month-year format (e.g., 'April 2021')\n",
    "        try:\n",
    "            return pd.to_datetime(date_str + ' 01', errors='coerce')  # Adding '01' as the first day of the month\n",
    "        except:\n",
    "            return pd.NaT  # If both fail, return NaT\n",
    "\n",
    "# Apply the function to the 'Start Date' column\n",
    "df_cleaned['Start Date']= df_cleaned['Start Date'].apply(parse_dates)\n",
    "\n",
    "# Check the result\n",
    "print(df_cleaned['Start Date'].head())\n"
   ]
  },
  {
   "cell_type": "markdown",
   "id": "ab6c2d39-2dc0-4d25-83a7-1049f4098285",
   "metadata": {},
   "source": [
    "### Primary Completion Date columns"
   ]
  },
  {
   "cell_type": "code",
   "execution_count": 76,
   "id": "8ac6dfdb-bd4d-40f5-aed0-02f6f1dc05db",
   "metadata": {},
   "outputs": [
    {
     "data": {
      "text/plain": [
       "0   2020-12-22\n",
       "1   2020-12-15\n",
       "2   2021-06-15\n",
       "3   2020-07-31\n",
       "4   2021-05-01\n",
       "Name: Primary Completion Date, dtype: datetime64[ns]"
      ]
     },
     "execution_count": 76,
     "metadata": {},
     "output_type": "execute_result"
    }
   ],
   "source": [
    "#changing datatypes to datetime\n",
    "\n",
    "def parse_dates(date_str):\n",
    "    try:\n",
    "        return pd.to_datetime(date_str,errors = 'coerce', dayfirst = False)\n",
    "    except:\n",
    "        try:\n",
    "            return pd.to_datetime(date_str + '01' ,errors = 'coerce')\n",
    "        except:\n",
    "            return pd.NaT\n",
    "\n",
    "df_cleaned['Primary Completion Date'] = df_cleaned['Primary Completion Date'].apply(parse_dates)\n",
    "df_cleaned['Primary Completion Date'].head()"
   ]
  },
  {
   "cell_type": "markdown",
   "id": "a9bbdc56-98b1-4b93-a892-1f0dd76fd2d0",
   "metadata": {},
   "source": [
    "### Completion Date column"
   ]
  },
  {
   "cell_type": "code",
   "execution_count": 77,
   "id": "7276f0f4-01d8-4529-83e2-10e3a32e8700",
   "metadata": {},
   "outputs": [
    {
     "data": {
      "text/plain": [
       "0   2021-04-30\n",
       "1   2021-01-29\n",
       "2   2021-06-15\n",
       "3   2020-08-31\n",
       "4   2021-05-01\n",
       "Name: Completion Date, dtype: datetime64[ns]"
      ]
     },
     "execution_count": 77,
     "metadata": {},
     "output_type": "execute_result"
    }
   ],
   "source": [
    "#changing datatypes to datetime\n",
    "\n",
    "df_cleaned['Completion Date'] = df_cleaned['Completion Date'].apply(parse_dates)\n",
    "df_cleaned['Completion Date'].head()"
   ]
  },
  {
   "cell_type": "markdown",
   "id": "0b93916e-79f7-49e7-9900-0e4e47816407",
   "metadata": {},
   "source": [
    "### First Posted Column"
   ]
  },
  {
   "cell_type": "code",
   "execution_count": 78,
   "id": "7e6f0a51-a75f-4cf4-a496-1e4754e32611",
   "metadata": {},
   "outputs": [
    {
     "data": {
      "text/plain": [
       "0   2021-03-08\n",
       "1   2020-10-20\n",
       "2   2020-05-20\n",
       "3   2020-06-04\n",
       "4   2020-05-20\n",
       "Name: First Posted, dtype: datetime64[ns]"
      ]
     },
     "execution_count": 78,
     "metadata": {},
     "output_type": "execute_result"
    }
   ],
   "source": [
    "df_cleaned['First Posted'] = df_cleaned['First Posted'].apply(parse_dates)\n",
    "df_cleaned['First Posted'].head(5)"
   ]
  },
  {
   "cell_type": "markdown",
   "id": "36ebfd94-764c-4c28-bd95-b758f7321385",
   "metadata": {},
   "source": [
    "### Last Update Posted column"
   ]
  },
  {
   "cell_type": "code",
   "execution_count": 79,
   "id": "a689240e-8b8d-435e-b9aa-06afc983c6d6",
   "metadata": {},
   "outputs": [
    {
     "data": {
      "text/plain": [
       "0   2021-03-08\n",
       "1   2020-10-20\n",
       "2   2020-11-09\n",
       "3   2020-06-04\n",
       "4   2020-06-04\n",
       "Name: Last Update Posted, dtype: datetime64[ns]"
      ]
     },
     "execution_count": 79,
     "metadata": {},
     "output_type": "execute_result"
    }
   ],
   "source": [
    "df_cleaned['Last Update Posted'] =df_cleaned['Last Update Posted'].apply(parse_dates)\n",
    "df_cleaned['Last Update Posted'] .head()"
   ]
  },
  {
   "cell_type": "code",
   "execution_count": 80,
   "id": "1b453029-475f-481d-bb0b-163e0a4aa1ee",
   "metadata": {},
   "outputs": [
    {
     "data": {
      "text/plain": [
       "4256"
      ]
     },
     "execution_count": 80,
     "metadata": {},
     "output_type": "execute_result"
    }
   ],
   "source": [
    "df_cleaned['Locations'].unique().size"
   ]
  },
  {
   "cell_type": "code",
   "execution_count": 81,
   "id": "b4c03fc0-09b7-4274-8a1e-5269dfdc12c8",
   "metadata": {},
   "outputs": [
    {
     "name": "stdout",
     "output_type": "stream",
     "text": [
      "<class 'pandas.core.frame.DataFrame'>\n",
      "RangeIndex: 5783 entries, 0 to 5782\n",
      "Data columns (total 22 columns):\n",
      " #   Column                   Non-Null Count  Dtype         \n",
      "---  ------                   --------------  -----         \n",
      " 0   NCT Number               5783 non-null   object        \n",
      " 1   Title                    5783 non-null   object        \n",
      " 2   Acronym                  5783 non-null   object        \n",
      " 3   Status                   5783 non-null   object        \n",
      " 4   Conditions               5783 non-null   object        \n",
      " 5   Interventions            5783 non-null   object        \n",
      " 6   Outcome Measures         5783 non-null   object        \n",
      " 7   Sponsor/Collaborators    5783 non-null   object        \n",
      " 8   Gender                   5783 non-null   object        \n",
      " 9   Age                      5783 non-null   object        \n",
      " 10  Phases                   5783 non-null   object        \n",
      " 11  Enrollment               5783 non-null   object        \n",
      " 12  Funded Bys               5783 non-null   object        \n",
      " 13  Study Type               5783 non-null   object        \n",
      " 14  Study Designs            5783 non-null   object        \n",
      " 15  Other IDs                5783 non-null   object        \n",
      " 16  Start Date               5749 non-null   datetime64[ns]\n",
      " 17  Primary Completion Date  5747 non-null   datetime64[ns]\n",
      " 18  Completion Date          5747 non-null   datetime64[ns]\n",
      " 19  First Posted             5783 non-null   datetime64[ns]\n",
      " 20  Last Update Posted       5783 non-null   datetime64[ns]\n",
      " 21  Locations                5783 non-null   object        \n",
      "dtypes: datetime64[ns](5), object(17)\n",
      "memory usage: 994.1+ KB\n"
     ]
    }
   ],
   "source": [
    "df_cleaned.info()"
   ]
  },
  {
   "cell_type": "markdown",
   "id": "9eebdfd5-a7ba-4d73-9356-868c548d84cc",
   "metadata": {},
   "source": [
    "# Checkpoint 2"
   ]
  },
  {
   "cell_type": "code",
   "execution_count": 82,
   "id": "4980f683-7c6d-4e09-8e49-dd15691a5db8",
   "metadata": {},
   "outputs": [
    {
     "data": {
      "text/html": [
       "<div>\n",
       "<style scoped>\n",
       "    .dataframe tbody tr th:only-of-type {\n",
       "        vertical-align: middle;\n",
       "    }\n",
       "\n",
       "    .dataframe tbody tr th {\n",
       "        vertical-align: top;\n",
       "    }\n",
       "\n",
       "    .dataframe thead th {\n",
       "        text-align: right;\n",
       "    }\n",
       "</style>\n",
       "<table border=\"1\" class=\"dataframe\">\n",
       "  <thead>\n",
       "    <tr style=\"text-align: right;\">\n",
       "      <th></th>\n",
       "      <th>NCT Number</th>\n",
       "      <th>Title</th>\n",
       "      <th>Acronym</th>\n",
       "      <th>Status</th>\n",
       "      <th>Conditions</th>\n",
       "      <th>Interventions</th>\n",
       "      <th>Outcome Measures</th>\n",
       "      <th>Sponsor/Collaborators</th>\n",
       "      <th>Gender</th>\n",
       "      <th>Age</th>\n",
       "      <th>...</th>\n",
       "      <th>Funded Bys</th>\n",
       "      <th>Study Type</th>\n",
       "      <th>Study Designs</th>\n",
       "      <th>Other IDs</th>\n",
       "      <th>Start Date</th>\n",
       "      <th>Primary Completion Date</th>\n",
       "      <th>Completion Date</th>\n",
       "      <th>First Posted</th>\n",
       "      <th>Last Update Posted</th>\n",
       "      <th>Locations</th>\n",
       "    </tr>\n",
       "  </thead>\n",
       "  <tbody>\n",
       "    <tr>\n",
       "      <th>0</th>\n",
       "      <td>NCT04785898</td>\n",
       "      <td>Diagnostic Performance of the ID Now™ COVID-19...</td>\n",
       "      <td>Covid</td>\n",
       "      <td>Active, not recruiting</td>\n",
       "      <td>Covid</td>\n",
       "      <td>Diagnostic Test: ID Now™ COVID-19 Screening Test</td>\n",
       "      <td>Evaluate the diagnostic performance of the ID ...</td>\n",
       "      <td>Groupe Hospitalier Paris Saint Joseph</td>\n",
       "      <td>Male</td>\n",
       "      <td>18 Years and older   (Adult, Older Adult)</td>\n",
       "      <td>...</td>\n",
       "      <td>Other</td>\n",
       "      <td>Interventional</td>\n",
       "      <td>Allocation: N/A|Intervention Model: Single Gro...</td>\n",
       "      <td>COVID-IDNow</td>\n",
       "      <td>2020-11-09</td>\n",
       "      <td>2020-12-22</td>\n",
       "      <td>2021-04-30</td>\n",
       "      <td>2021-03-08</td>\n",
       "      <td>2021-03-08</td>\n",
       "      <td>Groupe Hospitalier Paris Saint-Joseph, Paris, ...</td>\n",
       "    </tr>\n",
       "    <tr>\n",
       "      <th>1</th>\n",
       "      <td>NCT04595136</td>\n",
       "      <td>Study to Evaluate the Efficacy of COVID19-0001...</td>\n",
       "      <td>Covid</td>\n",
       "      <td>Not yet recruiting</td>\n",
       "      <td>SARS-CoV-2 Infection</td>\n",
       "      <td>Drug: Drug COVID19-0001-USR|Drug: normal saline</td>\n",
       "      <td>Change on viral load results from baseline aft...</td>\n",
       "      <td>United Medical Specialties</td>\n",
       "      <td>Male</td>\n",
       "      <td>18 Years and older   (Adult, Older Adult)</td>\n",
       "      <td>...</td>\n",
       "      <td>Other</td>\n",
       "      <td>Interventional</td>\n",
       "      <td>Allocation: Randomized|Intervention Model: Par...</td>\n",
       "      <td>COVID19-0001-USR</td>\n",
       "      <td>2020-11-02</td>\n",
       "      <td>2020-12-15</td>\n",
       "      <td>2021-01-29</td>\n",
       "      <td>2020-10-20</td>\n",
       "      <td>2020-10-20</td>\n",
       "      <td>Cimedical, Barranquilla, Atlantico, Colombia</td>\n",
       "    </tr>\n",
       "  </tbody>\n",
       "</table>\n",
       "<p>2 rows × 22 columns</p>\n",
       "</div>"
      ],
      "text/plain": [
       "    NCT Number                                              Title Acronym  \\\n",
       "0  NCT04785898  Diagnostic Performance of the ID Now™ COVID-19...   Covid   \n",
       "1  NCT04595136  Study to Evaluate the Efficacy of COVID19-0001...   Covid   \n",
       "\n",
       "                   Status            Conditions  \\\n",
       "0  Active, not recruiting                 Covid   \n",
       "1      Not yet recruiting  SARS-CoV-2 Infection   \n",
       "\n",
       "                                      Interventions  \\\n",
       "0  Diagnostic Test: ID Now™ COVID-19 Screening Test   \n",
       "1   Drug: Drug COVID19-0001-USR|Drug: normal saline   \n",
       "\n",
       "                                    Outcome Measures  \\\n",
       "0  Evaluate the diagnostic performance of the ID ...   \n",
       "1  Change on viral load results from baseline aft...   \n",
       "\n",
       "                   Sponsor/Collaborators Gender  \\\n",
       "0  Groupe Hospitalier Paris Saint Joseph   Male   \n",
       "1             United Medical Specialties   Male   \n",
       "\n",
       "                                         Age  ... Funded Bys      Study Type  \\\n",
       "0  18 Years and older   (Adult, Older Adult)  ...      Other  Interventional   \n",
       "1  18 Years and older   (Adult, Older Adult)  ...      Other  Interventional   \n",
       "\n",
       "                                       Study Designs         Other IDs  \\\n",
       "0  Allocation: N/A|Intervention Model: Single Gro...       COVID-IDNow   \n",
       "1  Allocation: Randomized|Intervention Model: Par...  COVID19-0001-USR   \n",
       "\n",
       "  Start Date Primary Completion Date Completion Date First Posted  \\\n",
       "0 2020-11-09              2020-12-22      2021-04-30   2021-03-08   \n",
       "1 2020-11-02              2020-12-15      2021-01-29   2020-10-20   \n",
       "\n",
       "  Last Update Posted                                          Locations  \n",
       "0         2021-03-08  Groupe Hospitalier Paris Saint-Joseph, Paris, ...  \n",
       "1         2020-10-20       Cimedical, Barranquilla, Atlantico, Colombia  \n",
       "\n",
       "[2 rows x 22 columns]"
      ]
     },
     "execution_count": 82,
     "metadata": {},
     "output_type": "execute_result"
    }
   ],
   "source": [
    "df_mod = df_cleaned.copy()\n",
    "df_mod.head(2)"
   ]
  },
  {
   "cell_type": "markdown",
   "id": "d6dbd542-ceb3-4c3c-8078-fb5ee96cdd4d",
   "metadata": {},
   "source": [
    "# Univariate Analysis"
   ]
  },
  {
   "cell_type": "markdown",
   "id": "5b751a09-5b43-425c-909c-10c85c885313",
   "metadata": {},
   "source": [
    "### Status Distribution"
   ]
  },
  {
   "cell_type": "code",
   "execution_count": 83,
   "id": "4a48fae3-53ca-43b2-a9d2-0c7420e9b7f8",
   "metadata": {},
   "outputs": [
    {
     "data": {
      "text/plain": [
       "Status\n",
       "Recruiting                   2805\n",
       "Completed                    1025\n",
       "Not yet recruiting           1004\n",
       "Active, not recruiting        526\n",
       "Enrolling by invitation       181\n",
       "Withdrawn                     107\n",
       "Terminated                     74\n",
       "Suspended                      27\n",
       "Available                      19\n",
       "No longer available            12\n",
       "Approved for marketing          2\n",
       "Temporarily not available       1\n",
       "Name: count, dtype: int64"
      ]
     },
     "execution_count": 83,
     "metadata": {},
     "output_type": "execute_result"
    }
   ],
   "source": [
    "df_mod['Status'].value_counts()"
   ]
  },
  {
   "cell_type": "code",
   "execution_count": 84,
   "id": "ede4ef77-c2c9-4088-812b-25ad64ae95b1",
   "metadata": {},
   "outputs": [
    {
     "data": {
      "text/plain": [
       "<Axes: title={'center': 'Status of Clinical Trials'}, ylabel='Status'>"
      ]
     },
     "execution_count": 84,
     "metadata": {},
     "output_type": "execute_result"
    },
    {
     "data": {
      "image/png": "[encoded data removed]",
      "text/plain": [
       "<Figure size 640x480 with 1 Axes>"
      ]
     },
     "metadata": {},
     "output_type": "display_data"
    }
   ],
   "source": [
    "df_mod['Status'].value_counts().plot(kind='barh', title='Status of Clinical Trials',color = 'red')"
   ]
  },
  {
   "cell_type": "markdown",
   "id": "5e3cdf91-cfc5-4fc0-8ad2-3d791588a857",
   "metadata": {},
   "source": [
    "### Phases Distibution"
   ]
  },
  {
   "cell_type": "code",
   "execution_count": 85,
   "id": "0a6ffcb3-6f47-42ef-871f-25c1fdc8aadb",
   "metadata": {},
   "outputs": [
    {
     "data": {
      "text/plain": [
       "Phases\n",
       "unknown            2461\n",
       "Not Applicable     1354\n",
       "Phase 2             685\n",
       "Phase 3             450\n",
       "Phase 1             234\n",
       "Phase 2|Phase 3     200\n",
       "Phase 1|Phase 2     192\n",
       "Phase 4             161\n",
       "Early Phase 1        46\n",
       "Name: count, dtype: int64"
      ]
     },
     "execution_count": 85,
     "metadata": {},
     "output_type": "execute_result"
    }
   ],
   "source": [
    "df_mod['Phases'].value_counts()"
   ]
  },
  {
   "cell_type": "code",
   "execution_count": 86,
   "id": "b76317ae-647a-4e71-a4f6-32d580ab2086",
   "metadata": {},
   "outputs": [
    {
     "data": {
      "text/plain": [
       "<Axes: title={'center': 'Phases Distibution'}, xlabel='Phases'>"
      ]
     },
     "execution_count": 86,
     "metadata": {},
     "output_type": "execute_result"
    },
    {
     "data": {
      "image/png": "[encoded data removed]",
      "text/plain": [
       "<Figure size 640x480 with 1 Axes>"
      ]
     },
     "metadata": {},
     "output_type": "display_data"
    }
   ],
   "source": [
    "df_mod['Phases'].value_counts().plot(kind = 'bar',title = 'Phases Distibution',color = 'green')"
   ]
  },
  {
   "cell_type": "markdown",
   "id": "6d3ac2b9-02c4-4d8e-b1a5-b34b50277777",
   "metadata": {},
   "source": [
    "### Gender Distibution"
   ]
  },
  {
   "cell_type": "code",
   "execution_count": 87,
   "id": "dd5fb5ad-6187-45cd-9124-8ef62853df78",
   "metadata": {},
   "outputs": [
    {
     "data": {
      "text/plain": [
       "<Axes: title={'center': 'Gender Distribution'}>"
      ]
     },
     "execution_count": 87,
     "metadata": {},
     "output_type": "execute_result"
    },
    {
     "data": {
      "image/png": "[encoded data removed]",
      "text/plain": [
       "<Figure size 640x480 with 1 Axes>"
      ]
     },
     "metadata": {},
     "output_type": "display_data"
    }
   ],
   "source": [
    "df_mod['Gender'].value_counts().plot(kind = 'bar', title = 'Gender Distribution',color = 'red',xlabel = '' ,ylabel = '')"
   ]
  },
  {
   "cell_type": "markdown",
   "id": "73a7de34-5b64-4ff8-b888-58492c8f0b2d",
   "metadata": {},
   "source": [
    "### Study Distribution"
   ]
  },
  {
   "cell_type": "code",
   "execution_count": 88,
   "id": "b2bcc370-9aac-4fda-a5e0-c0999ad76ce6",
   "metadata": {},
   "outputs": [
    {
     "data": {
      "text/plain": [
       "Study Type\n",
       "Interventional                                                         3322\n",
       "Observational                                                          2427\n",
       "Expanded Access:Intermediate-size Population                             15\n",
       "Expanded Access:Treatment IND/Protocol                                    8\n",
       "Expanded Access:Intermediate-size Population|Treatment IND/Protocol       5\n",
       "Expanded Access:Individual Patients                                       3\n",
       "Expanded Access:Individual Patients|Intermediate-size Population          1\n",
       "Expanded Access                                                           1\n",
       "Expanded Access:Individual Patients|Treatment IND/Protocol                1\n",
       "Name: count, dtype: int64"
      ]
     },
     "execution_count": 88,
     "metadata": {},
     "output_type": "execute_result"
    }
   ],
   "source": [
    "df['Study Type'].value_counts()[df['Study Type'].value_counts()>=1]"
   ]
  },
  {
   "cell_type": "code",
   "execution_count": 89,
   "id": "453d801d-5e1d-431c-b3c1-8863d649112e",
   "metadata": {},
   "outputs": [
    {
     "data": {
      "text/plain": [
       "<Axes: title={'center': 'Study Type'}, xlabel='Study Type', ylabel='Count'>"
      ]
     },
     "execution_count": 89,
     "metadata": {},
     "output_type": "execute_result"
    },
    {
     "data": {
      "image/png": "[encoded data removed]",
      "text/plain": [
       "<Figure size 1200x600 with 1 Axes>"
      ]
     },
     "metadata": {},
     "output_type": "display_data"
    }
   ],
   "source": [
    "df['Study Type'].value_counts().plot(\n",
    "    kind='line',\n",
    "    title='Study Type',\n",
    "    color='red',\n",
    "    figsize=(12, 6),\n",
    "    fontsize=12,\n",
    "    xlabel='Study Type',\n",
    "    ylabel='Count',\n",
    "    grid=False,\n",
    "    rot=90  # Rotate x-axis labels by 45 degrees\n",
    ")\n"
   ]
  },
  {
   "cell_type": "markdown",
   "id": "ee8b2a1c-9670-4db9-9c01-fe43a96d1b2a",
   "metadata": {},
   "source": [
    "### Conditions vs. Outcome Measures:"
   ]
  },
  {
   "cell_type": "code",
   "execution_count": 90,
   "id": "99e50e87-dfc6-4cba-a815-d383d76f4e80",
   "metadata": {},
   "outputs": [
    {
     "data": {
      "text/html": [
       "<div>\n",
       "<style scoped>\n",
       "    .dataframe tbody tr th:only-of-type {\n",
       "        vertical-align: middle;\n",
       "    }\n",
       "\n",
       "    .dataframe tbody tr th {\n",
       "        vertical-align: top;\n",
       "    }\n",
       "\n",
       "    .dataframe thead th {\n",
       "        text-align: right;\n",
       "    }\n",
       "</style>\n",
       "<table border=\"1\" class=\"dataframe\">\n",
       "  <thead>\n",
       "    <tr style=\"text-align: right;\">\n",
       "      <th>Phases</th>\n",
       "      <th>Early Phase 1</th>\n",
       "      <th>Not Applicable</th>\n",
       "      <th>Phase 1</th>\n",
       "      <th>Phase 1|Phase 2</th>\n",
       "      <th>Phase 2</th>\n",
       "      <th>Phase 2|Phase 3</th>\n",
       "      <th>Phase 3</th>\n",
       "      <th>Phase 4</th>\n",
       "      <th>unknown</th>\n",
       "    </tr>\n",
       "    <tr>\n",
       "      <th>Status</th>\n",
       "      <th></th>\n",
       "      <th></th>\n",
       "      <th></th>\n",
       "      <th></th>\n",
       "      <th></th>\n",
       "      <th></th>\n",
       "      <th></th>\n",
       "      <th></th>\n",
       "      <th></th>\n",
       "    </tr>\n",
       "  </thead>\n",
       "  <tbody>\n",
       "    <tr>\n",
       "      <th>Active, not recruiting</th>\n",
       "      <td>7</td>\n",
       "      <td>111</td>\n",
       "      <td>44</td>\n",
       "      <td>26</td>\n",
       "      <td>81</td>\n",
       "      <td>15</td>\n",
       "      <td>59</td>\n",
       "      <td>8</td>\n",
       "      <td>175</td>\n",
       "    </tr>\n",
       "    <tr>\n",
       "      <th>Approved for marketing</th>\n",
       "      <td>0</td>\n",
       "      <td>0</td>\n",
       "      <td>0</td>\n",
       "      <td>0</td>\n",
       "      <td>0</td>\n",
       "      <td>0</td>\n",
       "      <td>0</td>\n",
       "      <td>0</td>\n",
       "      <td>2</td>\n",
       "    </tr>\n",
       "    <tr>\n",
       "      <th>Available</th>\n",
       "      <td>0</td>\n",
       "      <td>0</td>\n",
       "      <td>0</td>\n",
       "      <td>0</td>\n",
       "      <td>0</td>\n",
       "      <td>0</td>\n",
       "      <td>0</td>\n",
       "      <td>0</td>\n",
       "      <td>19</td>\n",
       "    </tr>\n",
       "    <tr>\n",
       "      <th>Completed</th>\n",
       "      <td>3</td>\n",
       "      <td>226</td>\n",
       "      <td>38</td>\n",
       "      <td>17</td>\n",
       "      <td>78</td>\n",
       "      <td>20</td>\n",
       "      <td>56</td>\n",
       "      <td>22</td>\n",
       "      <td>565</td>\n",
       "    </tr>\n",
       "    <tr>\n",
       "      <th>Enrolling by invitation</th>\n",
       "      <td>4</td>\n",
       "      <td>54</td>\n",
       "      <td>1</td>\n",
       "      <td>3</td>\n",
       "      <td>10</td>\n",
       "      <td>1</td>\n",
       "      <td>6</td>\n",
       "      <td>6</td>\n",
       "      <td>96</td>\n",
       "    </tr>\n",
       "    <tr>\n",
       "      <th>No longer available</th>\n",
       "      <td>0</td>\n",
       "      <td>0</td>\n",
       "      <td>0</td>\n",
       "      <td>0</td>\n",
       "      <td>0</td>\n",
       "      <td>0</td>\n",
       "      <td>0</td>\n",
       "      <td>0</td>\n",
       "      <td>12</td>\n",
       "    </tr>\n",
       "    <tr>\n",
       "      <th>Not yet recruiting</th>\n",
       "      <td>5</td>\n",
       "      <td>282</td>\n",
       "      <td>42</td>\n",
       "      <td>46</td>\n",
       "      <td>114</td>\n",
       "      <td>46</td>\n",
       "      <td>89</td>\n",
       "      <td>30</td>\n",
       "      <td>350</td>\n",
       "    </tr>\n",
       "    <tr>\n",
       "      <th>Recruiting</th>\n",
       "      <td>22</td>\n",
       "      <td>647</td>\n",
       "      <td>98</td>\n",
       "      <td>92</td>\n",
       "      <td>343</td>\n",
       "      <td>102</td>\n",
       "      <td>196</td>\n",
       "      <td>81</td>\n",
       "      <td>1224</td>\n",
       "    </tr>\n",
       "    <tr>\n",
       "      <th>Suspended</th>\n",
       "      <td>2</td>\n",
       "      <td>2</td>\n",
       "      <td>0</td>\n",
       "      <td>2</td>\n",
       "      <td>4</td>\n",
       "      <td>4</td>\n",
       "      <td>9</td>\n",
       "      <td>2</td>\n",
       "      <td>2</td>\n",
       "    </tr>\n",
       "    <tr>\n",
       "      <th>Temporarily not available</th>\n",
       "      <td>0</td>\n",
       "      <td>0</td>\n",
       "      <td>0</td>\n",
       "      <td>0</td>\n",
       "      <td>0</td>\n",
       "      <td>0</td>\n",
       "      <td>0</td>\n",
       "      <td>0</td>\n",
       "      <td>1</td>\n",
       "    </tr>\n",
       "    <tr>\n",
       "      <th>Terminated</th>\n",
       "      <td>0</td>\n",
       "      <td>13</td>\n",
       "      <td>4</td>\n",
       "      <td>2</td>\n",
       "      <td>25</td>\n",
       "      <td>6</td>\n",
       "      <td>15</td>\n",
       "      <td>5</td>\n",
       "      <td>4</td>\n",
       "    </tr>\n",
       "    <tr>\n",
       "      <th>Withdrawn</th>\n",
       "      <td>3</td>\n",
       "      <td>19</td>\n",
       "      <td>7</td>\n",
       "      <td>4</td>\n",
       "      <td>30</td>\n",
       "      <td>6</td>\n",
       "      <td>20</td>\n",
       "      <td>7</td>\n",
       "      <td>11</td>\n",
       "    </tr>\n",
       "  </tbody>\n",
       "</table>\n",
       "</div>"
      ],
      "text/plain": [
       "Phases                     Early Phase 1  Not Applicable  Phase 1  \\\n",
       "Status                                                              \n",
       "Active, not recruiting                 7             111       44   \n",
       "Approved for marketing                 0               0        0   \n",
       "Available                              0               0        0   \n",
       "Completed                              3             226       38   \n",
       "Enrolling by invitation                4              54        1   \n",
       "No longer available                    0               0        0   \n",
       "Not yet recruiting                     5             282       42   \n",
       "Recruiting                            22             647       98   \n",
       "Suspended                              2               2        0   \n",
       "Temporarily not available              0               0        0   \n",
       "Terminated                             0              13        4   \n",
       "Withdrawn                              3              19        7   \n",
       "\n",
       "Phases                     Phase 1|Phase 2  Phase 2  Phase 2|Phase 3  Phase 3  \\\n",
       "Status                                                                          \n",
       "Active, not recruiting                  26       81               15       59   \n",
       "Approved for marketing                   0        0                0        0   \n",
       "Available                                0        0                0        0   \n",
       "Completed                               17       78               20       56   \n",
       "Enrolling by invitation                  3       10                1        6   \n",
       "No longer available                      0        0                0        0   \n",
       "Not yet recruiting                      46      114               46       89   \n",
       "Recruiting                              92      343              102      196   \n",
       "Suspended                                2        4                4        9   \n",
       "Temporarily not available                0        0                0        0   \n",
       "Terminated                               2       25                6       15   \n",
       "Withdrawn                                4       30                6       20   \n",
       "\n",
       "Phases                     Phase 4  unknown  \n",
       "Status                                       \n",
       "Active, not recruiting           8      175  \n",
       "Approved for marketing           0        2  \n",
       "Available                        0       19  \n",
       "Completed                       22      565  \n",
       "Enrolling by invitation          6       96  \n",
       "No longer available              0       12  \n",
       "Not yet recruiting              30      350  \n",
       "Recruiting                      81     1224  \n",
       "Suspended                        2        2  \n",
       "Temporarily not available        0        1  \n",
       "Terminated                       5        4  \n",
       "Withdrawn                        7       11  "
      ]
     },
     "execution_count": 90,
     "metadata": {},
     "output_type": "execute_result"
    }
   ],
   "source": [
    "status_phase = pd.crosstab(df_mod['Status'], df_mod['Phases'])\n",
    "status_phase"
   ]
  },
  {
   "cell_type": "code",
   "execution_count": 91,
   "id": "ca9a2c2e-9fac-423d-b2e0-f33611504ce3",
   "metadata": {},
   "outputs": [
    {
     "data": {
      "text/plain": [
       "<Axes: title={'center': 'Status vs Phases'}, xlabel='Status'>"
      ]
     },
     "execution_count": 91,
     "metadata": {},
     "output_type": "execute_result"
    },
    {
     "data": {
      "image/png": "[encoded data removed]",
      "text/plain": [
       "<Figure size 1200x600 with 1 Axes>"
      ]
     },
     "metadata": {},
     "output_type": "display_data"
    }
   ],
   "source": [
    "status_phase.plot(kind='bar', stacked=True, title='Status vs Phases',figsize = (12,6),rot = 90)"
   ]
  },
  {
   "cell_type": "code",
   "execution_count": 92,
   "id": "17464e4c-21aa-4c8e-b18f-8008e721735f",
   "metadata": {},
   "outputs": [
    {
     "data": {
      "text/plain": [
       "Conditions\n",
       "Covid                                              3836\n",
       "SARS-CoV-2                                           52\n",
       "Coronavirus Infection                                51\n",
       "Coronavirus                                          47\n",
       "Corona Virus Infection                               38\n",
       "Sars-CoV2                                            33\n",
       "SARS-CoV-2 Infection                                 31\n",
       "SARS-CoV Infection                                   25\n",
       "SARS-CoV 2                                           21\n",
       "Healthy                                              18\n",
       "Coronavirus Infections                               18\n",
       "Coronavirus Disease 2019                             16\n",
       "Cancer                                               13\n",
       "Severe Acute Respiratory Syndrome Coronavirus 2      12\n",
       "Name: count, dtype: int64"
      ]
     },
     "execution_count": 92,
     "metadata": {},
     "output_type": "execute_result"
    }
   ],
   "source": [
    "#conditions that are counted more than 10\n",
    "conditions = df_mod['Conditions'].value_counts()[df_mod['Conditions'].value_counts()>10]\n",
    "conditions"
   ]
  },
  {
   "cell_type": "code",
   "execution_count": 95,
   "id": "cbc549b3-e62b-4148-9b03-31e04fdd009a",
   "metadata": {},
   "outputs": [
    {
     "data": {
      "image/png": "[encoded data removed]",
      "text/plain": [
       "<Figure size 1200x600 with 1 Axes>"
      ]
     },
     "metadata": {},
     "output_type": "display_data"
    }
   ],
   "source": [
    "import matplotlib.pyplot as plt \n",
    "ax = conditions.plot(kind = 'bar',title='Condtions vs Frequency',figsize = (12,6),rot = 90)\n",
    "\n",
    "# Add the values on top of each bar\n",
    "for p in ax.patches:\n",
    "    ax.annotate(\n",
    "        str(p.get_height()),            # The text to display, here the height of each bar\n",
    "        (p.get_x() + p.get_width() / 2, p.get_height()),  # Position (x, y)\n",
    "        ha='center',                    # Center-align the text horizontally\n",
    "        va='bottom'                     # Position text just above the bar\n",
    "    )\n",
    "\n",
    "# Display the plot\n",
    "plt.show()\n"
   ]
  },
  {
   "cell_type": "code",
   "execution_count": 96,
   "id": "27263ef0-a872-4419-8484-dfc76038b99e",
   "metadata": {},
   "outputs": [
    {
     "data": {
      "text/plain": [
       "<Axes: xlabel='Months', ylabel='Entry Count'>"
      ]
     },
     "execution_count": 96,
     "metadata": {},
     "output_type": "execute_result"
    },
    {
     "data": {
      "image/png": "[encoded data removed]",
      "text/plain": [
       "<Figure size 640x480 with 1 Axes>"
      ]
     },
     "metadata": {},
     "output_type": "display_data"
    }
   ],
   "source": [
    "month = df_mod['Start Date'].dt.month\n",
    "\n",
    "df_mod.groupby([month])['NCT Number'].count().plot(kind = 'bar',xlabel = 'Months',ylabel = 'Entry Count',color = 'red')"
   ]
  },
  {
   "cell_type": "code",
   "execution_count": 97,
   "id": "0446b62c-5a6e-49f7-9b51-62261d3d4da6",
   "metadata": {},
   "outputs": [
    {
     "data": {
      "text/plain": [
       "<Axes: xlabel='years', ylabel='Entry Count'>"
      ]
     },
     "execution_count": 97,
     "metadata": {},
     "output_type": "execute_result"
    },
    {
     "data": {
      "image/png": "[encoded data removed]",
      "text/plain": [
       "<Figure size 640x480 with 1 Axes>"
      ]
     },
     "metadata": {},
     "output_type": "display_data"
    }
   ],
   "source": [
    "year = df_mod['Start Date'].dt.year\n",
    "df_mod.groupby([year])['NCT Number'].count().plot(kind = 'bar',xlabel = 'years',ylabel = 'Entry Count',color = 'green')"
   ]
  },
  {
   "cell_type": "code",
   "execution_count": null,
   "id": "a98085cf-53ec-488f-bace-d909b5774bfa",
   "metadata": {},
   "outputs": [],
   "source": []
  }
 ],
 "metadata": {
  "kernelspec": {
   "display_name": "Python 3 (ipykernel)",
   "language": "python",
   "name": "python3"
  },
  "language_info": {
   "codemirror_mode": {
    "name": "ipython",
    "version": 3
   },
   "file_extension": ".py",
   "mimetype": "text/x-python",
   "name": "python",
   "nbconvert_exporter": "python",
   "pygments_lexer": "ipython3",
   "version": "3.12.4"
  }
 },
 "nbformat": 4,
 "nbformat_minor": 5
}
