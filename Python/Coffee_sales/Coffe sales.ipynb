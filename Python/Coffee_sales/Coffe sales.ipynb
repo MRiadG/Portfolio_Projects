{
 "cells": [
  {
   "cell_type": "code",
   "execution_count": 3,
   "id": "49c1dc13-4734-4446-9f2f-f9db736ebcf6",
   "metadata": {},
   "outputs": [],
   "source": [
    "import pandas as pd"
   ]
  },
  {
   "cell_type": "markdown",
   "id": "8e45de4c-48cd-43d8-9c82-2ce39f23ad36",
   "metadata": {},
   "source": [
    "## Importing DATA and Make a Copy of the Raw DATA"
   ]
  },
  {
   "cell_type": "code",
   "execution_count": 4,
   "id": "4d30e82d-a595-4372-9fe4-1c550159a511",
   "metadata": {},
   "outputs": [
    {
     "data": {
      "text/html": [
       "<div>\n",
       "<style scoped>\n",
       "    .dataframe tbody tr th:only-of-type {\n",
       "        vertical-align: middle;\n",
       "    }\n",
       "\n",
       "    .dataframe tbody tr th {\n",
       "        vertical-align: top;\n",
       "    }\n",
       "\n",
       "    .dataframe thead th {\n",
       "        text-align: right;\n",
       "    }\n",
       "</style>\n",
       "<table border=\"1\" class=\"dataframe\">\n",
       "  <thead>\n",
       "    <tr style=\"text-align: right;\">\n",
       "      <th></th>\n",
       "      <th>date</th>\n",
       "      <th>datetime</th>\n",
       "      <th>cash_type</th>\n",
       "      <th>card</th>\n",
       "      <th>money</th>\n",
       "      <th>coffee_name</th>\n",
       "    </tr>\n",
       "  </thead>\n",
       "  <tbody>\n",
       "    <tr>\n",
       "      <th>0</th>\n",
       "      <td>2024-03-01</td>\n",
       "      <td>2024-03-01 10:15:50.520</td>\n",
       "      <td>card</td>\n",
       "      <td>ANON-0000-0000-0001</td>\n",
       "      <td>38.70</td>\n",
       "      <td>Latte</td>\n",
       "    </tr>\n",
       "    <tr>\n",
       "      <th>1</th>\n",
       "      <td>2024-03-01</td>\n",
       "      <td>2024-03-01 12:19:22.539</td>\n",
       "      <td>card</td>\n",
       "      <td>ANON-0000-0000-0002</td>\n",
       "      <td>38.70</td>\n",
       "      <td>Hot Chocolate</td>\n",
       "    </tr>\n",
       "    <tr>\n",
       "      <th>2</th>\n",
       "      <td>2024-03-01</td>\n",
       "      <td>2024-03-01 12:20:18.089</td>\n",
       "      <td>card</td>\n",
       "      <td>ANON-0000-0000-0002</td>\n",
       "      <td>38.70</td>\n",
       "      <td>Hot Chocolate</td>\n",
       "    </tr>\n",
       "    <tr>\n",
       "      <th>3</th>\n",
       "      <td>2024-03-01</td>\n",
       "      <td>2024-03-01 13:46:33.006</td>\n",
       "      <td>card</td>\n",
       "      <td>ANON-0000-0000-0003</td>\n",
       "      <td>28.90</td>\n",
       "      <td>Americano</td>\n",
       "    </tr>\n",
       "    <tr>\n",
       "      <th>4</th>\n",
       "      <td>2024-03-01</td>\n",
       "      <td>2024-03-01 13:48:14.626</td>\n",
       "      <td>card</td>\n",
       "      <td>ANON-0000-0000-0004</td>\n",
       "      <td>38.70</td>\n",
       "      <td>Latte</td>\n",
       "    </tr>\n",
       "    <tr>\n",
       "      <th>...</th>\n",
       "      <td>...</td>\n",
       "      <td>...</td>\n",
       "      <td>...</td>\n",
       "      <td>...</td>\n",
       "      <td>...</td>\n",
       "      <td>...</td>\n",
       "    </tr>\n",
       "    <tr>\n",
       "      <th>1128</th>\n",
       "      <td>2024-07-31</td>\n",
       "      <td>2024-07-31 20:53:35.077</td>\n",
       "      <td>card</td>\n",
       "      <td>ANON-0000-0000-0443</td>\n",
       "      <td>23.02</td>\n",
       "      <td>Cortado</td>\n",
       "    </tr>\n",
       "    <tr>\n",
       "      <th>1129</th>\n",
       "      <td>2024-07-31</td>\n",
       "      <td>2024-07-31 20:59:25.013</td>\n",
       "      <td>card</td>\n",
       "      <td>ANON-0000-0000-0040</td>\n",
       "      <td>27.92</td>\n",
       "      <td>Americano with Milk</td>\n",
       "    </tr>\n",
       "    <tr>\n",
       "      <th>1130</th>\n",
       "      <td>2024-07-31</td>\n",
       "      <td>2024-07-31 21:26:26.000</td>\n",
       "      <td>card</td>\n",
       "      <td>ANON-0000-0000-0444</td>\n",
       "      <td>32.82</td>\n",
       "      <td>Latte</td>\n",
       "    </tr>\n",
       "    <tr>\n",
       "      <th>1131</th>\n",
       "      <td>2024-07-31</td>\n",
       "      <td>2024-07-31 21:54:11.824</td>\n",
       "      <td>card</td>\n",
       "      <td>ANON-0000-0000-0445</td>\n",
       "      <td>32.82</td>\n",
       "      <td>Latte</td>\n",
       "    </tr>\n",
       "    <tr>\n",
       "      <th>1132</th>\n",
       "      <td>2024-07-31</td>\n",
       "      <td>2024-07-31 21:55:16.570</td>\n",
       "      <td>card</td>\n",
       "      <td>ANON-0000-0000-0446</td>\n",
       "      <td>32.82</td>\n",
       "      <td>Latte</td>\n",
       "    </tr>\n",
       "  </tbody>\n",
       "</table>\n",
       "<p>1133 rows × 6 columns</p>\n",
       "</div>"
      ],
      "text/plain": [
       "            date                 datetime cash_type                 card  \\\n",
       "0     2024-03-01  2024-03-01 10:15:50.520      card  ANON-0000-0000-0001   \n",
       "1     2024-03-01  2024-03-01 12:19:22.539      card  ANON-0000-0000-0002   \n",
       "2     2024-03-01  2024-03-01 12:20:18.089      card  ANON-0000-0000-0002   \n",
       "3     2024-03-01  2024-03-01 13:46:33.006      card  ANON-0000-0000-0003   \n",
       "4     2024-03-01  2024-03-01 13:48:14.626      card  ANON-0000-0000-0004   \n",
       "...          ...                      ...       ...                  ...   \n",
       "1128  2024-07-31  2024-07-31 20:53:35.077      card  ANON-0000-0000-0443   \n",
       "1129  2024-07-31  2024-07-31 20:59:25.013      card  ANON-0000-0000-0040   \n",
       "1130  2024-07-31  2024-07-31 21:26:26.000      card  ANON-0000-0000-0444   \n",
       "1131  2024-07-31  2024-07-31 21:54:11.824      card  ANON-0000-0000-0445   \n",
       "1132  2024-07-31  2024-07-31 21:55:16.570      card  ANON-0000-0000-0446   \n",
       "\n",
       "      money          coffee_name  \n",
       "0     38.70                Latte  \n",
       "1     38.70        Hot Chocolate  \n",
       "2     38.70        Hot Chocolate  \n",
       "3     28.90            Americano  \n",
       "4     38.70                Latte  \n",
       "...     ...                  ...  \n",
       "1128  23.02              Cortado  \n",
       "1129  27.92  Americano with Milk  \n",
       "1130  32.82                Latte  \n",
       "1131  32.82                Latte  \n",
       "1132  32.82                Latte  \n",
       "\n",
       "[1133 rows x 6 columns]"
      ]
     },
     "execution_count": 4,
     "metadata": {},
     "output_type": "execute_result"
    }
   ],
   "source": [
    "raw_data = pd.read_csv('index.csv')\n",
    "df = raw_data.copy()\n",
    "df"
   ]
  },
  {
   "cell_type": "markdown",
   "id": "5b12b79d-cd28-4424-bb56-2c4c691b4fd1",
   "metadata": {},
   "source": [
    "## Checking MetaData of The DATASET"
   ]
  },
  {
   "cell_type": "code",
   "execution_count": 5,
   "id": "aab27fc9-e9c3-4327-9e36-3e37da8a522b",
   "metadata": {
    "scrolled": true
   },
   "outputs": [
    {
     "name": "stdout",
     "output_type": "stream",
     "text": [
      "<class 'pandas.core.frame.DataFrame'>\n",
      "RangeIndex: 1133 entries, 0 to 1132\n",
      "Data columns (total 6 columns):\n",
      " #   Column       Non-Null Count  Dtype  \n",
      "---  ------       --------------  -----  \n",
      " 0   date         1133 non-null   object \n",
      " 1   datetime     1133 non-null   object \n",
      " 2   cash_type    1133 non-null   object \n",
      " 3   card         1044 non-null   object \n",
      " 4   money        1133 non-null   float64\n",
      " 5   coffee_name  1133 non-null   object \n",
      "dtypes: float64(1), object(5)\n",
      "memory usage: 53.2+ KB\n"
     ]
    }
   ],
   "source": [
    "df.info()"
   ]
  },
  {
   "cell_type": "code",
   "execution_count": 6,
   "id": "b44ce15c-5ee1-4ba9-922e-03b04e7dc3d9",
   "metadata": {},
   "outputs": [
    {
     "data": {
      "text/plain": [
       "False"
      ]
     },
     "execution_count": 6,
     "metadata": {},
     "output_type": "execute_result"
    }
   ],
   "source": [
    "df.duplicated().any()"
   ]
  },
  {
   "cell_type": "code",
   "execution_count": 7,
   "id": "d2329dff-b970-45de-a5dd-7663f0294924",
   "metadata": {},
   "outputs": [
    {
     "data": {
      "text/plain": [
       "date            0\n",
       "datetime        0\n",
       "cash_type       0\n",
       "card           89\n",
       "money           0\n",
       "coffee_name     0\n",
       "dtype: int64"
      ]
     },
     "execution_count": 7,
     "metadata": {},
     "output_type": "execute_result"
    }
   ],
   "source": [
    "df.isnull().sum()"
   ]
  },
  {
   "cell_type": "code",
   "execution_count": 8,
   "id": "a2645a27-9fc2-4c69-bbb3-c5655d825528",
   "metadata": {},
   "outputs": [
    {
     "data": {
      "text/html": [
       "<div>\n",
       "<style scoped>\n",
       "    .dataframe tbody tr th:only-of-type {\n",
       "        vertical-align: middle;\n",
       "    }\n",
       "\n",
       "    .dataframe tbody tr th {\n",
       "        vertical-align: top;\n",
       "    }\n",
       "\n",
       "    .dataframe thead th {\n",
       "        text-align: right;\n",
       "    }\n",
       "</style>\n",
       "<table border=\"1\" class=\"dataframe\">\n",
       "  <thead>\n",
       "    <tr style=\"text-align: right;\">\n",
       "      <th></th>\n",
       "      <th>count</th>\n",
       "      <th>mean</th>\n",
       "      <th>std</th>\n",
       "      <th>min</th>\n",
       "      <th>25%</th>\n",
       "      <th>50%</th>\n",
       "      <th>75%</th>\n",
       "      <th>max</th>\n",
       "    </tr>\n",
       "  </thead>\n",
       "  <tbody>\n",
       "    <tr>\n",
       "      <th>money</th>\n",
       "      <td>1133.0</td>\n",
       "      <td>33.105808</td>\n",
       "      <td>5.035366</td>\n",
       "      <td>18.12</td>\n",
       "      <td>28.9</td>\n",
       "      <td>32.82</td>\n",
       "      <td>37.72</td>\n",
       "      <td>40.0</td>\n",
       "    </tr>\n",
       "  </tbody>\n",
       "</table>\n",
       "</div>"
      ],
      "text/plain": [
       "        count       mean       std    min   25%    50%    75%   max\n",
       "money  1133.0  33.105808  5.035366  18.12  28.9  32.82  37.72  40.0"
      ]
     },
     "execution_count": 8,
     "metadata": {},
     "output_type": "execute_result"
    }
   ],
   "source": [
    "df.describe().T"
   ]
  },
  {
   "cell_type": "code",
   "execution_count": 9,
   "id": "d5230294-a997-453a-983a-62e1e2ef93e3",
   "metadata": {},
   "outputs": [
    {
     "data": {
      "text/html": [
       "<div>\n",
       "<style scoped>\n",
       "    .dataframe tbody tr th:only-of-type {\n",
       "        vertical-align: middle;\n",
       "    }\n",
       "\n",
       "    .dataframe tbody tr th {\n",
       "        vertical-align: top;\n",
       "    }\n",
       "\n",
       "    .dataframe thead th {\n",
       "        text-align: right;\n",
       "    }\n",
       "</style>\n",
       "<table border=\"1\" class=\"dataframe\">\n",
       "  <thead>\n",
       "    <tr style=\"text-align: right;\">\n",
       "      <th></th>\n",
       "      <th>count</th>\n",
       "      <th>unique</th>\n",
       "      <th>top</th>\n",
       "      <th>freq</th>\n",
       "    </tr>\n",
       "  </thead>\n",
       "  <tbody>\n",
       "    <tr>\n",
       "      <th>cash_type</th>\n",
       "      <td>1133</td>\n",
       "      <td>2</td>\n",
       "      <td>card</td>\n",
       "      <td>1044</td>\n",
       "    </tr>\n",
       "    <tr>\n",
       "      <th>card</th>\n",
       "      <td>1044</td>\n",
       "      <td>446</td>\n",
       "      <td>ANON-0000-0000-0012</td>\n",
       "      <td>88</td>\n",
       "    </tr>\n",
       "    <tr>\n",
       "      <th>coffee_name</th>\n",
       "      <td>1133</td>\n",
       "      <td>8</td>\n",
       "      <td>Americano with Milk</td>\n",
       "      <td>268</td>\n",
       "    </tr>\n",
       "  </tbody>\n",
       "</table>\n",
       "</div>"
      ],
      "text/plain": [
       "            count unique                  top  freq\n",
       "cash_type    1133      2                 card  1044\n",
       "card         1044    446  ANON-0000-0000-0012    88\n",
       "coffee_name  1133      8  Americano with Milk   268"
      ]
     },
     "execution_count": 9,
     "metadata": {},
     "output_type": "execute_result"
    }
   ],
   "source": [
    "df.loc[:,['cash_type','card','coffee_name']].describe().T"
   ]
  },
  {
   "cell_type": "markdown",
   "id": "b5675593-f01e-4295-8084-dee70e605256",
   "metadata": {},
   "source": [
    "## Dropping Unnecessary Columns(date columns)"
   ]
  },
  {
   "cell_type": "code",
   "execution_count": 10,
   "id": "dc9a7c56-d780-46c8-a8e5-807e7ebbb97a",
   "metadata": {
    "scrolled": true
   },
   "outputs": [
    {
     "data": {
      "text/html": [
       "<div>\n",
       "<style scoped>\n",
       "    .dataframe tbody tr th:only-of-type {\n",
       "        vertical-align: middle;\n",
       "    }\n",
       "\n",
       "    .dataframe tbody tr th {\n",
       "        vertical-align: top;\n",
       "    }\n",
       "\n",
       "    .dataframe thead th {\n",
       "        text-align: right;\n",
       "    }\n",
       "</style>\n",
       "<table border=\"1\" class=\"dataframe\">\n",
       "  <thead>\n",
       "    <tr style=\"text-align: right;\">\n",
       "      <th></th>\n",
       "      <th>datetime</th>\n",
       "      <th>cash_type</th>\n",
       "      <th>card</th>\n",
       "      <th>money</th>\n",
       "      <th>coffee_name</th>\n",
       "    </tr>\n",
       "  </thead>\n",
       "  <tbody>\n",
       "    <tr>\n",
       "      <th>0</th>\n",
       "      <td>2024-03-01 10:15:50.520</td>\n",
       "      <td>card</td>\n",
       "      <td>ANON-0000-0000-0001</td>\n",
       "      <td>38.7</td>\n",
       "      <td>Latte</td>\n",
       "    </tr>\n",
       "    <tr>\n",
       "      <th>1</th>\n",
       "      <td>2024-03-01 12:19:22.539</td>\n",
       "      <td>card</td>\n",
       "      <td>ANON-0000-0000-0002</td>\n",
       "      <td>38.7</td>\n",
       "      <td>Hot Chocolate</td>\n",
       "    </tr>\n",
       "    <tr>\n",
       "      <th>2</th>\n",
       "      <td>2024-03-01 12:20:18.089</td>\n",
       "      <td>card</td>\n",
       "      <td>ANON-0000-0000-0002</td>\n",
       "      <td>38.7</td>\n",
       "      <td>Hot Chocolate</td>\n",
       "    </tr>\n",
       "    <tr>\n",
       "      <th>3</th>\n",
       "      <td>2024-03-01 13:46:33.006</td>\n",
       "      <td>card</td>\n",
       "      <td>ANON-0000-0000-0003</td>\n",
       "      <td>28.9</td>\n",
       "      <td>Americano</td>\n",
       "    </tr>\n",
       "    <tr>\n",
       "      <th>4</th>\n",
       "      <td>2024-03-01 13:48:14.626</td>\n",
       "      <td>card</td>\n",
       "      <td>ANON-0000-0000-0004</td>\n",
       "      <td>38.7</td>\n",
       "      <td>Latte</td>\n",
       "    </tr>\n",
       "  </tbody>\n",
       "</table>\n",
       "</div>"
      ],
      "text/plain": [
       "                  datetime cash_type                 card  money  \\\n",
       "0  2024-03-01 10:15:50.520      card  ANON-0000-0000-0001   38.7   \n",
       "1  2024-03-01 12:19:22.539      card  ANON-0000-0000-0002   38.7   \n",
       "2  2024-03-01 12:20:18.089      card  ANON-0000-0000-0002   38.7   \n",
       "3  2024-03-01 13:46:33.006      card  ANON-0000-0000-0003   28.9   \n",
       "4  2024-03-01 13:48:14.626      card  ANON-0000-0000-0004   38.7   \n",
       "\n",
       "     coffee_name  \n",
       "0          Latte  \n",
       "1  Hot Chocolate  \n",
       "2  Hot Chocolate  \n",
       "3      Americano  \n",
       "4          Latte  "
      ]
     },
     "execution_count": 10,
     "metadata": {},
     "output_type": "execute_result"
    }
   ],
   "source": [
    "df = df.drop('date',axis = 1)\n",
    "df.head()"
   ]
  },
  {
   "cell_type": "markdown",
   "id": "d03e2783-537b-4dd5-b110-05bdf9f08211",
   "metadata": {},
   "source": [
    "# Working with 'datetime' Column "
   ]
  },
  {
   "cell_type": "code",
   "execution_count": 11,
   "id": "1a289f86-089b-4db2-916f-1e060cffd9b6",
   "metadata": {},
   "outputs": [
    {
     "data": {
      "text/plain": [
       "0    2024-03-01 10:15:50.520\n",
       "1    2024-03-01 12:19:22.539\n",
       "2    2024-03-01 12:20:18.089\n",
       "3    2024-03-01 13:46:33.006\n",
       "4    2024-03-01 13:48:14.626\n",
       "Name: datetime, dtype: object"
      ]
     },
     "execution_count": 11,
     "metadata": {},
     "output_type": "execute_result"
    }
   ],
   "source": [
    "df['datetime'].head()"
   ]
  },
  {
   "cell_type": "markdown",
   "id": "79854272-e076-4c32-8817-5dd628dfe625",
   "metadata": {},
   "source": [
    "### Changing its Datatype (from object to datetime)"
   ]
  },
  {
   "cell_type": "code",
   "execution_count": 12,
   "id": "798d5f25-22f9-434b-9da8-a35d9c33f74c",
   "metadata": {},
   "outputs": [
    {
     "data": {
      "text/plain": [
       "0   2024-03-01 10:15:50.520\n",
       "1   2024-03-01 12:19:22.539\n",
       "2   2024-03-01 12:20:18.089\n",
       "3   2024-03-01 13:46:33.006\n",
       "4   2024-03-01 13:48:14.626\n",
       "Name: datetime, dtype: datetime64[ns]"
      ]
     },
     "execution_count": 12,
     "metadata": {},
     "output_type": "execute_result"
    }
   ],
   "source": [
    "df['datetime'] = pd.to_datetime(df['datetime'])\n",
    "df['datetime'].head()"
   ]
  },
  {
   "cell_type": "markdown",
   "id": "f84689a1-0561-4743-a0ff-284ff2b9255f",
   "metadata": {},
   "source": [
    "### Extracting Necessary Data From this column and add them to the dataset"
   ]
  },
  {
   "cell_type": "markdown",
   "id": "22f2f33f-6dfe-4fb4-995a-0e4de60ed4d1",
   "metadata": {},
   "source": [
    "#### Extracting Hour"
   ]
  },
  {
   "cell_type": "code",
   "execution_count": 13,
   "id": "2f2935bb-3b06-45da-bd62-77d295fb3947",
   "metadata": {},
   "outputs": [
    {
     "data": {
      "text/html": [
       "<div>\n",
       "<style scoped>\n",
       "    .dataframe tbody tr th:only-of-type {\n",
       "        vertical-align: middle;\n",
       "    }\n",
       "\n",
       "    .dataframe tbody tr th {\n",
       "        vertical-align: top;\n",
       "    }\n",
       "\n",
       "    .dataframe thead th {\n",
       "        text-align: right;\n",
       "    }\n",
       "</style>\n",
       "<table border=\"1\" class=\"dataframe\">\n",
       "  <thead>\n",
       "    <tr style=\"text-align: right;\">\n",
       "      <th></th>\n",
       "      <th>datetime</th>\n",
       "      <th>cash_type</th>\n",
       "      <th>card</th>\n",
       "      <th>money</th>\n",
       "      <th>coffee_name</th>\n",
       "      <th>Hour</th>\n",
       "    </tr>\n",
       "  </thead>\n",
       "  <tbody>\n",
       "    <tr>\n",
       "      <th>0</th>\n",
       "      <td>2024-03-01 10:15:50.520</td>\n",
       "      <td>card</td>\n",
       "      <td>ANON-0000-0000-0001</td>\n",
       "      <td>38.7</td>\n",
       "      <td>Latte</td>\n",
       "      <td>10</td>\n",
       "    </tr>\n",
       "    <tr>\n",
       "      <th>1</th>\n",
       "      <td>2024-03-01 12:19:22.539</td>\n",
       "      <td>card</td>\n",
       "      <td>ANON-0000-0000-0002</td>\n",
       "      <td>38.7</td>\n",
       "      <td>Hot Chocolate</td>\n",
       "      <td>12</td>\n",
       "    </tr>\n",
       "    <tr>\n",
       "      <th>2</th>\n",
       "      <td>2024-03-01 12:20:18.089</td>\n",
       "      <td>card</td>\n",
       "      <td>ANON-0000-0000-0002</td>\n",
       "      <td>38.7</td>\n",
       "      <td>Hot Chocolate</td>\n",
       "      <td>12</td>\n",
       "    </tr>\n",
       "    <tr>\n",
       "      <th>3</th>\n",
       "      <td>2024-03-01 13:46:33.006</td>\n",
       "      <td>card</td>\n",
       "      <td>ANON-0000-0000-0003</td>\n",
       "      <td>28.9</td>\n",
       "      <td>Americano</td>\n",
       "      <td>13</td>\n",
       "    </tr>\n",
       "    <tr>\n",
       "      <th>4</th>\n",
       "      <td>2024-03-01 13:48:14.626</td>\n",
       "      <td>card</td>\n",
       "      <td>ANON-0000-0000-0004</td>\n",
       "      <td>38.7</td>\n",
       "      <td>Latte</td>\n",
       "      <td>13</td>\n",
       "    </tr>\n",
       "  </tbody>\n",
       "</table>\n",
       "</div>"
      ],
      "text/plain": [
       "                 datetime cash_type                 card  money  \\\n",
       "0 2024-03-01 10:15:50.520      card  ANON-0000-0000-0001   38.7   \n",
       "1 2024-03-01 12:19:22.539      card  ANON-0000-0000-0002   38.7   \n",
       "2 2024-03-01 12:20:18.089      card  ANON-0000-0000-0002   38.7   \n",
       "3 2024-03-01 13:46:33.006      card  ANON-0000-0000-0003   28.9   \n",
       "4 2024-03-01 13:48:14.626      card  ANON-0000-0000-0004   38.7   \n",
       "\n",
       "     coffee_name  Hour  \n",
       "0          Latte    10  \n",
       "1  Hot Chocolate    12  \n",
       "2  Hot Chocolate    12  \n",
       "3      Americano    13  \n",
       "4          Latte    13  "
      ]
     },
     "execution_count": 13,
     "metadata": {},
     "output_type": "execute_result"
    }
   ],
   "source": [
    "#Extrac hour from datetime column\n",
    "list = []\n",
    "for i in range(df.shape[0]):\n",
    "    list.append(df['datetime'][i].hour)\n",
    "df['Hour'] = list\n",
    "df.head()"
   ]
  },
  {
   "cell_type": "markdown",
   "id": "5ec2aa8e-cc09-4581-b36d-1aee51fe24ab",
   "metadata": {},
   "source": [
    "#### Extracting Month"
   ]
  },
  {
   "cell_type": "code",
   "execution_count": 14,
   "id": "04fc6624-952f-4201-a5fb-3e5a8f1ce2d7",
   "metadata": {},
   "outputs": [
    {
     "data": {
      "text/html": [
       "<div>\n",
       "<style scoped>\n",
       "    .dataframe tbody tr th:only-of-type {\n",
       "        vertical-align: middle;\n",
       "    }\n",
       "\n",
       "    .dataframe tbody tr th {\n",
       "        vertical-align: top;\n",
       "    }\n",
       "\n",
       "    .dataframe thead th {\n",
       "        text-align: right;\n",
       "    }\n",
       "</style>\n",
       "<table border=\"1\" class=\"dataframe\">\n",
       "  <thead>\n",
       "    <tr style=\"text-align: right;\">\n",
       "      <th></th>\n",
       "      <th>datetime</th>\n",
       "      <th>cash_type</th>\n",
       "      <th>card</th>\n",
       "      <th>money</th>\n",
       "      <th>coffee_name</th>\n",
       "      <th>Hour</th>\n",
       "      <th>Month</th>\n",
       "    </tr>\n",
       "  </thead>\n",
       "  <tbody>\n",
       "    <tr>\n",
       "      <th>0</th>\n",
       "      <td>2024-03-01 10:15:50.520</td>\n",
       "      <td>card</td>\n",
       "      <td>ANON-0000-0000-0001</td>\n",
       "      <td>38.7</td>\n",
       "      <td>Latte</td>\n",
       "      <td>10</td>\n",
       "      <td>3</td>\n",
       "    </tr>\n",
       "    <tr>\n",
       "      <th>1</th>\n",
       "      <td>2024-03-01 12:19:22.539</td>\n",
       "      <td>card</td>\n",
       "      <td>ANON-0000-0000-0002</td>\n",
       "      <td>38.7</td>\n",
       "      <td>Hot Chocolate</td>\n",
       "      <td>12</td>\n",
       "      <td>3</td>\n",
       "    </tr>\n",
       "    <tr>\n",
       "      <th>2</th>\n",
       "      <td>2024-03-01 12:20:18.089</td>\n",
       "      <td>card</td>\n",
       "      <td>ANON-0000-0000-0002</td>\n",
       "      <td>38.7</td>\n",
       "      <td>Hot Chocolate</td>\n",
       "      <td>12</td>\n",
       "      <td>3</td>\n",
       "    </tr>\n",
       "    <tr>\n",
       "      <th>3</th>\n",
       "      <td>2024-03-01 13:46:33.006</td>\n",
       "      <td>card</td>\n",
       "      <td>ANON-0000-0000-0003</td>\n",
       "      <td>28.9</td>\n",
       "      <td>Americano</td>\n",
       "      <td>13</td>\n",
       "      <td>3</td>\n",
       "    </tr>\n",
       "    <tr>\n",
       "      <th>4</th>\n",
       "      <td>2024-03-01 13:48:14.626</td>\n",
       "      <td>card</td>\n",
       "      <td>ANON-0000-0000-0004</td>\n",
       "      <td>38.7</td>\n",
       "      <td>Latte</td>\n",
       "      <td>13</td>\n",
       "      <td>3</td>\n",
       "    </tr>\n",
       "  </tbody>\n",
       "</table>\n",
       "</div>"
      ],
      "text/plain": [
       "                 datetime cash_type                 card  money  \\\n",
       "0 2024-03-01 10:15:50.520      card  ANON-0000-0000-0001   38.7   \n",
       "1 2024-03-01 12:19:22.539      card  ANON-0000-0000-0002   38.7   \n",
       "2 2024-03-01 12:20:18.089      card  ANON-0000-0000-0002   38.7   \n",
       "3 2024-03-01 13:46:33.006      card  ANON-0000-0000-0003   28.9   \n",
       "4 2024-03-01 13:48:14.626      card  ANON-0000-0000-0004   38.7   \n",
       "\n",
       "     coffee_name  Hour  Month  \n",
       "0          Latte    10      3  \n",
       "1  Hot Chocolate    12      3  \n",
       "2  Hot Chocolate    12      3  \n",
       "3      Americano    13      3  \n",
       "4          Latte    13      3  "
      ]
     },
     "execution_count": 14,
     "metadata": {},
     "output_type": "execute_result"
    }
   ],
   "source": [
    "#Extrac Months from datetime column\n",
    "list = []\n",
    "for i in range(0,df.shape[0]):\n",
    "    list.append(df['datetime'][i].month)\n",
    "df['Month'] = list\n",
    "df.head()"
   ]
  },
  {
   "cell_type": "markdown",
   "id": "657ffe4f-5f99-439d-9c28-01f1c32db11a",
   "metadata": {},
   "source": [
    "#### Extracting Year"
   ]
  },
  {
   "cell_type": "code",
   "execution_count": 15,
   "id": "e17a170a-9466-493d-ab76-f069e024ed1b",
   "metadata": {},
   "outputs": [
    {
     "data": {
      "text/html": [
       "<div>\n",
       "<style scoped>\n",
       "    .dataframe tbody tr th:only-of-type {\n",
       "        vertical-align: middle;\n",
       "    }\n",
       "\n",
       "    .dataframe tbody tr th {\n",
       "        vertical-align: top;\n",
       "    }\n",
       "\n",
       "    .dataframe thead th {\n",
       "        text-align: right;\n",
       "    }\n",
       "</style>\n",
       "<table border=\"1\" class=\"dataframe\">\n",
       "  <thead>\n",
       "    <tr style=\"text-align: right;\">\n",
       "      <th></th>\n",
       "      <th>datetime</th>\n",
       "      <th>cash_type</th>\n",
       "      <th>card</th>\n",
       "      <th>money</th>\n",
       "      <th>coffee_name</th>\n",
       "      <th>Hour</th>\n",
       "      <th>Month</th>\n",
       "      <th>Year</th>\n",
       "    </tr>\n",
       "  </thead>\n",
       "  <tbody>\n",
       "    <tr>\n",
       "      <th>0</th>\n",
       "      <td>2024-03-01 10:15:50.520</td>\n",
       "      <td>card</td>\n",
       "      <td>ANON-0000-0000-0001</td>\n",
       "      <td>38.7</td>\n",
       "      <td>Latte</td>\n",
       "      <td>10</td>\n",
       "      <td>3</td>\n",
       "      <td>2024</td>\n",
       "    </tr>\n",
       "    <tr>\n",
       "      <th>1</th>\n",
       "      <td>2024-03-01 12:19:22.539</td>\n",
       "      <td>card</td>\n",
       "      <td>ANON-0000-0000-0002</td>\n",
       "      <td>38.7</td>\n",
       "      <td>Hot Chocolate</td>\n",
       "      <td>12</td>\n",
       "      <td>3</td>\n",
       "      <td>2024</td>\n",
       "    </tr>\n",
       "    <tr>\n",
       "      <th>2</th>\n",
       "      <td>2024-03-01 12:20:18.089</td>\n",
       "      <td>card</td>\n",
       "      <td>ANON-0000-0000-0002</td>\n",
       "      <td>38.7</td>\n",
       "      <td>Hot Chocolate</td>\n",
       "      <td>12</td>\n",
       "      <td>3</td>\n",
       "      <td>2024</td>\n",
       "    </tr>\n",
       "    <tr>\n",
       "      <th>3</th>\n",
       "      <td>2024-03-01 13:46:33.006</td>\n",
       "      <td>card</td>\n",
       "      <td>ANON-0000-0000-0003</td>\n",
       "      <td>28.9</td>\n",
       "      <td>Americano</td>\n",
       "      <td>13</td>\n",
       "      <td>3</td>\n",
       "      <td>2024</td>\n",
       "    </tr>\n",
       "    <tr>\n",
       "      <th>4</th>\n",
       "      <td>2024-03-01 13:48:14.626</td>\n",
       "      <td>card</td>\n",
       "      <td>ANON-0000-0000-0004</td>\n",
       "      <td>38.7</td>\n",
       "      <td>Latte</td>\n",
       "      <td>13</td>\n",
       "      <td>3</td>\n",
       "      <td>2024</td>\n",
       "    </tr>\n",
       "  </tbody>\n",
       "</table>\n",
       "</div>"
      ],
      "text/plain": [
       "                 datetime cash_type                 card  money  \\\n",
       "0 2024-03-01 10:15:50.520      card  ANON-0000-0000-0001   38.7   \n",
       "1 2024-03-01 12:19:22.539      card  ANON-0000-0000-0002   38.7   \n",
       "2 2024-03-01 12:20:18.089      card  ANON-0000-0000-0002   38.7   \n",
       "3 2024-03-01 13:46:33.006      card  ANON-0000-0000-0003   28.9   \n",
       "4 2024-03-01 13:48:14.626      card  ANON-0000-0000-0004   38.7   \n",
       "\n",
       "     coffee_name  Hour  Month  Year  \n",
       "0          Latte    10      3  2024  \n",
       "1  Hot Chocolate    12      3  2024  \n",
       "2  Hot Chocolate    12      3  2024  \n",
       "3      Americano    13      3  2024  \n",
       "4          Latte    13      3  2024  "
      ]
     },
     "execution_count": 15,
     "metadata": {},
     "output_type": "execute_result"
    }
   ],
   "source": [
    "#Extrac years from datetime column\n",
    "def date_to_year(date):\n",
    "    return date.year\n",
    "\n",
    "df['Year'] = df['datetime'].apply(date_to_year)\n",
    "df.head()"
   ]
  },
  {
   "cell_type": "markdown",
   "id": "a627e151-0581-4c27-865d-a57f4daa0667",
   "metadata": {},
   "source": [
    "#### EXtracting day"
   ]
  },
  {
   "cell_type": "code",
   "execution_count": 16,
   "id": "5a850922-14b7-4964-bc06-cd89bff96270",
   "metadata": {},
   "outputs": [
    {
     "data": {
      "text/html": [
       "<div>\n",
       "<style scoped>\n",
       "    .dataframe tbody tr th:only-of-type {\n",
       "        vertical-align: middle;\n",
       "    }\n",
       "\n",
       "    .dataframe tbody tr th {\n",
       "        vertical-align: top;\n",
       "    }\n",
       "\n",
       "    .dataframe thead th {\n",
       "        text-align: right;\n",
       "    }\n",
       "</style>\n",
       "<table border=\"1\" class=\"dataframe\">\n",
       "  <thead>\n",
       "    <tr style=\"text-align: right;\">\n",
       "      <th></th>\n",
       "      <th>datetime</th>\n",
       "      <th>cash_type</th>\n",
       "      <th>card</th>\n",
       "      <th>money</th>\n",
       "      <th>coffee_name</th>\n",
       "      <th>Hour</th>\n",
       "      <th>Month</th>\n",
       "      <th>Year</th>\n",
       "      <th>day</th>\n",
       "    </tr>\n",
       "  </thead>\n",
       "  <tbody>\n",
       "    <tr>\n",
       "      <th>0</th>\n",
       "      <td>2024-03-01 10:15:50.520</td>\n",
       "      <td>card</td>\n",
       "      <td>ANON-0000-0000-0001</td>\n",
       "      <td>38.7</td>\n",
       "      <td>Latte</td>\n",
       "      <td>10</td>\n",
       "      <td>3</td>\n",
       "      <td>2024</td>\n",
       "      <td>5</td>\n",
       "    </tr>\n",
       "    <tr>\n",
       "      <th>1</th>\n",
       "      <td>2024-03-01 12:19:22.539</td>\n",
       "      <td>card</td>\n",
       "      <td>ANON-0000-0000-0002</td>\n",
       "      <td>38.7</td>\n",
       "      <td>Hot Chocolate</td>\n",
       "      <td>12</td>\n",
       "      <td>3</td>\n",
       "      <td>2024</td>\n",
       "      <td>5</td>\n",
       "    </tr>\n",
       "    <tr>\n",
       "      <th>2</th>\n",
       "      <td>2024-03-01 12:20:18.089</td>\n",
       "      <td>card</td>\n",
       "      <td>ANON-0000-0000-0002</td>\n",
       "      <td>38.7</td>\n",
       "      <td>Hot Chocolate</td>\n",
       "      <td>12</td>\n",
       "      <td>3</td>\n",
       "      <td>2024</td>\n",
       "      <td>5</td>\n",
       "    </tr>\n",
       "    <tr>\n",
       "      <th>3</th>\n",
       "      <td>2024-03-01 13:46:33.006</td>\n",
       "      <td>card</td>\n",
       "      <td>ANON-0000-0000-0003</td>\n",
       "      <td>28.9</td>\n",
       "      <td>Americano</td>\n",
       "      <td>13</td>\n",
       "      <td>3</td>\n",
       "      <td>2024</td>\n",
       "      <td>5</td>\n",
       "    </tr>\n",
       "    <tr>\n",
       "      <th>4</th>\n",
       "      <td>2024-03-01 13:48:14.626</td>\n",
       "      <td>card</td>\n",
       "      <td>ANON-0000-0000-0004</td>\n",
       "      <td>38.7</td>\n",
       "      <td>Latte</td>\n",
       "      <td>13</td>\n",
       "      <td>3</td>\n",
       "      <td>2024</td>\n",
       "      <td>5</td>\n",
       "    </tr>\n",
       "  </tbody>\n",
       "</table>\n",
       "</div>"
      ],
      "text/plain": [
       "                 datetime cash_type                 card  money  \\\n",
       "0 2024-03-01 10:15:50.520      card  ANON-0000-0000-0001   38.7   \n",
       "1 2024-03-01 12:19:22.539      card  ANON-0000-0000-0002   38.7   \n",
       "2 2024-03-01 12:20:18.089      card  ANON-0000-0000-0002   38.7   \n",
       "3 2024-03-01 13:46:33.006      card  ANON-0000-0000-0003   28.9   \n",
       "4 2024-03-01 13:48:14.626      card  ANON-0000-0000-0004   38.7   \n",
       "\n",
       "     coffee_name  Hour  Month  Year day  \n",
       "0          Latte    10      3  2024   5  \n",
       "1  Hot Chocolate    12      3  2024   5  \n",
       "2  Hot Chocolate    12      3  2024   5  \n",
       "3      Americano    13      3  2024   5  \n",
       "4          Latte    13      3  2024   5  "
      ]
     },
     "execution_count": 16,
     "metadata": {},
     "output_type": "execute_result"
    }
   ],
   "source": [
    "df['day']=df['datetime'].dt.strftime('%w')\n",
    "df.head()"
   ]
  },
  {
   "cell_type": "markdown",
   "id": "a097ff03-d607-4640-885f-324fb9a26178",
   "metadata": {},
   "source": [
    "#### Extract Date"
   ]
  },
  {
   "cell_type": "code",
   "execution_count": 17,
   "id": "bdc66430-8f2d-4f28-bc86-bce8d0e4fdf4",
   "metadata": {},
   "outputs": [
    {
     "data": {
      "text/html": [
       "<div>\n",
       "<style scoped>\n",
       "    .dataframe tbody tr th:only-of-type {\n",
       "        vertical-align: middle;\n",
       "    }\n",
       "\n",
       "    .dataframe tbody tr th {\n",
       "        vertical-align: top;\n",
       "    }\n",
       "\n",
       "    .dataframe thead th {\n",
       "        text-align: right;\n",
       "    }\n",
       "</style>\n",
       "<table border=\"1\" class=\"dataframe\">\n",
       "  <thead>\n",
       "    <tr style=\"text-align: right;\">\n",
       "      <th></th>\n",
       "      <th>datetime</th>\n",
       "      <th>cash_type</th>\n",
       "      <th>card</th>\n",
       "      <th>money</th>\n",
       "      <th>coffee_name</th>\n",
       "      <th>Hour</th>\n",
       "      <th>Month</th>\n",
       "      <th>Year</th>\n",
       "      <th>day</th>\n",
       "      <th>date</th>\n",
       "    </tr>\n",
       "  </thead>\n",
       "  <tbody>\n",
       "    <tr>\n",
       "      <th>0</th>\n",
       "      <td>2024-03-01 10:15:50.520</td>\n",
       "      <td>card</td>\n",
       "      <td>ANON-0000-0000-0001</td>\n",
       "      <td>38.7</td>\n",
       "      <td>Latte</td>\n",
       "      <td>10</td>\n",
       "      <td>3</td>\n",
       "      <td>2024</td>\n",
       "      <td>5</td>\n",
       "      <td>2024-03-01</td>\n",
       "    </tr>\n",
       "    <tr>\n",
       "      <th>1</th>\n",
       "      <td>2024-03-01 12:19:22.539</td>\n",
       "      <td>card</td>\n",
       "      <td>ANON-0000-0000-0002</td>\n",
       "      <td>38.7</td>\n",
       "      <td>Hot Chocolate</td>\n",
       "      <td>12</td>\n",
       "      <td>3</td>\n",
       "      <td>2024</td>\n",
       "      <td>5</td>\n",
       "      <td>2024-03-01</td>\n",
       "    </tr>\n",
       "    <tr>\n",
       "      <th>2</th>\n",
       "      <td>2024-03-01 12:20:18.089</td>\n",
       "      <td>card</td>\n",
       "      <td>ANON-0000-0000-0002</td>\n",
       "      <td>38.7</td>\n",
       "      <td>Hot Chocolate</td>\n",
       "      <td>12</td>\n",
       "      <td>3</td>\n",
       "      <td>2024</td>\n",
       "      <td>5</td>\n",
       "      <td>2024-03-01</td>\n",
       "    </tr>\n",
       "    <tr>\n",
       "      <th>3</th>\n",
       "      <td>2024-03-01 13:46:33.006</td>\n",
       "      <td>card</td>\n",
       "      <td>ANON-0000-0000-0003</td>\n",
       "      <td>28.9</td>\n",
       "      <td>Americano</td>\n",
       "      <td>13</td>\n",
       "      <td>3</td>\n",
       "      <td>2024</td>\n",
       "      <td>5</td>\n",
       "      <td>2024-03-01</td>\n",
       "    </tr>\n",
       "    <tr>\n",
       "      <th>4</th>\n",
       "      <td>2024-03-01 13:48:14.626</td>\n",
       "      <td>card</td>\n",
       "      <td>ANON-0000-0000-0004</td>\n",
       "      <td>38.7</td>\n",
       "      <td>Latte</td>\n",
       "      <td>13</td>\n",
       "      <td>3</td>\n",
       "      <td>2024</td>\n",
       "      <td>5</td>\n",
       "      <td>2024-03-01</td>\n",
       "    </tr>\n",
       "  </tbody>\n",
       "</table>\n",
       "</div>"
      ],
      "text/plain": [
       "                 datetime cash_type                 card  money  \\\n",
       "0 2024-03-01 10:15:50.520      card  ANON-0000-0000-0001   38.7   \n",
       "1 2024-03-01 12:19:22.539      card  ANON-0000-0000-0002   38.7   \n",
       "2 2024-03-01 12:20:18.089      card  ANON-0000-0000-0002   38.7   \n",
       "3 2024-03-01 13:46:33.006      card  ANON-0000-0000-0003   28.9   \n",
       "4 2024-03-01 13:48:14.626      card  ANON-0000-0000-0004   38.7   \n",
       "\n",
       "     coffee_name  Hour  Month  Year day        date  \n",
       "0          Latte    10      3  2024   5  2024-03-01  \n",
       "1  Hot Chocolate    12      3  2024   5  2024-03-01  \n",
       "2  Hot Chocolate    12      3  2024   5  2024-03-01  \n",
       "3      Americano    13      3  2024   5  2024-03-01  \n",
       "4          Latte    13      3  2024   5  2024-03-01  "
      ]
     },
     "execution_count": 17,
     "metadata": {},
     "output_type": "execute_result"
    }
   ],
   "source": [
    "df['date'] = df['datetime'].dt.date\n",
    "df.head()"
   ]
  },
  {
   "cell_type": "markdown",
   "id": "565b99ac-03dc-4e55-a0b1-46b872547783",
   "metadata": {},
   "source": [
    "#### Dropping datetime column"
   ]
  },
  {
   "cell_type": "code",
   "execution_count": 18,
   "id": "76b9e2c9-6154-48e4-85a2-dbc5305d4c0f",
   "metadata": {},
   "outputs": [
    {
     "data": {
      "text/html": [
       "<div>\n",
       "<style scoped>\n",
       "    .dataframe tbody tr th:only-of-type {\n",
       "        vertical-align: middle;\n",
       "    }\n",
       "\n",
       "    .dataframe tbody tr th {\n",
       "        vertical-align: top;\n",
       "    }\n",
       "\n",
       "    .dataframe thead th {\n",
       "        text-align: right;\n",
       "    }\n",
       "</style>\n",
       "<table border=\"1\" class=\"dataframe\">\n",
       "  <thead>\n",
       "    <tr style=\"text-align: right;\">\n",
       "      <th></th>\n",
       "      <th>cash_type</th>\n",
       "      <th>card</th>\n",
       "      <th>money</th>\n",
       "      <th>coffee_name</th>\n",
       "      <th>Hour</th>\n",
       "      <th>Month</th>\n",
       "      <th>Year</th>\n",
       "      <th>day</th>\n",
       "      <th>date</th>\n",
       "    </tr>\n",
       "  </thead>\n",
       "  <tbody>\n",
       "    <tr>\n",
       "      <th>0</th>\n",
       "      <td>card</td>\n",
       "      <td>ANON-0000-0000-0001</td>\n",
       "      <td>38.7</td>\n",
       "      <td>Latte</td>\n",
       "      <td>10</td>\n",
       "      <td>3</td>\n",
       "      <td>2024</td>\n",
       "      <td>5</td>\n",
       "      <td>2024-03-01</td>\n",
       "    </tr>\n",
       "    <tr>\n",
       "      <th>1</th>\n",
       "      <td>card</td>\n",
       "      <td>ANON-0000-0000-0002</td>\n",
       "      <td>38.7</td>\n",
       "      <td>Hot Chocolate</td>\n",
       "      <td>12</td>\n",
       "      <td>3</td>\n",
       "      <td>2024</td>\n",
       "      <td>5</td>\n",
       "      <td>2024-03-01</td>\n",
       "    </tr>\n",
       "    <tr>\n",
       "      <th>2</th>\n",
       "      <td>card</td>\n",
       "      <td>ANON-0000-0000-0002</td>\n",
       "      <td>38.7</td>\n",
       "      <td>Hot Chocolate</td>\n",
       "      <td>12</td>\n",
       "      <td>3</td>\n",
       "      <td>2024</td>\n",
       "      <td>5</td>\n",
       "      <td>2024-03-01</td>\n",
       "    </tr>\n",
       "    <tr>\n",
       "      <th>3</th>\n",
       "      <td>card</td>\n",
       "      <td>ANON-0000-0000-0003</td>\n",
       "      <td>28.9</td>\n",
       "      <td>Americano</td>\n",
       "      <td>13</td>\n",
       "      <td>3</td>\n",
       "      <td>2024</td>\n",
       "      <td>5</td>\n",
       "      <td>2024-03-01</td>\n",
       "    </tr>\n",
       "    <tr>\n",
       "      <th>4</th>\n",
       "      <td>card</td>\n",
       "      <td>ANON-0000-0000-0004</td>\n",
       "      <td>38.7</td>\n",
       "      <td>Latte</td>\n",
       "      <td>13</td>\n",
       "      <td>3</td>\n",
       "      <td>2024</td>\n",
       "      <td>5</td>\n",
       "      <td>2024-03-01</td>\n",
       "    </tr>\n",
       "  </tbody>\n",
       "</table>\n",
       "</div>"
      ],
      "text/plain": [
       "  cash_type                 card  money    coffee_name  Hour  Month  Year day  \\\n",
       "0      card  ANON-0000-0000-0001   38.7          Latte    10      3  2024   5   \n",
       "1      card  ANON-0000-0000-0002   38.7  Hot Chocolate    12      3  2024   5   \n",
       "2      card  ANON-0000-0000-0002   38.7  Hot Chocolate    12      3  2024   5   \n",
       "3      card  ANON-0000-0000-0003   28.9      Americano    13      3  2024   5   \n",
       "4      card  ANON-0000-0000-0004   38.7          Latte    13      3  2024   5   \n",
       "\n",
       "         date  \n",
       "0  2024-03-01  \n",
       "1  2024-03-01  \n",
       "2  2024-03-01  \n",
       "3  2024-03-01  \n",
       "4  2024-03-01  "
      ]
     },
     "execution_count": 18,
     "metadata": {},
     "output_type": "execute_result"
    }
   ],
   "source": [
    "df =df.drop('datetime',axis = 1)\n",
    "df.head()"
   ]
  },
  {
   "cell_type": "markdown",
   "id": "d498dffd-e093-47d1-a98d-daf6d63bee1e",
   "metadata": {},
   "source": [
    "#### Organizig the columns"
   ]
  },
  {
   "cell_type": "code",
   "execution_count": 19,
   "id": "213519fd-cf6c-4a8b-b261-80a2f7fd6149",
   "metadata": {},
   "outputs": [
    {
     "data": {
      "text/plain": [
       "Index(['cash_type', 'card', 'money', 'coffee_name', 'Hour', 'Month', 'Year',\n",
       "       'day', 'date'],\n",
       "      dtype='object')"
      ]
     },
     "execution_count": 19,
     "metadata": {},
     "output_type": "execute_result"
    }
   ],
   "source": [
    "df.columns"
   ]
  },
  {
   "cell_type": "code",
   "execution_count": 20,
   "id": "66184b29-f5f4-4f63-b704-c9a852a832b5",
   "metadata": {},
   "outputs": [
    {
     "data": {
      "text/html": [
       "<div>\n",
       "<style scoped>\n",
       "    .dataframe tbody tr th:only-of-type {\n",
       "        vertical-align: middle;\n",
       "    }\n",
       "\n",
       "    .dataframe tbody tr th {\n",
       "        vertical-align: top;\n",
       "    }\n",
       "\n",
       "    .dataframe thead th {\n",
       "        text-align: right;\n",
       "    }\n",
       "</style>\n",
       "<table border=\"1\" class=\"dataframe\">\n",
       "  <thead>\n",
       "    <tr style=\"text-align: right;\">\n",
       "      <th></th>\n",
       "      <th>date</th>\n",
       "      <th>Month</th>\n",
       "      <th>Year</th>\n",
       "      <th>day</th>\n",
       "      <th>Hour</th>\n",
       "      <th>coffee_name</th>\n",
       "      <th>cash_type</th>\n",
       "      <th>card</th>\n",
       "      <th>money</th>\n",
       "    </tr>\n",
       "  </thead>\n",
       "  <tbody>\n",
       "    <tr>\n",
       "      <th>0</th>\n",
       "      <td>2024-03-01</td>\n",
       "      <td>3</td>\n",
       "      <td>2024</td>\n",
       "      <td>5</td>\n",
       "      <td>10</td>\n",
       "      <td>Latte</td>\n",
       "      <td>card</td>\n",
       "      <td>ANON-0000-0000-0001</td>\n",
       "      <td>38.7</td>\n",
       "    </tr>\n",
       "    <tr>\n",
       "      <th>1</th>\n",
       "      <td>2024-03-01</td>\n",
       "      <td>3</td>\n",
       "      <td>2024</td>\n",
       "      <td>5</td>\n",
       "      <td>12</td>\n",
       "      <td>Hot Chocolate</td>\n",
       "      <td>card</td>\n",
       "      <td>ANON-0000-0000-0002</td>\n",
       "      <td>38.7</td>\n",
       "    </tr>\n",
       "    <tr>\n",
       "      <th>2</th>\n",
       "      <td>2024-03-01</td>\n",
       "      <td>3</td>\n",
       "      <td>2024</td>\n",
       "      <td>5</td>\n",
       "      <td>12</td>\n",
       "      <td>Hot Chocolate</td>\n",
       "      <td>card</td>\n",
       "      <td>ANON-0000-0000-0002</td>\n",
       "      <td>38.7</td>\n",
       "    </tr>\n",
       "    <tr>\n",
       "      <th>3</th>\n",
       "      <td>2024-03-01</td>\n",
       "      <td>3</td>\n",
       "      <td>2024</td>\n",
       "      <td>5</td>\n",
       "      <td>13</td>\n",
       "      <td>Americano</td>\n",
       "      <td>card</td>\n",
       "      <td>ANON-0000-0000-0003</td>\n",
       "      <td>28.9</td>\n",
       "    </tr>\n",
       "    <tr>\n",
       "      <th>4</th>\n",
       "      <td>2024-03-01</td>\n",
       "      <td>3</td>\n",
       "      <td>2024</td>\n",
       "      <td>5</td>\n",
       "      <td>13</td>\n",
       "      <td>Latte</td>\n",
       "      <td>card</td>\n",
       "      <td>ANON-0000-0000-0004</td>\n",
       "      <td>38.7</td>\n",
       "    </tr>\n",
       "  </tbody>\n",
       "</table>\n",
       "</div>"
      ],
      "text/plain": [
       "         date  Month  Year day  Hour    coffee_name cash_type  \\\n",
       "0  2024-03-01      3  2024   5    10          Latte      card   \n",
       "1  2024-03-01      3  2024   5    12  Hot Chocolate      card   \n",
       "2  2024-03-01      3  2024   5    12  Hot Chocolate      card   \n",
       "3  2024-03-01      3  2024   5    13      Americano      card   \n",
       "4  2024-03-01      3  2024   5    13          Latte      card   \n",
       "\n",
       "                  card  money  \n",
       "0  ANON-0000-0000-0001   38.7  \n",
       "1  ANON-0000-0000-0002   38.7  \n",
       "2  ANON-0000-0000-0002   38.7  \n",
       "3  ANON-0000-0000-0003   28.9  \n",
       "4  ANON-0000-0000-0004   38.7  "
      ]
     },
     "execution_count": 20,
     "metadata": {},
     "output_type": "execute_result"
    }
   ],
   "source": [
    "organized_columns = ['date','Month', 'Year', \n",
    "        'day','Hour','coffee_name','cash_type', 'card', 'money',  ]\n",
    "df = df[organized_columns]\n",
    "df.head()"
   ]
  },
  {
   "cell_type": "markdown",
   "id": "6e0f61e7-4106-438e-b4ad-d8326eccc106",
   "metadata": {},
   "source": [
    "# working with cash_type"
   ]
  },
  {
   "cell_type": "code",
   "execution_count": 21,
   "id": "4966eec5-c92a-4b95-8b44-761a054d8be5",
   "metadata": {},
   "outputs": [
    {
     "data": {
      "text/plain": [
       "cash_type\n",
       "card    1044\n",
       "cash      89\n",
       "Name: count, dtype: int64"
      ]
     },
     "execution_count": 21,
     "metadata": {},
     "output_type": "execute_result"
    }
   ],
   "source": [
    "df['cash_type'].value_counts()"
   ]
  },
  {
   "cell_type": "code",
   "execution_count": 22,
   "id": "bb587536-f230-44ba-819b-78bf2de0e6e8",
   "metadata": {},
   "outputs": [
    {
     "data": {
      "text/plain": [
       "0"
      ]
     },
     "execution_count": 22,
     "metadata": {},
     "output_type": "execute_result"
    }
   ],
   "source": [
    "df['cash_type'].isnull().sum()"
   ]
  },
  {
   "cell_type": "code",
   "execution_count": 23,
   "id": "da85f38e-9df4-42b9-b777-542a2b3d9f62",
   "metadata": {},
   "outputs": [
    {
     "data": {
      "text/plain": [
       "cash_type\n",
       "card    0.921447\n",
       "cash    0.078553\n",
       "Name: proportion, dtype: float64"
      ]
     },
     "execution_count": 23,
     "metadata": {},
     "output_type": "execute_result"
    }
   ],
   "source": [
    "df['cash_type'].value_counts(normalize=True)"
   ]
  },
  {
   "cell_type": "markdown",
   "id": "f0e3436a-d052-4fb5-9863-d11f47ed2d2b",
   "metadata": {},
   "source": [
    "# working with card"
   ]
  },
  {
   "cell_type": "code",
   "execution_count": 24,
   "id": "c8531234-0925-4be8-9c30-58de2062b23b",
   "metadata": {},
   "outputs": [
    {
     "data": {
      "text/plain": [
       "446"
      ]
     },
     "execution_count": 24,
     "metadata": {},
     "output_type": "execute_result"
    }
   ],
   "source": [
    "df['card'].nunique()"
   ]
  },
  {
   "cell_type": "code",
   "execution_count": 25,
   "id": "2582d91b-6a5a-41cd-beff-29a3e6dd956c",
   "metadata": {},
   "outputs": [
    {
     "data": {
      "text/plain": [
       "89"
      ]
     },
     "execution_count": 25,
     "metadata": {},
     "output_type": "execute_result"
    }
   ],
   "source": [
    "df['card'].isnull().sum()"
   ]
  },
  {
   "cell_type": "code",
   "execution_count": 26,
   "id": "5fc5dc7f-64b8-46bf-b1e1-f396f22c080f",
   "metadata": {},
   "outputs": [
    {
     "data": {
      "text/html": [
       "<div>\n",
       "<style scoped>\n",
       "    .dataframe tbody tr th:only-of-type {\n",
       "        vertical-align: middle;\n",
       "    }\n",
       "\n",
       "    .dataframe tbody tr th {\n",
       "        vertical-align: top;\n",
       "    }\n",
       "\n",
       "    .dataframe thead th {\n",
       "        text-align: right;\n",
       "    }\n",
       "</style>\n",
       "<table border=\"1\" class=\"dataframe\">\n",
       "  <thead>\n",
       "    <tr style=\"text-align: right;\">\n",
       "      <th></th>\n",
       "      <th>date</th>\n",
       "      <th>Month</th>\n",
       "      <th>Year</th>\n",
       "      <th>day</th>\n",
       "      <th>Hour</th>\n",
       "      <th>coffee_name</th>\n",
       "      <th>cash_type</th>\n",
       "      <th>card</th>\n",
       "      <th>money</th>\n",
       "    </tr>\n",
       "  </thead>\n",
       "  <tbody>\n",
       "    <tr>\n",
       "      <th>12</th>\n",
       "      <td>2024-03-02</td>\n",
       "      <td>3</td>\n",
       "      <td>2024</td>\n",
       "      <td>6</td>\n",
       "      <td>10</td>\n",
       "      <td>Latte</td>\n",
       "      <td>cash</td>\n",
       "      <td>NaN</td>\n",
       "      <td>40.0</td>\n",
       "    </tr>\n",
       "    <tr>\n",
       "      <th>18</th>\n",
       "      <td>2024-03-03</td>\n",
       "      <td>3</td>\n",
       "      <td>2024</td>\n",
       "      <td>0</td>\n",
       "      <td>10</td>\n",
       "      <td>Latte</td>\n",
       "      <td>cash</td>\n",
       "      <td>NaN</td>\n",
       "      <td>40.0</td>\n",
       "    </tr>\n",
       "    <tr>\n",
       "      <th>41</th>\n",
       "      <td>2024-03-06</td>\n",
       "      <td>3</td>\n",
       "      <td>2024</td>\n",
       "      <td>3</td>\n",
       "      <td>12</td>\n",
       "      <td>Americano with Milk</td>\n",
       "      <td>cash</td>\n",
       "      <td>NaN</td>\n",
       "      <td>35.0</td>\n",
       "    </tr>\n",
       "    <tr>\n",
       "      <th>46</th>\n",
       "      <td>2024-03-07</td>\n",
       "      <td>3</td>\n",
       "      <td>2024</td>\n",
       "      <td>4</td>\n",
       "      <td>10</td>\n",
       "      <td>Latte</td>\n",
       "      <td>cash</td>\n",
       "      <td>NaN</td>\n",
       "      <td>40.0</td>\n",
       "    </tr>\n",
       "    <tr>\n",
       "      <th>49</th>\n",
       "      <td>2024-03-07</td>\n",
       "      <td>3</td>\n",
       "      <td>2024</td>\n",
       "      <td>4</td>\n",
       "      <td>11</td>\n",
       "      <td>Latte</td>\n",
       "      <td>cash</td>\n",
       "      <td>NaN</td>\n",
       "      <td>40.0</td>\n",
       "    </tr>\n",
       "  </tbody>\n",
       "</table>\n",
       "</div>"
      ],
      "text/plain": [
       "          date  Month  Year day  Hour          coffee_name cash_type card  \\\n",
       "12  2024-03-02      3  2024   6    10                Latte      cash  NaN   \n",
       "18  2024-03-03      3  2024   0    10                Latte      cash  NaN   \n",
       "41  2024-03-06      3  2024   3    12  Americano with Milk      cash  NaN   \n",
       "46  2024-03-07      3  2024   4    10                Latte      cash  NaN   \n",
       "49  2024-03-07      3  2024   4    11                Latte      cash  NaN   \n",
       "\n",
       "    money  \n",
       "12   40.0  \n",
       "18   40.0  \n",
       "41   35.0  \n",
       "46   40.0  \n",
       "49   40.0  "
      ]
     },
     "execution_count": 26,
     "metadata": {},
     "output_type": "execute_result"
    }
   ],
   "source": [
    "df[df['card'].isnull()].head()"
   ]
  },
  {
   "cell_type": "code",
   "execution_count": 27,
   "id": "6a729cbc-c867-4836-81a0-903142bea18a",
   "metadata": {},
   "outputs": [
    {
     "data": {
      "text/plain": [
       "0    ANON-0000-0000-0012\n",
       "Name: card, dtype: object"
      ]
     },
     "execution_count": 27,
     "metadata": {},
     "output_type": "execute_result"
    }
   ],
   "source": [
    "df['card'].mode()"
   ]
  },
  {
   "cell_type": "markdown",
   "id": "256f037e-e7ca-4720-bde7-a433d95b6bbc",
   "metadata": {},
   "source": [
    "### Filling the missing values with its mode"
   ]
  },
  {
   "cell_type": "code",
   "execution_count": 28,
   "id": "63831320-ff48-4ec7-b9d1-6e1337ef0bab",
   "metadata": {},
   "outputs": [
    {
     "data": {
      "text/plain": [
       "0"
      ]
     },
     "execution_count": 28,
     "metadata": {},
     "output_type": "execute_result"
    }
   ],
   "source": [
    "df['card'] = df['card'].fillna(df['card'].mode()[0])\n",
    "df['card'].isnull().sum()"
   ]
  },
  {
   "cell_type": "markdown",
   "id": "6192f30c-3a7a-4808-b234-9b513d7f2063",
   "metadata": {},
   "source": [
    "# working with money"
   ]
  },
  {
   "cell_type": "code",
   "execution_count": 29,
   "id": "6fc54053-0a0d-485f-8959-653f38590d63",
   "metadata": {},
   "outputs": [
    {
     "data": {
      "text/plain": [
       "0"
      ]
     },
     "execution_count": 29,
     "metadata": {},
     "output_type": "execute_result"
    }
   ],
   "source": [
    "df['money'].isnull().sum()"
   ]
  },
  {
   "cell_type": "code",
   "execution_count": 30,
   "id": "5a79d022-070c-4763-9828-44283d6afedc",
   "metadata": {},
   "outputs": [
    {
     "data": {
      "text/plain": [
       "date           0\n",
       "Month          0\n",
       "Year           0\n",
       "day            0\n",
       "Hour           0\n",
       "coffee_name    0\n",
       "cash_type      0\n",
       "card           0\n",
       "money          0\n",
       "dtype: int64"
      ]
     },
     "execution_count": 30,
     "metadata": {},
     "output_type": "execute_result"
    }
   ],
   "source": [
    "df.isnull().sum()"
   ]
  },
  {
   "cell_type": "markdown",
   "id": "0e5f6315-eb07-4e54-8af5-e120494f52db",
   "metadata": {},
   "source": [
    "# working with coffee name"
   ]
  },
  {
   "cell_type": "code",
   "execution_count": 31,
   "id": "bd4553a5-ca87-46da-b7a9-e9745188e0be",
   "metadata": {},
   "outputs": [
    {
     "data": {
      "text/plain": [
       "array(['Latte', 'Hot Chocolate', 'Americano', 'Americano with Milk',\n",
       "       'Cocoa', 'Cortado', 'Espresso', 'Cappuccino'], dtype=object)"
      ]
     },
     "execution_count": 31,
     "metadata": {},
     "output_type": "execute_result"
    }
   ],
   "source": [
    "df['coffee_name'].unique()"
   ]
  },
  {
   "cell_type": "code",
   "execution_count": 32,
   "id": "d28f96bc-11fd-4595-a058-79701d5f4402",
   "metadata": {},
   "outputs": [
    {
     "data": {
      "text/plain": [
       "0"
      ]
     },
     "execution_count": 32,
     "metadata": {},
     "output_type": "execute_result"
    }
   ],
   "source": [
    "df['coffee_name'].isnull().sum()"
   ]
  },
  {
   "cell_type": "markdown",
   "id": "d204eff4-b981-4b6e-9985-fc076cb4dda7",
   "metadata": {},
   "source": [
    "### Count the Freequency of every datapoint in this column(in values)"
   ]
  },
  {
   "cell_type": "code",
   "execution_count": 33,
   "id": "7abb6cc9-d9ca-4433-94d5-5b2983e00aa9",
   "metadata": {},
   "outputs": [
    {
     "data": {
      "text/plain": [
       "coffee_name\n",
       "Americano with Milk    268\n",
       "Latte                  243\n",
       "Cappuccino             196\n",
       "Americano              169\n",
       "Cortado                 99\n",
       "Hot Chocolate           74\n",
       "Espresso                49\n",
       "Cocoa                   35\n",
       "Name: count, dtype: int64"
      ]
     },
     "execution_count": 33,
     "metadata": {},
     "output_type": "execute_result"
    }
   ],
   "source": [
    "df['coffee_name'].value_counts()"
   ]
  },
  {
   "cell_type": "markdown",
   "id": "197461d1-356e-4601-baab-60c75d7b366e",
   "metadata": {},
   "source": [
    "### Count the Freequency of every datapoint in this column(in percent)"
   ]
  },
  {
   "cell_type": "code",
   "execution_count": 34,
   "id": "79c3316a-17e0-4d9f-af83-a87ee1fb4f20",
   "metadata": {},
   "outputs": [
    {
     "data": {
      "text/plain": [
       "coffee_name\n",
       "Americano with Milk    23.65\n",
       "Latte                  21.45\n",
       "Cappuccino             17.30\n",
       "Americano              14.92\n",
       "Cortado                 8.74\n",
       "Hot Chocolate           6.53\n",
       "Espresso                4.32\n",
       "Cocoa                   3.09\n",
       "Name: proportion, dtype: float64"
      ]
     },
     "execution_count": 34,
     "metadata": {},
     "output_type": "execute_result"
    }
   ],
   "source": [
    "df['coffee_name'].value_counts(normalize=True).sort_values(ascending=False).round(4)*100"
   ]
  },
  {
   "cell_type": "markdown",
   "id": "9dc1a052-4249-4d88-805d-ac436725ab92",
   "metadata": {},
   "source": [
    "# Checkpoints"
   ]
  },
  {
   "cell_type": "code",
   "execution_count": 35,
   "id": "1245dc6a-80f1-4a1b-8dbd-9a8b327fa887",
   "metadata": {},
   "outputs": [],
   "source": [
    "df_cleaed = df.copy()"
   ]
  },
  {
   "cell_type": "code",
   "execution_count": 36,
   "id": "ba8e1fcd-3c75-4d77-9c30-bc2df37987c8",
   "metadata": {},
   "outputs": [
    {
     "data": {
      "text/html": [
       "<div>\n",
       "<style scoped>\n",
       "    .dataframe tbody tr th:only-of-type {\n",
       "        vertical-align: middle;\n",
       "    }\n",
       "\n",
       "    .dataframe tbody tr th {\n",
       "        vertical-align: top;\n",
       "    }\n",
       "\n",
       "    .dataframe thead th {\n",
       "        text-align: right;\n",
       "    }\n",
       "</style>\n",
       "<table border=\"1\" class=\"dataframe\">\n",
       "  <thead>\n",
       "    <tr style=\"text-align: right;\">\n",
       "      <th></th>\n",
       "      <th>date</th>\n",
       "      <th>Month</th>\n",
       "      <th>Year</th>\n",
       "      <th>day</th>\n",
       "      <th>Hour</th>\n",
       "      <th>coffee_name</th>\n",
       "      <th>cash_type</th>\n",
       "      <th>card</th>\n",
       "      <th>money</th>\n",
       "    </tr>\n",
       "  </thead>\n",
       "  <tbody>\n",
       "    <tr>\n",
       "      <th>0</th>\n",
       "      <td>2024-03-01</td>\n",
       "      <td>3</td>\n",
       "      <td>2024</td>\n",
       "      <td>5</td>\n",
       "      <td>10</td>\n",
       "      <td>Latte</td>\n",
       "      <td>card</td>\n",
       "      <td>ANON-0000-0000-0001</td>\n",
       "      <td>38.7</td>\n",
       "    </tr>\n",
       "    <tr>\n",
       "      <th>1</th>\n",
       "      <td>2024-03-01</td>\n",
       "      <td>3</td>\n",
       "      <td>2024</td>\n",
       "      <td>5</td>\n",
       "      <td>12</td>\n",
       "      <td>Hot Chocolate</td>\n",
       "      <td>card</td>\n",
       "      <td>ANON-0000-0000-0002</td>\n",
       "      <td>38.7</td>\n",
       "    </tr>\n",
       "    <tr>\n",
       "      <th>2</th>\n",
       "      <td>2024-03-01</td>\n",
       "      <td>3</td>\n",
       "      <td>2024</td>\n",
       "      <td>5</td>\n",
       "      <td>12</td>\n",
       "      <td>Hot Chocolate</td>\n",
       "      <td>card</td>\n",
       "      <td>ANON-0000-0000-0002</td>\n",
       "      <td>38.7</td>\n",
       "    </tr>\n",
       "    <tr>\n",
       "      <th>3</th>\n",
       "      <td>2024-03-01</td>\n",
       "      <td>3</td>\n",
       "      <td>2024</td>\n",
       "      <td>5</td>\n",
       "      <td>13</td>\n",
       "      <td>Americano</td>\n",
       "      <td>card</td>\n",
       "      <td>ANON-0000-0000-0003</td>\n",
       "      <td>28.9</td>\n",
       "    </tr>\n",
       "    <tr>\n",
       "      <th>4</th>\n",
       "      <td>2024-03-01</td>\n",
       "      <td>3</td>\n",
       "      <td>2024</td>\n",
       "      <td>5</td>\n",
       "      <td>13</td>\n",
       "      <td>Latte</td>\n",
       "      <td>card</td>\n",
       "      <td>ANON-0000-0000-0004</td>\n",
       "      <td>38.7</td>\n",
       "    </tr>\n",
       "  </tbody>\n",
       "</table>\n",
       "</div>"
      ],
      "text/plain": [
       "         date  Month  Year day  Hour    coffee_name cash_type  \\\n",
       "0  2024-03-01      3  2024   5    10          Latte      card   \n",
       "1  2024-03-01      3  2024   5    12  Hot Chocolate      card   \n",
       "2  2024-03-01      3  2024   5    12  Hot Chocolate      card   \n",
       "3  2024-03-01      3  2024   5    13      Americano      card   \n",
       "4  2024-03-01      3  2024   5    13          Latte      card   \n",
       "\n",
       "                  card  money  \n",
       "0  ANON-0000-0000-0001   38.7  \n",
       "1  ANON-0000-0000-0002   38.7  \n",
       "2  ANON-0000-0000-0002   38.7  \n",
       "3  ANON-0000-0000-0003   28.9  \n",
       "4  ANON-0000-0000-0004   38.7  "
      ]
     },
     "execution_count": 36,
     "metadata": {},
     "output_type": "execute_result"
    }
   ],
   "source": [
    "df_cleaed.head()"
   ]
  },
  {
   "cell_type": "code",
   "execution_count": 37,
   "id": "e5f87d0d-76f2-4685-afce-5d4959f2952f",
   "metadata": {},
   "outputs": [],
   "source": [
    "df_cleaed.to_csv('coffee_sell_cleaned_data.csv', index=False)\n"
   ]
  },
  {
   "cell_type": "code",
   "execution_count": 38,
   "id": "1dda5faf-b6d7-4ac2-bb06-9269765a483d",
   "metadata": {},
   "outputs": [
    {
     "data": {
      "text/plain": [
       "date            object\n",
       "Month            int64\n",
       "Year             int64\n",
       "day             object\n",
       "Hour             int64\n",
       "coffee_name     object\n",
       "cash_type       object\n",
       "card            object\n",
       "money          float64\n",
       "dtype: object"
      ]
     },
     "execution_count": 38,
     "metadata": {},
     "output_type": "execute_result"
    }
   ],
   "source": [
    "df.dtypes"
   ]
  },
  {
   "cell_type": "markdown",
   "id": "8960732d-0589-47c4-b1d9-7d5277c77e15",
   "metadata": {},
   "source": [
    "# EDA "
   ]
  },
  {
   "cell_type": "markdown",
   "id": "3c8f18e7-e90b-4aef-b26c-1c7086b08b80",
   "metadata": {},
   "source": [
    "## Revenue By Product(coffee)"
   ]
  },
  {
   "cell_type": "code",
   "execution_count": 39,
   "id": "8617e3bf-3e11-480f-9a3f-d99bb9d6aaca",
   "metadata": {},
   "outputs": [
    {
     "data": {
      "text/html": [
       "<div>\n",
       "<style scoped>\n",
       "    .dataframe tbody tr th:only-of-type {\n",
       "        vertical-align: middle;\n",
       "    }\n",
       "\n",
       "    .dataframe tbody tr th {\n",
       "        vertical-align: top;\n",
       "    }\n",
       "\n",
       "    .dataframe thead th {\n",
       "        text-align: right;\n",
       "    }\n",
       "</style>\n",
       "<table border=\"1\" class=\"dataframe\">\n",
       "  <thead>\n",
       "    <tr style=\"text-align: right;\">\n",
       "      <th></th>\n",
       "      <th>coffee_name</th>\n",
       "      <th>money</th>\n",
       "    </tr>\n",
       "  </thead>\n",
       "  <tbody>\n",
       "    <tr>\n",
       "      <th>7</th>\n",
       "      <td>Latte</td>\n",
       "      <td>9009.14</td>\n",
       "    </tr>\n",
       "    <tr>\n",
       "      <th>1</th>\n",
       "      <td>Americano with Milk</td>\n",
       "      <td>8601.94</td>\n",
       "    </tr>\n",
       "    <tr>\n",
       "      <th>2</th>\n",
       "      <td>Cappuccino</td>\n",
       "      <td>7333.14</td>\n",
       "    </tr>\n",
       "    <tr>\n",
       "      <th>0</th>\n",
       "      <td>Americano</td>\n",
       "      <td>4644.54</td>\n",
       "    </tr>\n",
       "    <tr>\n",
       "      <th>6</th>\n",
       "      <td>Hot Chocolate</td>\n",
       "      <td>2778.48</td>\n",
       "    </tr>\n",
       "    <tr>\n",
       "      <th>4</th>\n",
       "      <td>Cortado</td>\n",
       "      <td>2745.08</td>\n",
       "    </tr>\n",
       "    <tr>\n",
       "      <th>3</th>\n",
       "      <td>Cocoa</td>\n",
       "      <td>1295.94</td>\n",
       "    </tr>\n",
       "    <tr>\n",
       "      <th>5</th>\n",
       "      <td>Espresso</td>\n",
       "      <td>1100.62</td>\n",
       "    </tr>\n",
       "  </tbody>\n",
       "</table>\n",
       "</div>"
      ],
      "text/plain": [
       "           coffee_name    money\n",
       "7                Latte  9009.14\n",
       "1  Americano with Milk  8601.94\n",
       "2           Cappuccino  7333.14\n",
       "0            Americano  4644.54\n",
       "6        Hot Chocolate  2778.48\n",
       "4              Cortado  2745.08\n",
       "3                Cocoa  1295.94\n",
       "5             Espresso  1100.62"
      ]
     },
     "execution_count": 39,
     "metadata": {},
     "output_type": "execute_result"
    }
   ],
   "source": [
    "#revenue by coffe\n",
    "revenue = df_cleaed.groupby(['coffee_name']).sum(['money']).reset_index().sort_values('money',ascending = False)\n",
    "revenue = revenue.loc[:,['coffee_name','money']]\n",
    "revenue"
   ]
  },
  {
   "cell_type": "code",
   "execution_count": 40,
   "id": "ec888345-f761-456e-8058-76bd27af50fb",
   "metadata": {},
   "outputs": [],
   "source": [
    "import matplotlib.pyplot as plt\n",
    "import seaborn as sns"
   ]
  },
  {
   "cell_type": "code",
   "execution_count": 41,
   "id": "b16b6b66-67d8-4c83-9afe-0b05f84a1234",
   "metadata": {
    "scrolled": true
   },
   "outputs": [
    {
     "data": {
      "text/plain": [
       "Text(0.5, 0, 'Revenue')"
      ]
     },
     "execution_count": 41,
     "metadata": {},
     "output_type": "execute_result"
    },
    {
     "data": {
      "image/png": "[encoded data removed]",
      "text/plain": [
       "<Figure size 1000x400 with 1 Axes>"
      ]
     },
     "metadata": {},
     "output_type": "display_data"
    }
   ],
   "source": [
    "plt.figure(figsize=(10,4))\n",
    "ax = sns.barplot(data=revenue,x='money',y='coffee_name',color='red')\n",
    "ax.bar_label(ax.containers[0], fontsize=6)\n",
    "plt.xlabel('Revenue')"
   ]
  },
  {
   "cell_type": "code",
   "execution_count": 42,
   "id": "9aef0df1-ed7b-4939-997e-ec90b26067cc",
   "metadata": {},
   "outputs": [
    {
     "data": {
      "image/png": "[encoded data removed]",
      "text/plain": [
       "<Figure size 1000x600 with 1 Axes>"
      ]
     },
     "metadata": {},
     "output_type": "display_data"
    }
   ],
   "source": [
    "plt.figure(figsize=(10, 6))\n",
    "sns.barplot(x='coffee_name', y='money', data=revenue, palette='viridis',hue = 'coffee_name')\n",
    "plt.xlabel('Coffee Name')\n",
    "plt.ylabel('Re')\n",
    "plt.title('Coffee Prices')\n",
    "plt.xticks(rotation=45)  # Rotate x-axis labels if necessary\n",
    "plt.show()"
   ]
  },
  {
   "cell_type": "code",
   "execution_count": 43,
   "id": "209ab98d-2383-4d54-9092-1bac147d876f",
   "metadata": {},
   "outputs": [
    {
     "data": {
      "text/html": [
       "<div>\n",
       "<style scoped>\n",
       "    .dataframe tbody tr th:only-of-type {\n",
       "        vertical-align: middle;\n",
       "    }\n",
       "\n",
       "    .dataframe tbody tr th {\n",
       "        vertical-align: top;\n",
       "    }\n",
       "\n",
       "    .dataframe thead th {\n",
       "        text-align: right;\n",
       "    }\n",
       "</style>\n",
       "<table border=\"1\" class=\"dataframe\">\n",
       "  <thead>\n",
       "    <tr style=\"text-align: right;\">\n",
       "      <th></th>\n",
       "      <th>date</th>\n",
       "      <th>Month</th>\n",
       "      <th>Year</th>\n",
       "      <th>day</th>\n",
       "      <th>Hour</th>\n",
       "      <th>coffee_name</th>\n",
       "      <th>cash_type</th>\n",
       "      <th>card</th>\n",
       "      <th>money</th>\n",
       "    </tr>\n",
       "  </thead>\n",
       "  <tbody>\n",
       "    <tr>\n",
       "      <th>0</th>\n",
       "      <td>2024-03-01</td>\n",
       "      <td>3</td>\n",
       "      <td>2024</td>\n",
       "      <td>5</td>\n",
       "      <td>10</td>\n",
       "      <td>Latte</td>\n",
       "      <td>card</td>\n",
       "      <td>ANON-0000-0000-0001</td>\n",
       "      <td>38.7</td>\n",
       "    </tr>\n",
       "    <tr>\n",
       "      <th>1</th>\n",
       "      <td>2024-03-01</td>\n",
       "      <td>3</td>\n",
       "      <td>2024</td>\n",
       "      <td>5</td>\n",
       "      <td>12</td>\n",
       "      <td>Hot Chocolate</td>\n",
       "      <td>card</td>\n",
       "      <td>ANON-0000-0000-0002</td>\n",
       "      <td>38.7</td>\n",
       "    </tr>\n",
       "    <tr>\n",
       "      <th>2</th>\n",
       "      <td>2024-03-01</td>\n",
       "      <td>3</td>\n",
       "      <td>2024</td>\n",
       "      <td>5</td>\n",
       "      <td>12</td>\n",
       "      <td>Hot Chocolate</td>\n",
       "      <td>card</td>\n",
       "      <td>ANON-0000-0000-0002</td>\n",
       "      <td>38.7</td>\n",
       "    </tr>\n",
       "    <tr>\n",
       "      <th>3</th>\n",
       "      <td>2024-03-01</td>\n",
       "      <td>3</td>\n",
       "      <td>2024</td>\n",
       "      <td>5</td>\n",
       "      <td>13</td>\n",
       "      <td>Americano</td>\n",
       "      <td>card</td>\n",
       "      <td>ANON-0000-0000-0003</td>\n",
       "      <td>28.9</td>\n",
       "    </tr>\n",
       "    <tr>\n",
       "      <th>4</th>\n",
       "      <td>2024-03-01</td>\n",
       "      <td>3</td>\n",
       "      <td>2024</td>\n",
       "      <td>5</td>\n",
       "      <td>13</td>\n",
       "      <td>Latte</td>\n",
       "      <td>card</td>\n",
       "      <td>ANON-0000-0000-0004</td>\n",
       "      <td>38.7</td>\n",
       "    </tr>\n",
       "  </tbody>\n",
       "</table>\n",
       "</div>"
      ],
      "text/plain": [
       "         date  Month  Year day  Hour    coffee_name cash_type  \\\n",
       "0  2024-03-01      3  2024   5    10          Latte      card   \n",
       "1  2024-03-01      3  2024   5    12  Hot Chocolate      card   \n",
       "2  2024-03-01      3  2024   5    12  Hot Chocolate      card   \n",
       "3  2024-03-01      3  2024   5    13      Americano      card   \n",
       "4  2024-03-01      3  2024   5    13          Latte      card   \n",
       "\n",
       "                  card  money  \n",
       "0  ANON-0000-0000-0001   38.7  \n",
       "1  ANON-0000-0000-0002   38.7  \n",
       "2  ANON-0000-0000-0002   38.7  \n",
       "3  ANON-0000-0000-0003   28.9  \n",
       "4  ANON-0000-0000-0004   38.7  "
      ]
     },
     "execution_count": 43,
     "metadata": {},
     "output_type": "execute_result"
    }
   ],
   "source": [
    "df_cleaed.head()"
   ]
  },
  {
   "cell_type": "markdown",
   "id": "430cb5d8-1f02-4c95-84b2-e1d75ab7d518",
   "metadata": {},
   "source": [
    "## Generate Monthly Sales broken by Coffee_name¶"
   ]
  },
  {
   "cell_type": "code",
   "execution_count": 44,
   "id": "77306ded-324f-4830-835b-0e49962d24db",
   "metadata": {},
   "outputs": [
    {
     "name": "stdout",
     "output_type": "stream",
     "text": [
      "step:1:Grouping the dataset according to Coffe_name and month \n",
      "   coffee_name  Month  date\n",
      "0   Americano      3    36\n",
      "1   Americano      4    35\n",
      "2   Americano      5    48\n",
      "step:2:Rename the Date column to \"Count of occurance\" \n",
      "   coffee_name  Month  Count of occurance\n",
      "0   Americano      3                  36\n",
      "1   Americano      4                  35\n",
      "2   Americano      5                  48\n",
      "step:3:Making a pivot table\n",
      " coffee_name  Americano  Americano with Milk  Cappuccino  Cocoa  Cortado  \\\n",
      "Month                                                                     \n",
      "3                   36                   34          20      6       30   \n",
      "4                   35                   42          43      6       19   \n",
      "5                   48                   58          55      9       17   \n",
      "\n",
      "coffee_name  Espresso  Hot Chocolate  Latte  \n",
      "Month                                        \n",
      "3                  10             22     48  \n",
      "4                   7             13     31  \n",
      "5                   8             14     58  \n",
      "\n",
      "\n"
     ]
    },
    {
     "data": {
      "text/html": [
       "<div>\n",
       "<style scoped>\n",
       "    .dataframe tbody tr th:only-of-type {\n",
       "        vertical-align: middle;\n",
       "    }\n",
       "\n",
       "    .dataframe tbody tr th {\n",
       "        vertical-align: top;\n",
       "    }\n",
       "\n",
       "    .dataframe thead th {\n",
       "        text-align: right;\n",
       "    }\n",
       "</style>\n",
       "<table border=\"1\" class=\"dataframe\">\n",
       "  <thead>\n",
       "    <tr style=\"text-align: right;\">\n",
       "      <th>coffee_name</th>\n",
       "      <th>Month</th>\n",
       "      <th>Americano</th>\n",
       "      <th>Americano with Milk</th>\n",
       "      <th>Cappuccino</th>\n",
       "      <th>Cocoa</th>\n",
       "      <th>Cortado</th>\n",
       "      <th>Espresso</th>\n",
       "      <th>Hot Chocolate</th>\n",
       "      <th>Latte</th>\n",
       "    </tr>\n",
       "  </thead>\n",
       "  <tbody>\n",
       "    <tr>\n",
       "      <th>0</th>\n",
       "      <td>3</td>\n",
       "      <td>36</td>\n",
       "      <td>34</td>\n",
       "      <td>20</td>\n",
       "      <td>6</td>\n",
       "      <td>30</td>\n",
       "      <td>10</td>\n",
       "      <td>22</td>\n",
       "      <td>48</td>\n",
       "    </tr>\n",
       "    <tr>\n",
       "      <th>1</th>\n",
       "      <td>4</td>\n",
       "      <td>35</td>\n",
       "      <td>42</td>\n",
       "      <td>43</td>\n",
       "      <td>6</td>\n",
       "      <td>19</td>\n",
       "      <td>7</td>\n",
       "      <td>13</td>\n",
       "      <td>31</td>\n",
       "    </tr>\n",
       "    <tr>\n",
       "      <th>2</th>\n",
       "      <td>5</td>\n",
       "      <td>48</td>\n",
       "      <td>58</td>\n",
       "      <td>55</td>\n",
       "      <td>9</td>\n",
       "      <td>17</td>\n",
       "      <td>8</td>\n",
       "      <td>14</td>\n",
       "      <td>58</td>\n",
       "    </tr>\n",
       "    <tr>\n",
       "      <th>3</th>\n",
       "      <td>6</td>\n",
       "      <td>14</td>\n",
       "      <td>69</td>\n",
       "      <td>46</td>\n",
       "      <td>5</td>\n",
       "      <td>19</td>\n",
       "      <td>10</td>\n",
       "      <td>14</td>\n",
       "      <td>50</td>\n",
       "    </tr>\n",
       "    <tr>\n",
       "      <th>4</th>\n",
       "      <td>7</td>\n",
       "      <td>36</td>\n",
       "      <td>65</td>\n",
       "      <td>32</td>\n",
       "      <td>9</td>\n",
       "      <td>14</td>\n",
       "      <td>14</td>\n",
       "      <td>11</td>\n",
       "      <td>56</td>\n",
       "    </tr>\n",
       "  </tbody>\n",
       "</table>\n",
       "</div>"
      ],
      "text/plain": [
       "coffee_name  Month  Americano  Americano with Milk  Cappuccino  Cocoa  \\\n",
       "0                3         36                   34          20      6   \n",
       "1                4         35                   42          43      6   \n",
       "2                5         48                   58          55      9   \n",
       "3                6         14                   69          46      5   \n",
       "4                7         36                   65          32      9   \n",
       "\n",
       "coffee_name  Cortado  Espresso  Hot Chocolate  Latte  \n",
       "0                 30        10             22     48  \n",
       "1                 19         7             13     31  \n",
       "2                 17         8             14     58  \n",
       "3                 19        10             14     50  \n",
       "4                 14        14             11     56  "
      ]
     },
     "execution_count": 44,
     "metadata": {},
     "output_type": "execute_result"
    }
   ],
   "source": [
    "#grouping the data according to coffe_name and then Month\n",
    "a = df_cleaed.groupby(['coffee_name', 'Month']).count()['date'].reset_index()   \n",
    "print('step:1:Grouping the dataset according to Coffe_name and month \\n',a.head(3))\n",
    "\n",
    "# Step 2: Count occurrences for each group based on 'date' column\n",
    "# Rename a column\n",
    "a = a.rename(columns={'date': 'Count of occurance'})\n",
    "print('step:2:Rename the Date column to \"Count of occurance\" \\n',a.head(3))\n",
    "\n",
    "#pivot the dataset\n",
    "a = a.pivot(index = 'Month',columns= 'coffee_name',values = 'Count of occurance')\n",
    "print('step:3:Making a pivot table\\n',a.head(3))\n",
    "print('\\n')\n",
    "\n",
    "#reset the index\n",
    "Monthly_sales= a.reset_index()\n",
    "Monthly_sales"
   ]
  },
  {
   "cell_type": "markdown",
   "id": "08edf1d3-78fa-4c8f-8e57-9e0545f8c72d",
   "metadata": {},
   "source": [
    "#### Generate monthly sales Monthly_Sales broken by Coffee_name¶ with one line of code"
   ]
  },
  {
   "cell_type": "code",
   "execution_count": 45,
   "id": "3b8c8d10-39d0-4582-85a7-19ae2f5cd9e5",
   "metadata": {},
   "outputs": [
    {
     "data": {
      "text/html": [
       "<div>\n",
       "<style scoped>\n",
       "    .dataframe tbody tr th:only-of-type {\n",
       "        vertical-align: middle;\n",
       "    }\n",
       "\n",
       "    .dataframe tbody tr th {\n",
       "        vertical-align: top;\n",
       "    }\n",
       "\n",
       "    .dataframe thead th {\n",
       "        text-align: right;\n",
       "    }\n",
       "</style>\n",
       "<table border=\"1\" class=\"dataframe\">\n",
       "  <thead>\n",
       "    <tr style=\"text-align: right;\">\n",
       "      <th>coffee_name</th>\n",
       "      <th>Month</th>\n",
       "      <th>Americano</th>\n",
       "      <th>Americano with Milk</th>\n",
       "      <th>Cappuccino</th>\n",
       "      <th>Cocoa</th>\n",
       "      <th>Cortado</th>\n",
       "      <th>Espresso</th>\n",
       "      <th>Hot Chocolate</th>\n",
       "      <th>Latte</th>\n",
       "    </tr>\n",
       "  </thead>\n",
       "  <tbody>\n",
       "    <tr>\n",
       "      <th>0</th>\n",
       "      <td>3</td>\n",
       "      <td>36</td>\n",
       "      <td>34</td>\n",
       "      <td>20</td>\n",
       "      <td>6</td>\n",
       "      <td>30</td>\n",
       "      <td>10</td>\n",
       "      <td>22</td>\n",
       "      <td>48</td>\n",
       "    </tr>\n",
       "    <tr>\n",
       "      <th>1</th>\n",
       "      <td>4</td>\n",
       "      <td>35</td>\n",
       "      <td>42</td>\n",
       "      <td>43</td>\n",
       "      <td>6</td>\n",
       "      <td>19</td>\n",
       "      <td>7</td>\n",
       "      <td>13</td>\n",
       "      <td>31</td>\n",
       "    </tr>\n",
       "    <tr>\n",
       "      <th>2</th>\n",
       "      <td>5</td>\n",
       "      <td>48</td>\n",
       "      <td>58</td>\n",
       "      <td>55</td>\n",
       "      <td>9</td>\n",
       "      <td>17</td>\n",
       "      <td>8</td>\n",
       "      <td>14</td>\n",
       "      <td>58</td>\n",
       "    </tr>\n",
       "    <tr>\n",
       "      <th>3</th>\n",
       "      <td>6</td>\n",
       "      <td>14</td>\n",
       "      <td>69</td>\n",
       "      <td>46</td>\n",
       "      <td>5</td>\n",
       "      <td>19</td>\n",
       "      <td>10</td>\n",
       "      <td>14</td>\n",
       "      <td>50</td>\n",
       "    </tr>\n",
       "    <tr>\n",
       "      <th>4</th>\n",
       "      <td>7</td>\n",
       "      <td>36</td>\n",
       "      <td>65</td>\n",
       "      <td>32</td>\n",
       "      <td>9</td>\n",
       "      <td>14</td>\n",
       "      <td>14</td>\n",
       "      <td>11</td>\n",
       "      <td>56</td>\n",
       "    </tr>\n",
       "  </tbody>\n",
       "</table>\n",
       "</div>"
      ],
      "text/plain": [
       "coffee_name  Month  Americano  Americano with Milk  Cappuccino  Cocoa  \\\n",
       "0                3         36                   34          20      6   \n",
       "1                4         35                   42          43      6   \n",
       "2                5         48                   58          55      9   \n",
       "3                6         14                   69          46      5   \n",
       "4                7         36                   65          32      9   \n",
       "\n",
       "coffee_name  Cortado  Espresso  Hot Chocolate  Latte  \n",
       "0                 30        10             22     48  \n",
       "1                 19         7             13     31  \n",
       "2                 17         8             14     58  \n",
       "3                 19        10             14     50  \n",
       "4                 14        14             11     56  "
      ]
     },
     "execution_count": 45,
     "metadata": {},
     "output_type": "execute_result"
    }
   ],
   "source": [
    "monthly_sales = (\n",
    "    df_cleaed\n",
    "    .groupby(['coffee_name', 'Month'])                # Step 1: Group by coffee_name and month\n",
    "    .count()['date']                                  # Step 2: Count occurrences for each group based on 'date' column\n",
    "    .reset_index()                                    # Step 3: Convert grouped data back to DataFrame\n",
    "    .rename(columns={'date': 'Count of occurance'})                # Step 4: Rename 'date' column to 'count'\n",
    "    .pivot(index='Month', columns='coffee_name', values='Count of occurance')  # Step 5: Pivot to make coffee types columns\n",
    "    .reset_index()                                    # Step 6: Reset index to make 'month' a column again\n",
    ")\n",
    "monthly_sales.head(5)"
   ]
  },
  {
   "cell_type": "markdown",
   "id": "48941107-ecd0-4b70-a0e9-560ff8630a02",
   "metadata": {},
   "source": [
    "#### Create Line Chart For Monthly_Sales broken by Coffee_name"
   ]
  },
  {
   "cell_type": "code",
   "execution_count": 46,
   "id": "9eabcf82-e505-4aa5-9a12-a22a08d8164c",
   "metadata": {},
   "outputs": [
    {
     "data": {
      "image/png": "[encoded data removed]",
      "text/plain": [
       "<Figure size 1000x600 with 1 Axes>"
      ]
     },
     "metadata": {},
     "output_type": "display_data"
    }
   ],
   "source": [
    "plt.figure(figsize=(10,6))\n",
    "sns.lineplot(data=Monthly_sales)\n",
    "plt.legend(loc='upper left')\n",
    "plt.xticks(range(len(Monthly_sales['Month'])),Monthly_sales['Month'],size='small')\n",
    "\n",
    "plt.title('Monthly Coffee Sales')\n",
    "plt.xlabel('Month')\n",
    "plt.ylabel('Monthly Sales')\n",
    "\n",
    "plt.show()"
   ]
  },
  {
   "cell_type": "markdown",
   "id": "0d1fe6e7-c377-4b2d-b4b3-b3afa55a4e7d",
   "metadata": {},
   "source": [
    "## Generate Nit Monthly Sales "
   ]
  },
  {
   "cell_type": "code",
   "execution_count": 47,
   "id": "7b55b1e3-7115-46e9-bf4d-5bfd3bfeb33c",
   "metadata": {},
   "outputs": [
    {
     "data": {
      "text/html": [
       "<div>\n",
       "<style scoped>\n",
       "    .dataframe tbody tr th:only-of-type {\n",
       "        vertical-align: middle;\n",
       "    }\n",
       "\n",
       "    .dataframe tbody tr th {\n",
       "        vertical-align: top;\n",
       "    }\n",
       "\n",
       "    .dataframe thead th {\n",
       "        text-align: right;\n",
       "    }\n",
       "</style>\n",
       "<table border=\"1\" class=\"dataframe\">\n",
       "  <thead>\n",
       "    <tr style=\"text-align: right;\">\n",
       "      <th></th>\n",
       "      <th>Month</th>\n",
       "      <th>Nit Monthly Sales</th>\n",
       "    </tr>\n",
       "  </thead>\n",
       "  <tbody>\n",
       "    <tr>\n",
       "      <th>0</th>\n",
       "      <td>3</td>\n",
       "      <td>206</td>\n",
       "    </tr>\n",
       "    <tr>\n",
       "      <th>1</th>\n",
       "      <td>4</td>\n",
       "      <td>196</td>\n",
       "    </tr>\n",
       "    <tr>\n",
       "      <th>2</th>\n",
       "      <td>5</td>\n",
       "      <td>267</td>\n",
       "    </tr>\n",
       "    <tr>\n",
       "      <th>3</th>\n",
       "      <td>6</td>\n",
       "      <td>227</td>\n",
       "    </tr>\n",
       "    <tr>\n",
       "      <th>4</th>\n",
       "      <td>7</td>\n",
       "      <td>237</td>\n",
       "    </tr>\n",
       "  </tbody>\n",
       "</table>\n",
       "</div>"
      ],
      "text/plain": [
       "   Month  Nit Monthly Sales\n",
       "0      3                206\n",
       "1      4                196\n",
       "2      5                267\n",
       "3      6                227\n",
       "4      7                237"
      ]
     },
     "execution_count": 47,
     "metadata": {},
     "output_type": "execute_result"
    }
   ],
   "source": [
    "Nit_monthly_sales = (\n",
    "    df_cleaed\n",
    "    .groupby('Month')\n",
    "    .count()['date']\n",
    "    .reset_index()\n",
    "    .rename(columns = {'date':'Nit Monthly Sales'})\n",
    ")\n",
    "Nit_monthly_sales"
   ]
  },
  {
   "cell_type": "markdown",
   "id": "127f185d-5b7d-437f-b452-42d34a59f87f",
   "metadata": {},
   "source": [
    "## A bar chart for Nit monthly Sales"
   ]
  },
  {
   "cell_type": "code",
   "execution_count": 48,
   "id": "b7b903cd-434e-4448-af30-cad1e26ff552",
   "metadata": {},
   "outputs": [
    {
     "data": {
      "text/plain": [
       "Text(0, 0.5, 'Monthly Sales')"
      ]
     },
     "execution_count": 48,
     "metadata": {},
     "output_type": "execute_result"
    },
    {
     "data": {
      "image/png": "[encoded data removed]",
      "text/plain": [
       "<Figure size 1000x600 with 1 Axes>"
      ]
     },
     "metadata": {},
     "output_type": "display_data"
    }
   ],
   "source": [
    "plt.figure(figsize=(10,6))\n",
    "sns.barplot(data = Nit_monthly_sales, x = 'Month', y = 'Nit Monthly Sales', palette = 'viridis', hue = 'Month',width = 0.6)\n",
    "plt.xticks(range(len(Nit_monthly_sales['Month'])),Nit_monthly_sales['Month'],size = 'small')\n",
    "plt.title('Nit Monthly Sales Calculation by Month')\n",
    "plt.xlabel('Months')\n",
    "plt.ylabel('Monthly Sales')"
   ]
  },
  {
   "cell_type": "markdown",
   "id": "1034ebf6-31cb-4b7d-908f-a8b201658b04",
   "metadata": {},
   "source": [
    "## Generate Weekly Sales broken by Coffee_name¶"
   ]
  },
  {
   "cell_type": "code",
   "execution_count": 53,
   "id": "0d17338d-a2d9-4239-b861-0d9eaef8e329",
   "metadata": {},
   "outputs": [
    {
     "data": {
      "text/html": [
       "<div>\n",
       "<style scoped>\n",
       "    .dataframe tbody tr th:only-of-type {\n",
       "        vertical-align: middle;\n",
       "    }\n",
       "\n",
       "    .dataframe tbody tr th {\n",
       "        vertical-align: top;\n",
       "    }\n",
       "\n",
       "    .dataframe thead th {\n",
       "        text-align: right;\n",
       "    }\n",
       "</style>\n",
       "<table border=\"1\" class=\"dataframe\">\n",
       "  <thead>\n",
       "    <tr style=\"text-align: right;\">\n",
       "      <th>coffee_name</th>\n",
       "      <th>day</th>\n",
       "      <th>Americano</th>\n",
       "      <th>Americano with Milk</th>\n",
       "      <th>Cappuccino</th>\n",
       "      <th>Cocoa</th>\n",
       "      <th>Cortado</th>\n",
       "      <th>Espresso</th>\n",
       "      <th>Hot Chocolate</th>\n",
       "      <th>Latte</th>\n",
       "    </tr>\n",
       "  </thead>\n",
       "  <tbody>\n",
       "    <tr>\n",
       "      <th>0</th>\n",
       "      <td>0</td>\n",
       "      <td>17</td>\n",
       "      <td>34</td>\n",
       "      <td>28</td>\n",
       "      <td>3</td>\n",
       "      <td>14</td>\n",
       "      <td>8</td>\n",
       "      <td>14</td>\n",
       "      <td>33</td>\n",
       "    </tr>\n",
       "    <tr>\n",
       "      <th>1</th>\n",
       "      <td>1</td>\n",
       "      <td>37</td>\n",
       "      <td>32</td>\n",
       "      <td>31</td>\n",
       "      <td>3</td>\n",
       "      <td>11</td>\n",
       "      <td>4</td>\n",
       "      <td>5</td>\n",
       "      <td>28</td>\n",
       "    </tr>\n",
       "    <tr>\n",
       "      <th>2</th>\n",
       "      <td>2</td>\n",
       "      <td>26</td>\n",
       "      <td>54</td>\n",
       "      <td>27</td>\n",
       "      <td>9</td>\n",
       "      <td>18</td>\n",
       "      <td>3</td>\n",
       "      <td>15</td>\n",
       "      <td>33</td>\n",
       "    </tr>\n",
       "    <tr>\n",
       "      <th>3</th>\n",
       "      <td>3</td>\n",
       "      <td>23</td>\n",
       "      <td>35</td>\n",
       "      <td>29</td>\n",
       "      <td>6</td>\n",
       "      <td>18</td>\n",
       "      <td>13</td>\n",
       "      <td>8</td>\n",
       "      <td>33</td>\n",
       "    </tr>\n",
       "    <tr>\n",
       "      <th>4</th>\n",
       "      <td>4</td>\n",
       "      <td>24</td>\n",
       "      <td>31</td>\n",
       "      <td>27</td>\n",
       "      <td>1</td>\n",
       "      <td>14</td>\n",
       "      <td>9</td>\n",
       "      <td>12</td>\n",
       "      <td>46</td>\n",
       "    </tr>\n",
       "    <tr>\n",
       "      <th>5</th>\n",
       "      <td>5</td>\n",
       "      <td>25</td>\n",
       "      <td>34</td>\n",
       "      <td>23</td>\n",
       "      <td>7</td>\n",
       "      <td>16</td>\n",
       "      <td>8</td>\n",
       "      <td>13</td>\n",
       "      <td>37</td>\n",
       "    </tr>\n",
       "    <tr>\n",
       "      <th>6</th>\n",
       "      <td>6</td>\n",
       "      <td>17</td>\n",
       "      <td>48</td>\n",
       "      <td>31</td>\n",
       "      <td>6</td>\n",
       "      <td>8</td>\n",
       "      <td>4</td>\n",
       "      <td>7</td>\n",
       "      <td>33</td>\n",
       "    </tr>\n",
       "  </tbody>\n",
       "</table>\n",
       "</div>"
      ],
      "text/plain": [
       "coffee_name day  Americano  Americano with Milk  Cappuccino  Cocoa  Cortado  \\\n",
       "0             0         17                   34          28      3       14   \n",
       "1             1         37                   32          31      3       11   \n",
       "2             2         26                   54          27      9       18   \n",
       "3             3         23                   35          29      6       18   \n",
       "4             4         24                   31          27      1       14   \n",
       "5             5         25                   34          23      7       16   \n",
       "6             6         17                   48          31      6        8   \n",
       "\n",
       "coffee_name  Espresso  Hot Chocolate  Latte  \n",
       "0                   8             14     33  \n",
       "1                   4              5     28  \n",
       "2                   3             15     33  \n",
       "3                  13              8     33  \n",
       "4                   9             12     46  \n",
       "5                   8             13     37  \n",
       "6                   4              7     33  "
      ]
     },
     "execution_count": 53,
     "metadata": {},
     "output_type": "execute_result"
    }
   ],
   "source": [
    "Weekly_sales =(\n",
    "    df_cleaed\n",
    "    .groupby(['coffee_name','day'])\n",
    "    .count()['date']\n",
    "    .reset_index()\n",
    "    .rename(columns= {'date':'Sales Per Day'})\n",
    "    .pivot(index = 'day',columns = 'coffee_name',values = 'Sales Per Day')\n",
    "    .reset_index()\n",
    ")\n",
    "Weekly_sales"
   ]
  },
  {
   "cell_type": "markdown",
   "id": "ff37b0ac-f16e-48e2-acd7-525034977f0f",
   "metadata": {},
   "source": [
    "## A Line Chart for Weekly Sales broken by Coffee_name¶"
   ]
  },
  {
   "cell_type": "code",
   "execution_count": 55,
   "id": "9830e6cd-5158-4a98-9a7f-bce2d167a90a",
   "metadata": {},
   "outputs": [
    {
     "data": {
      "image/png": "[encoded data removed]",
      "text/plain": [
       "<Figure size 1200x600 with 1 Axes>"
      ]
     },
     "metadata": {},
     "output_type": "display_data"
    }
   ],
   "source": [
    "plt.figure(figsize=(12,6))\n",
    "sns.lineplot(data=Weekly_sales)\n",
    "plt.legend(loc='upper left')\n",
    "plt.xticks(range(len(Weekly_sales['day'])),['Sun','Mon','Tue','Wed','Thur','Fri','Sat'],size='small')\n",
    "\n",
    "plt.title('Weekly Sales Per Coffee Type by Day')\n",
    "plt.xlabel('WeekDay')\n",
    "plt.ylabel('Weekly Sales')\n",
    "\n",
    "plt.show()"
   ]
  },
  {
   "cell_type": "markdown",
   "id": "62f486d5-4f0c-436a-8de5-2380dce72091",
   "metadata": {},
   "source": [
    "## Nit Weekly Sales Calculation by Day"
   ]
  },
  {
   "cell_type": "code",
   "execution_count": 56,
   "id": "2fd4b5a0-740d-4570-9cfb-360efa6f9be1",
   "metadata": {},
   "outputs": [
    {
     "data": {
      "text/html": [
       "<div>\n",
       "<style scoped>\n",
       "    .dataframe tbody tr th:only-of-type {\n",
       "        vertical-align: middle;\n",
       "    }\n",
       "\n",
       "    .dataframe tbody tr th {\n",
       "        vertical-align: top;\n",
       "    }\n",
       "\n",
       "    .dataframe thead th {\n",
       "        text-align: right;\n",
       "    }\n",
       "</style>\n",
       "<table border=\"1\" class=\"dataframe\">\n",
       "  <thead>\n",
       "    <tr style=\"text-align: right;\">\n",
       "      <th></th>\n",
       "      <th>day</th>\n",
       "      <th>Nit Sales Per Day</th>\n",
       "    </tr>\n",
       "  </thead>\n",
       "  <tbody>\n",
       "    <tr>\n",
       "      <th>0</th>\n",
       "      <td>0</td>\n",
       "      <td>151</td>\n",
       "    </tr>\n",
       "    <tr>\n",
       "      <th>1</th>\n",
       "      <td>1</td>\n",
       "      <td>151</td>\n",
       "    </tr>\n",
       "    <tr>\n",
       "      <th>2</th>\n",
       "      <td>2</td>\n",
       "      <td>185</td>\n",
       "    </tr>\n",
       "    <tr>\n",
       "      <th>3</th>\n",
       "      <td>3</td>\n",
       "      <td>165</td>\n",
       "    </tr>\n",
       "    <tr>\n",
       "      <th>4</th>\n",
       "      <td>4</td>\n",
       "      <td>164</td>\n",
       "    </tr>\n",
       "    <tr>\n",
       "      <th>5</th>\n",
       "      <td>5</td>\n",
       "      <td>163</td>\n",
       "    </tr>\n",
       "    <tr>\n",
       "      <th>6</th>\n",
       "      <td>6</td>\n",
       "      <td>154</td>\n",
       "    </tr>\n",
       "  </tbody>\n",
       "</table>\n",
       "</div>"
      ],
      "text/plain": [
       "  day  Nit Sales Per Day\n",
       "0   0                151\n",
       "1   1                151\n",
       "2   2                185\n",
       "3   3                165\n",
       "4   4                164\n",
       "5   5                163\n",
       "6   6                154"
      ]
     },
     "execution_count": 56,
     "metadata": {},
     "output_type": "execute_result"
    }
   ],
   "source": [
    "weekly_total_sales = df_cleaed.groupby('day').count()['date'].reset_index().rename(columns= {'date':'Nit Sales Per Day'})\n",
    "weekly_total_sales"
   ]
  },
  {
   "cell_type": "markdown",
   "id": "4504a1fd-7bec-49a3-bbbc-087765ba4691",
   "metadata": {},
   "source": [
    "## A Bar Chart for Nit Weekly Sales"
   ]
  },
  {
   "cell_type": "code",
   "execution_count": 57,
   "id": "2deb395f-f83f-4b67-aaaa-b0ed8e26de56",
   "metadata": {},
   "outputs": [
    {
     "data": {
      "text/plain": [
       "Text(0, 0.5, 'Daily Sales')"
      ]
     },
     "execution_count": 57,
     "metadata": {},
     "output_type": "execute_result"
    },
    {
     "data": {
      "image/png": "[encoded data removed]",
      "text/plain": [
       "<Figure size 1000x600 with 1 Axes>"
      ]
     },
     "metadata": {},
     "output_type": "display_data"
    }
   ],
   "source": [
    "plt.figure(figsize=(10,6))\n",
    "sns.barplot(data=weekly_total_sales,x='day',y='Nit Sales Per Day', palette='viridis',hue = 'day',width = 0.6)\n",
    "plt.xticks(range(len(weekly_total_sales['day'])),['Sun','Mon','Tue','Wed','Thur','Fri','Sat'],size='small')\n",
    "plt.title('Weekly Total Sales Calculation by Days')\n",
    "plt.xlabel('WeekDay')\n",
    "plt.ylabel('Daily Sales')"
   ]
  },
  {
   "cell_type": "markdown",
   "id": "50c434ef-cacb-43e1-ad22-6950ff5b08ff",
   "metadata": {},
   "source": [
    "## Generate Hourly Sales broken by Coffee_name¶"
   ]
  },
  {
   "cell_type": "code",
   "execution_count": 58,
   "id": "2c72dbb9-d035-4e33-b7aa-a5f6e088d729",
   "metadata": {},
   "outputs": [
    {
     "data": {
      "text/html": [
       "<div>\n",
       "<style scoped>\n",
       "    .dataframe tbody tr th:only-of-type {\n",
       "        vertical-align: middle;\n",
       "    }\n",
       "\n",
       "    .dataframe tbody tr th {\n",
       "        vertical-align: top;\n",
       "    }\n",
       "\n",
       "    .dataframe thead th {\n",
       "        text-align: right;\n",
       "    }\n",
       "</style>\n",
       "<table border=\"1\" class=\"dataframe\">\n",
       "  <thead>\n",
       "    <tr style=\"text-align: right;\">\n",
       "      <th>coffee_name</th>\n",
       "      <th>Hour</th>\n",
       "      <th>Americano</th>\n",
       "      <th>Americano with Milk</th>\n",
       "      <th>Cappuccino</th>\n",
       "      <th>Cocoa</th>\n",
       "      <th>Cortado</th>\n",
       "      <th>Espresso</th>\n",
       "      <th>Hot Chocolate</th>\n",
       "      <th>Latte</th>\n",
       "    </tr>\n",
       "  </thead>\n",
       "  <tbody>\n",
       "    <tr>\n",
       "      <th>0</th>\n",
       "      <td>7</td>\n",
       "      <td>5.0</td>\n",
       "      <td>4.0</td>\n",
       "      <td>1.0</td>\n",
       "      <td>NaN</td>\n",
       "      <td>1.0</td>\n",
       "      <td>NaN</td>\n",
       "      <td>NaN</td>\n",
       "      <td>2.0</td>\n",
       "    </tr>\n",
       "    <tr>\n",
       "      <th>1</th>\n",
       "      <td>8</td>\n",
       "      <td>10.0</td>\n",
       "      <td>7.0</td>\n",
       "      <td>8.0</td>\n",
       "      <td>1.0</td>\n",
       "      <td>6.0</td>\n",
       "      <td>NaN</td>\n",
       "      <td>NaN</td>\n",
       "      <td>12.0</td>\n",
       "    </tr>\n",
       "    <tr>\n",
       "      <th>2</th>\n",
       "      <td>9</td>\n",
       "      <td>8.0</td>\n",
       "      <td>16.0</td>\n",
       "      <td>6.0</td>\n",
       "      <td>1.0</td>\n",
       "      <td>5.0</td>\n",
       "      <td>3.0</td>\n",
       "      <td>NaN</td>\n",
       "      <td>11.0</td>\n",
       "    </tr>\n",
       "    <tr>\n",
       "      <th>3</th>\n",
       "      <td>10</td>\n",
       "      <td>20.0</td>\n",
       "      <td>31.0</td>\n",
       "      <td>10.0</td>\n",
       "      <td>4.0</td>\n",
       "      <td>8.0</td>\n",
       "      <td>2.0</td>\n",
       "      <td>7.0</td>\n",
       "      <td>51.0</td>\n",
       "    </tr>\n",
       "    <tr>\n",
       "      <th>4</th>\n",
       "      <td>11</td>\n",
       "      <td>21.0</td>\n",
       "      <td>25.0</td>\n",
       "      <td>16.0</td>\n",
       "      <td>1.0</td>\n",
       "      <td>13.0</td>\n",
       "      <td>6.0</td>\n",
       "      <td>8.0</td>\n",
       "      <td>13.0</td>\n",
       "    </tr>\n",
       "  </tbody>\n",
       "</table>\n",
       "</div>"
      ],
      "text/plain": [
       "coffee_name  Hour  Americano  Americano with Milk  Cappuccino  Cocoa  Cortado  \\\n",
       "0               7        5.0                  4.0         1.0    NaN      1.0   \n",
       "1               8       10.0                  7.0         8.0    1.0      6.0   \n",
       "2               9        8.0                 16.0         6.0    1.0      5.0   \n",
       "3              10       20.0                 31.0        10.0    4.0      8.0   \n",
       "4              11       21.0                 25.0        16.0    1.0     13.0   \n",
       "\n",
       "coffee_name  Espresso  Hot Chocolate  Latte  \n",
       "0                 NaN            NaN    2.0  \n",
       "1                 NaN            NaN   12.0  \n",
       "2                 3.0            NaN   11.0  \n",
       "3                 2.0            7.0   51.0  \n",
       "4                 6.0            8.0   13.0  "
      ]
     },
     "execution_count": 58,
     "metadata": {},
     "output_type": "execute_result"
    }
   ],
   "source": [
    "Hourly_sales = (\n",
    "    df_cleaed\n",
    "    .groupby(['coffee_name','Hour'])\n",
    "    .count()['date']\n",
    "    .reset_index()\n",
    "    .rename(columns = {'date':'Sales in Hour'})\n",
    "    .pivot(index = 'Hour',columns = 'coffee_name',values='Sales in Hour')\n",
    "    .reset_index()\n",
    ")\n",
    "\n",
    "Hourly_sales.head()"
   ]
  },
  {
   "cell_type": "markdown",
   "id": "c9a619ff-7361-4cbe-9db3-37c231aaefba",
   "metadata": {},
   "source": [
    "## Creating a Column Chart for Hourly Sales broken by Coffee_name"
   ]
  },
  {
   "cell_type": "code",
   "execution_count": 59,
   "id": "4da05af3-18f5-47f2-9c02-09000dc123ce",
   "metadata": {},
   "outputs": [
    {
     "data": {
      "image/png": "[encoded data removed]",
      "text/plain": [
       "<Figure size 1200x600 with 1 Axes>"
      ]
     },
     "metadata": {},
     "output_type": "display_data"
    }
   ],
   "source": [
    "plt.figure(figsize=(12,6))\n",
    "sns.lineplot(data=Hourly_sales)\n",
    "plt.legend(loc='upper left')\n",
    "plt.xticks(range(len(Hourly_sales['Hour'])),Hourly_sales['Hour'],size='small')\n",
    "\n",
    "plt.title('Hourly Sales Per Coffee Type by per hour')\n",
    "plt.xlabel('Hours')\n",
    "plt.ylabel('Hourly Sales')\n",
    "\n",
    "plt.show()"
   ]
  },
  {
   "cell_type": "markdown",
   "id": "ceb734ce-3787-4c1f-9f57-c3efee10d618",
   "metadata": {},
   "source": [
    "## Generate Nit Hourly Sales"
   ]
  },
  {
   "cell_type": "code",
   "execution_count": 60,
   "id": "95edc291-2ac7-4b83-9d63-439d08317a05",
   "metadata": {},
   "outputs": [
    {
     "data": {
      "text/html": [
       "<div>\n",
       "<style scoped>\n",
       "    .dataframe tbody tr th:only-of-type {\n",
       "        vertical-align: middle;\n",
       "    }\n",
       "\n",
       "    .dataframe tbody tr th {\n",
       "        vertical-align: top;\n",
       "    }\n",
       "\n",
       "    .dataframe thead th {\n",
       "        text-align: right;\n",
       "    }\n",
       "</style>\n",
       "<table border=\"1\" class=\"dataframe\">\n",
       "  <thead>\n",
       "    <tr style=\"text-align: right;\">\n",
       "      <th></th>\n",
       "      <th>index</th>\n",
       "      <th>Hour</th>\n",
       "      <th>Sales in Hour</th>\n",
       "    </tr>\n",
       "  </thead>\n",
       "  <tbody>\n",
       "    <tr>\n",
       "      <th>0</th>\n",
       "      <td>0</td>\n",
       "      <td>7</td>\n",
       "      <td>13</td>\n",
       "    </tr>\n",
       "    <tr>\n",
       "      <th>1</th>\n",
       "      <td>1</td>\n",
       "      <td>8</td>\n",
       "      <td>44</td>\n",
       "    </tr>\n",
       "    <tr>\n",
       "      <th>2</th>\n",
       "      <td>2</td>\n",
       "      <td>9</td>\n",
       "      <td>50</td>\n",
       "    </tr>\n",
       "    <tr>\n",
       "      <th>3</th>\n",
       "      <td>3</td>\n",
       "      <td>10</td>\n",
       "      <td>133</td>\n",
       "    </tr>\n",
       "    <tr>\n",
       "      <th>4</th>\n",
       "      <td>4</td>\n",
       "      <td>11</td>\n",
       "      <td>103</td>\n",
       "    </tr>\n",
       "  </tbody>\n",
       "</table>\n",
       "</div>"
      ],
      "text/plain": [
       "   index  Hour  Sales in Hour\n",
       "0      0     7             13\n",
       "1      1     8             44\n",
       "2      2     9             50\n",
       "3      3    10            133\n",
       "4      4    11            103"
      ]
     },
     "execution_count": 60,
     "metadata": {},
     "output_type": "execute_result"
    }
   ],
   "source": [
    "Nit_Hourly_sales = (\n",
    "    df_cleaed\n",
    "    .groupby(['Hour'])\n",
    "    .count()['date']\n",
    "    .reset_index()\n",
    "    .rename(columns = {'date':'Sales in Hour'})\n",
    "    .reset_index()\n",
    ")\n",
    "\n",
    "Nit_Hourly_sales.head()"
   ]
  },
  {
   "cell_type": "markdown",
   "id": "4a757a6e-18cf-4068-9e93-093adc4a11b8",
   "metadata": {},
   "source": [
    "## Creating a Column Chart for Nit Hourly Sales"
   ]
  },
  {
   "cell_type": "code",
   "execution_count": 61,
   "id": "274f09c3-bf57-40b5-a9c5-54d01d6853b3",
   "metadata": {},
   "outputs": [
    {
     "data": {
      "text/plain": [
       "Text(0, 0.5, 'Sales in Hour')"
      ]
     },
     "execution_count": 61,
     "metadata": {},
     "output_type": "execute_result"
    },
    {
     "data": {
      "image/png": "[encoded data removed]",
      "text/plain": [
       "<Figure size 640x480 with 1 Axes>"
      ]
     },
     "metadata": {},
     "output_type": "display_data"
    }
   ],
   "source": [
    "sns.barplot(data=Nit_Hourly_sales,x='Hour',y='Sales in Hour' ,palette='viridis',hue = 'Hour',width = 0.6)\n",
    "plt.legend().remove()\n",
    "\n",
    "plt.title('Hourly Sales')\n",
    "plt.xlabel('Hour of the Day')\n",
    "plt.ylabel('Sales in Hour')\n"
   ]
  },
  {
   "cell_type": "code",
   "execution_count": null,
   "id": "c822fc0e-7451-49a9-9589-8f5c4274ea81",
   "metadata": {},
   "outputs": [],
   "source": []
  },
  {
   "cell_type": "code",
   "execution_count": 69,
   "id": "1ac20f77-c9d6-4ccf-93bf-a7c463265f4c",
   "metadata": {},
   "outputs": [
    {
     "data": {
      "image/png": "[encoded data removed]",
      "text/plain": [
       "<Figure size 2000x1000 with 8 Axes>"
      ]
     },
     "metadata": {},
     "output_type": "display_data"
    }
   ],
   "source": [
    "# Create a figure with a grid of 2 rows and 4 columns for subplots, with a specified size.\n",
    "fig, axs = plt.subplots(2, 4, figsize=(20, 10))\n",
    "\n",
    "# Flatten the array of subplots for easy iteration.\n",
    "axs = axs.flatten()\n",
    "\n",
    "# Generate a list of colors (one per subplot)\n",
    "colors = sns.color_palette(\"viridis\", len(Hourly_sales.columns) - 1)\n",
    "\n",
    "# Loop through each column in the DataFrame, skipping the 'Index' column.\n",
    "for i, column_name in enumerate(Hourly_sales.columns[1:]):  # Skip the first column ('Index')\n",
    "\n",
    "    # Plot a bar chart for each coffee type in its respective subplot.\n",
    "    axs[i].bar(Hourly_sales['Hour'], Hourly_sales[column_name],color=colors[i])\n",
    "\n",
    "    axs[i].set_title(f'{column_name}')\n",
    "    axs[i].set_xlabel('Hour')\n",
    "\n",
    "    # Uncomment this if a y-axis label is needed for each subplot.\n",
    "    axs[i].set_ylabel('Sales')\n",
    "\n",
    "# Adjust layout to prevent overlap between subplots\n",
    "plt.tight_layout()\n",
    "\n",
    "# Display the figure\n",
    "plt.show()\n"
   ]
  },
  {
   "cell_type": "markdown",
   "id": "beaa6ab8-00f1-4ec5-a40d-bf19fbd04658",
   "metadata": {},
   "source": [
    "# Discussion and Conclusion"
   ]
  },
  {
   "cell_type": "markdown",
   "id": "814dc4c4-73a2-450d-b265-5113839e5f8b",
   "metadata": {},
   "source": [
    "In this coffee sales data analysis project, I undertook a series of data processing and exploration tasks aimed at extracting insights and trends from the dataset.\n",
    "\n",
    "1. **Data Import and Initial Processing**: I started by importing the raw coffee sales data and creating a copy for analysis. I conducted preliminary checks for metadata, missing values, and duplicate records to ensure the data’s accuracy.\n",
    "\n",
    "2. **Data Cleaning**: Some columns, like the date, were found redundant and removed to streamline the dataset. I then focused on the `datetime` column, converting its data type to `datetime` format and extracting specific time-based features such as hour, month, year, and day, which added more dimensions to the dataset for detailed time-based analysis.\n",
    "\n",
    "3. **Handling Missing Values**: For fields like `card` that contained missing values, I filled these gaps using the mode value of the column, ensuring a complete dataset for analysis.\n",
    "\n",
    "4. **Categorical Analysis**: I examined categorical variables like `cash_type` and `coffee_name`. For coffee names, I calculated both the frequency and percentage of each type, identifying the most popular coffee products in terms of sales volume.\n",
    "\n",
    "5. **Exploratory Data Analysis (EDA)**:\n",
    "   - **Revenue Analysis**: I calculated revenue by coffee type to identify high-earning products. Visualizations, including bar charts, highlighted the revenue distribution across coffee types.\n",
    "   - **Monthly and Weekly Sales Trends**: I grouped the data by `coffee_name` and `Month` to observe monthly sales trends for each coffee type. This approach was extended to weekly sales as well, where I visualized sales for each day of the week, helping to pinpoint peak days for sales.\n",
    "   - **Hourly Sales Patterns**: I also analyzed sales by hour to understand peak sales times throughout the day.\n",
    "\n",
    "6. **Data Visualization**: Various plots, such as bar charts and line graphs, were created to showcase monthly, weekly, and hourly sales trends across different coffee products, providing clear, visual insights into the sales patterns.\n",
    "\n",
    "This project involved a structured approach to data analysis and visualization, yielding a detailed breakdown of coffee sales patterns by time, payment type, and product type. The insights derived could aid in strategic decisions regarding product offerings and promotional timings."
   ]
  },
  {
   "cell_type": "code",
   "execution_count": null,
   "id": "a4411683-87dc-478b-9bc2-b037b20e9926",
   "metadata": {},
   "outputs": [],
   "source": []
  }
 ],
 "metadata": {
  "kernelspec": {
   "display_name": "Python 3 (ipykernel)",
   "language": "python",
   "name": "python3"
  },
  "language_info": {
   "codemirror_mode": {
    "name": "ipython",
    "version": 3
   },
   "file_extension": ".py",
   "mimetype": "text/x-python",
   "name": "python",
   "nbconvert_exporter": "python",
   "pygments_lexer": "ipython3",
   "version": "3.12.4"
  }
 },
 "nbformat": 4,
 "nbformat_minor": 5
}
