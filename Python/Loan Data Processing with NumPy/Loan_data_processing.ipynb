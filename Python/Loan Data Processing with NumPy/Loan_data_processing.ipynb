{
 "cells": [
  {
   "cell_type": "code",
   "execution_count": 969,
   "id": "9f43eb6d-5359-4422-b042-b5f8361c3375",
   "metadata": {},
   "outputs": [],
   "source": [
    "import numpy as np"
   ]
  },
  {
   "cell_type": "code",
   "execution_count": 970,
   "id": "d46dfa88-aea2-4d46-bec1-b8f92cd3bb91",
   "metadata": {},
   "outputs": [],
   "source": [
    "np.set_printoptions(suppress = True, linewidth = 100, precision = 2)"
   ]
  },
  {
   "cell_type": "code",
   "execution_count": 971,
   "id": "501fd058-ddac-43a7-9fac-af144015c488",
   "metadata": {},
   "outputs": [],
   "source": [
    "fname = \"F:/skillss/data analyst course/data processing via python udemy course/S28 - A Loan Data Example with NumPy/loan-data.csv\""
   ]
  },
  {
   "cell_type": "code",
   "execution_count": 972,
   "id": "f4f6c8ef-180f-47b6-9596-f4dced8daf2b",
   "metadata": {},
   "outputs": [
    {
     "data": {
      "text/plain": [
       "((10001, 14),\n",
       " numpy.ndarray,\n",
       " array([['id', 'issue_d', 'loan_amnt', ..., 'url', 'addr_state', 'total_pymnt'],\n",
       "        ['48010226', 'May-15', '35000.0', ...,\n",
       "         'https://www.lendingclub.com/browse/loanDetail.action?loan_id=48010226', 'CA', '9452.96'],\n",
       "        ['57693261', '', '30000.0', ...,\n",
       "         'https://www.lendingclub.com/browse/loanDetail.action?loan_id=57693261', 'NY', '4679.7'],\n",
       "        ...,\n",
       "        ['50415990', 'Jun-15', '10000.0', ...,\n",
       "         'https://www.lendingclub.com/browse/loanDetail.action?loan_id=50415990', 'CA', '2185.64'],\n",
       "        ['46154151', 'Apr-15', '', ...,\n",
       "         'https://www.lendingclub.com/browse/loanDetail.action?loan_id=46154151', 'OH', '3199.4'],\n",
       "        ['66055249', 'Dec-15', '10000.0', ...,\n",
       "         'https://www.lendingclub.com/browse/loanDetail.action?loan_id=66055249', 'IL', '301.9']],\n",
       "       dtype='<U69'))"
      ]
     },
     "execution_count": 972,
     "metadata": {},
     "output_type": "execute_result"
    }
   ],
   "source": [
    "#load the whole dataset to observe\n",
    "data = np.genfromtxt(fname,\n",
    "                     delimiter= ';',\n",
    "                     skip_header=0,\n",
    "                     autostrip=True,\n",
    "                    dtype = str)\n",
    "data.shape,  type(data),  data"
   ]
  },
  {
   "cell_type": "code",
   "execution_count": 973,
   "id": "611a061f-8d5b-466d-9cd7-5a4270d973b6",
   "metadata": {},
   "outputs": [
    {
     "data": {
      "text/plain": [
       "((10000, 14),\n",
       " numpy.ndarray,\n",
       " array([[48010226.  ,         nan,    35000.  , ...,         nan,         nan,     9452.96],\n",
       "        [57693261.  ,         nan,    30000.  , ...,         nan,         nan,     4679.7 ],\n",
       "        [59432726.  ,         nan,    15000.  , ...,         nan,         nan,     1969.83],\n",
       "        ...,\n",
       "        [50415990.  ,         nan,    10000.  , ...,         nan,         nan,     2185.64],\n",
       "        [46154151.  ,         nan,         nan, ...,         nan,         nan,     3199.4 ],\n",
       "        [66055249.  ,         nan,    10000.  , ...,         nan,         nan,      301.9 ]]))"
      ]
     },
     "execution_count": 973,
     "metadata": {},
     "output_type": "execute_result"
    }
   ],
   "source": [
    "#reload the whole dataset to observe\n",
    "data = np.genfromtxt(fname,\n",
    "                     delimiter= ';',\n",
    "                     skip_header=1,\n",
    "                     autostrip=True)\n",
    "data.shape,type(data),data"
   ]
  },
  {
   "cell_type": "code",
   "execution_count": 974,
   "id": "ed7d751a-6d9e-4954-89d9-16dcb061c3b9",
   "metadata": {},
   "outputs": [
    {
     "name": "stdout",
     "output_type": "stream",
     "text": [
      "0 mv in column 0\n",
      "10000 mv in column 1\n",
      "500 mv in column 2\n",
      "10000 mv in column 3\n",
      "500 mv in column 4\n",
      "10000 mv in column 5\n",
      "6004 mv in column 6\n",
      "501 mv in column 7\n",
      "10000 mv in column 8\n",
      "10000 mv in column 9\n",
      "10000 mv in column 10\n",
      "10000 mv in column 11\n",
      "10000 mv in column 12\n",
      "500 mv in column 13\n"
     ]
    }
   ],
   "source": [
    "#checking the amount missing values in each column\n",
    "for i in range(0,14):\n",
    "    if np.isnan(data[:,i]).sum() != 0:\n",
    "        print(str(np.isnan(data[:,i]).sum()) + ' mv in column ' + str(i))\n",
    "    else:\n",
    "         print(str(0) + ' mv in column ' + str(i))"
   ]
  },
  {
   "cell_type": "code",
   "execution_count": 975,
   "id": "29ae8822-1cc2-48ee-9275-49e08f8b321c",
   "metadata": {},
   "outputs": [
    {
     "name": "stderr",
     "output_type": "stream",
     "text": [
      "C:\\Users\\Mohammed Riad\\AppData\\Local\\Temp\\ipykernel_7208\\2465909168.py:3: RuntimeWarning: Mean of empty slice\n",
      "  temporary_stats = np.array([np.nanmean(data,axis = 0),\n",
      "C:\\Users\\Mohammed Riad\\AppData\\Local\\Temp\\ipykernel_7208\\2465909168.py:4: RuntimeWarning: All-NaN slice encountered\n",
      "  np.nanmin(data,axis = 0),\n",
      "C:\\Users\\Mohammed Riad\\AppData\\Local\\Temp\\ipykernel_7208\\2465909168.py:5: RuntimeWarning: All-NaN slice encountered\n",
      "  np.nanmax(data,axis = 0)])\n"
     ]
    },
    {
     "data": {
      "text/plain": [
       "(np.float64(68616520.0),\n",
       " array([[54015809.19,         nan,    15273.46,         nan,    15311.04,         nan,       16.62,\n",
       "              440.92,         nan,         nan,         nan,         nan,         nan,     3143.85],\n",
       "        [  373332.  ,         nan,     1000.  ,         nan,     1000.  ,         nan,        6.  ,\n",
       "               31.42,         nan,         nan,         nan,         nan,         nan,        0.  ],\n",
       "        [68616519.  ,         nan,    35000.  ,         nan,    35000.  ,         nan,       28.99,\n",
       "             1372.97,         nan,         nan,         nan,         nan,         nan,    41913.62]]),\n",
       " (3, 14))"
      ]
     },
     "execution_count": 975,
     "metadata": {},
     "output_type": "execute_result"
    }
   ],
   "source": [
    "#generate some values for the missing values of the dataset\n",
    "temporary_fill = np.nanmax(data)+1\n",
    "temporary_stats = np.array([np.nanmean(data,axis = 0),\n",
    "                            np.nanmin(data,axis = 0),\n",
    "                            np.nanmax(data,axis = 0)])\n",
    "temporary_fill,temporary_stats,temporary_stats.shape"
   ]
  },
  {
   "cell_type": "markdown",
   "id": "e6899956-3f4f-41fa-bb81-5115c2fb5977",
   "metadata": {},
   "source": [
    "# Spiliting the data set into numeric and strings"
   ]
  },
  {
   "cell_type": "code",
   "execution_count": 976,
   "id": "30058631-4040-4b2c-a452-c0cff6ebd04e",
   "metadata": {},
   "outputs": [],
   "source": [
    "column_strings= np.argwhere(np.isnan(temporary_stats[0])).squeeze()\n",
    "column_numeric = np.argwhere((np.isnan(temporary_stats[0])==False)).squeeze()"
   ]
  },
  {
   "cell_type": "code",
   "execution_count": 977,
   "id": "ae8adc62-a4d0-4732-a52c-0b4d87659396",
   "metadata": {},
   "outputs": [
    {
     "data": {
      "text/plain": [
       "(array([ 1,  3,  5,  8,  9, 10, 11, 12]), 8)"
      ]
     },
     "execution_count": 977,
     "metadata": {},
     "output_type": "execute_result"
    }
   ],
   "source": [
    "#this column contains string data\n",
    "column_strings,column_strings.shape[0]"
   ]
  },
  {
   "cell_type": "code",
   "execution_count": 978,
   "id": "3c66498d-7bdf-471a-b876-3ebb44e41c73",
   "metadata": {},
   "outputs": [
    {
     "data": {
      "text/plain": [
       "(array([ 0,  2,  4,  6,  7, 13]), 6)"
      ]
     },
     "execution_count": 978,
     "metadata": {},
     "output_type": "execute_result"
    }
   ],
   "source": [
    "#this columns contains numeric data\n",
    "column_numeric,column_numeric.shape[0]"
   ]
  },
  {
   "cell_type": "code",
   "execution_count": 979,
   "id": "76a58db4-66be-40e2-af21-d4d5f9f2e412",
   "metadata": {},
   "outputs": [],
   "source": [
    "loan_data_strings = np.genfromtxt(fname,\n",
    "                                  delimiter=';',\n",
    "                                  dtype = str,\n",
    "                                  skip_header=1,\n",
    "                                  usecols=column_strings,\n",
    "                                  autostrip=True)\n",
    "\n",
    "loan_data_numeric = np.genfromtxt(fname,\n",
    "                                  delimiter = ';',\n",
    "                                  skip_header= 1,\n",
    "                                  usecols= column_numeric,\n",
    "                                 filling_values=temporary_fill)\n",
    "                                    "
   ]
  },
  {
   "cell_type": "code",
   "execution_count": 980,
   "id": "534cb76d-bddc-45d6-b094-feeb288b7c75",
   "metadata": {},
   "outputs": [
    {
     "data": {
      "text/plain": [
       "((10000, 8),\n",
       " array([['May-15', 'Current', '36 months', ..., 'Verified',\n",
       "         'https://www.lendingclub.com/browse/loanDetail.action?loan_id=48010226', 'CA'],\n",
       "        ['', 'Current', '36 months', ..., 'Source Verified',\n",
       "         'https://www.lendingclub.com/browse/loanDetail.action?loan_id=57693261', 'NY'],\n",
       "        ['Sep-15', 'Current', '36 months', ..., 'Verified',\n",
       "         'https://www.lendingclub.com/browse/loanDetail.action?loan_id=59432726', 'PA'],\n",
       "        ...,\n",
       "        ['Jun-15', 'Current', '36 months', ..., 'Source Verified',\n",
       "         'https://www.lendingclub.com/browse/loanDetail.action?loan_id=50415990', 'CA'],\n",
       "        ['Apr-15', 'Current', '36 months', ..., 'Source Verified',\n",
       "         'https://www.lendingclub.com/browse/loanDetail.action?loan_id=46154151', 'OH'],\n",
       "        ['Dec-15', 'Current', '36 months', ..., '',\n",
       "         'https://www.lendingclub.com/browse/loanDetail.action?loan_id=66055249', 'IL']],\n",
       "       dtype='<U69'))"
      ]
     },
     "execution_count": 980,
     "metadata": {},
     "output_type": "execute_result"
    }
   ],
   "source": [
    "loan_data_strings.shape,loan_data_strings"
   ]
  },
  {
   "cell_type": "code",
   "execution_count": 981,
   "id": "47fa8c7a-ceed-4a5e-860e-d5f1267b3352",
   "metadata": {},
   "outputs": [
    {
     "data": {
      "text/plain": [
       "((10000, 6),\n",
       " np.int64(0),\n",
       " array([[48010226.  ,    35000.  ,    35000.  ,       13.33,     1184.86,     9452.96],\n",
       "        [57693261.  ,    30000.  ,    30000.  , 68616520.  ,      938.57,     4679.7 ],\n",
       "        [59432726.  ,    15000.  ,    15000.  , 68616520.  ,      494.86,     1969.83],\n",
       "        ...,\n",
       "        [50415990.  ,    10000.  ,    10000.  , 68616520.  , 68616520.  ,     2185.64],\n",
       "        [46154151.  , 68616520.  ,    10000.  ,       16.55,      354.3 ,     3199.4 ],\n",
       "        [66055249.  ,    10000.  ,    10000.  , 68616520.  ,      309.97,      301.9 ]]))"
      ]
     },
     "execution_count": 981,
     "metadata": {},
     "output_type": "execute_result"
    }
   ],
   "source": [
    "loan_data_numeric.shape,  np.isnan(loan_data_numeric).sum(), loan_data_numeric"
   ]
  },
  {
   "cell_type": "code",
   "execution_count": 982,
   "id": "805b435f-17ae-4104-86d9-1c7c798d0493",
   "metadata": {},
   "outputs": [
    {
     "data": {
      "text/plain": [
       "((14,),\n",
       " array(['id', 'issue_d', 'loan_amnt', 'loan_status', 'funded_amnt', 'term', 'int_rate',\n",
       "        'installment', 'grade', 'sub_grade', 'verification_status', 'url', 'addr_state',\n",
       "        'total_pymnt'], dtype='<U19'))"
      ]
     },
     "execution_count": 982,
     "metadata": {},
     "output_type": "execute_result"
    }
   ],
   "source": [
    "column_header = np.genfromtxt(fname,\n",
    "                              delimiter=';',\n",
    "                              dtype = str,\n",
    "                              skip_footer=data.shape[0],\n",
    "                              autostrip=True)\n",
    "column_header.shape,column_header"
   ]
  },
  {
   "cell_type": "code",
   "execution_count": 983,
   "id": "bf3458f2-ad2a-4f5d-a860-66fce2ded4dd",
   "metadata": {},
   "outputs": [],
   "source": [
    "header_strings = column_header[column_strings]\n",
    "header_numeric = column_header[column_numeric]"
   ]
  },
  {
   "cell_type": "code",
   "execution_count": 984,
   "id": "8052d8a0-d2a9-4182-aab6-8eec6c372c6c",
   "metadata": {},
   "outputs": [
    {
     "data": {
      "text/plain": [
       "(array(['issue_d', 'loan_status', 'term', 'grade', 'sub_grade', 'verification_status', 'url',\n",
       "        'addr_state'], dtype='<U19'),\n",
       " array(['id', 'loan_amnt', 'funded_amnt', 'int_rate', 'installment', 'total_pymnt'], dtype='<U19'))"
      ]
     },
     "execution_count": 984,
     "metadata": {},
     "output_type": "execute_result"
    }
   ],
   "source": [
    "header_strings , header_numeric"
   ]
  },
  {
   "cell_type": "markdown",
   "id": "69ab52e4-0df4-4242-b7fc-97e4ffe0532e",
   "metadata": {},
   "source": [
    "### spiliting the whole dataset into strings and numeric has been completed.\n",
    "Creating Checkpoints"
   ]
  },
  {
   "cell_type": "code",
   "execution_count": 985,
   "id": "3cd22680-cfe8-4093-912f-48cb29f8f6a2",
   "metadata": {},
   "outputs": [],
   "source": [
    "def checkpoint(file_name, checkpoint_header, checkpoint_data):\n",
    "    np.savez(file_name, header = checkpoint_header, data = checkpoint_data)\n",
    "    checkpoint_variable = np.load(file_name + \".npz\")\n",
    "    return(checkpoint_variable)"
   ]
  },
  {
   "cell_type": "code",
   "execution_count": 986,
   "id": "ab5ccdda-0343-4ef8-bff2-5e482a407244",
   "metadata": {},
   "outputs": [
    {
     "data": {
      "text/plain": [
       "(array(['issue_d', 'loan_status', 'term', 'grade', 'sub_grade', 'verification_status', 'url',\n",
       "        'addr_state'], dtype='<U19'),\n",
       " array([['May-15', 'Current', '36 months', ..., 'Verified',\n",
       "         'https://www.lendingclub.com/browse/loanDetail.action?loan_id=48010226', 'CA'],\n",
       "        ['', 'Current', '36 months', ..., 'Source Verified',\n",
       "         'https://www.lendingclub.com/browse/loanDetail.action?loan_id=57693261', 'NY'],\n",
       "        ['Sep-15', 'Current', '36 months', ..., 'Verified',\n",
       "         'https://www.lendingclub.com/browse/loanDetail.action?loan_id=59432726', 'PA'],\n",
       "        ...,\n",
       "        ['Jun-15', 'Current', '36 months', ..., 'Source Verified',\n",
       "         'https://www.lendingclub.com/browse/loanDetail.action?loan_id=50415990', 'CA'],\n",
       "        ['Apr-15', 'Current', '36 months', ..., 'Source Verified',\n",
       "         'https://www.lendingclub.com/browse/loanDetail.action?loan_id=46154151', 'OH'],\n",
       "        ['Dec-15', 'Current', '36 months', ..., '',\n",
       "         'https://www.lendingclub.com/browse/loanDetail.action?loan_id=66055249', 'IL']],\n",
       "       dtype='<U69'))"
      ]
     },
     "execution_count": 986,
     "metadata": {},
     "output_type": "execute_result"
    }
   ],
   "source": [
    "checkpoint_test = checkpoint('checkpoint-test',header_strings,loan_data_strings)\n",
    "checkpoint_test['header'],checkpoint_test['data']"
   ]
  },
  {
   "cell_type": "markdown",
   "id": "adfd8154-02c6-4e5f-81a4-dff1c8169c78",
   "metadata": {},
   "source": [
    "## working with string dataset"
   ]
  },
  {
   "cell_type": "code",
   "execution_count": 987,
   "id": "c3f3ad3e-2292-4f9a-90c4-de6bac79c0b1",
   "metadata": {},
   "outputs": [
    {
     "data": {
      "text/plain": [
       "array(['issue_d', 'loan_status', 'term', 'grade', 'sub_grade', 'verification_status', 'url',\n",
       "       'addr_state'], dtype='<U19')"
      ]
     },
     "execution_count": 987,
     "metadata": {},
     "output_type": "execute_result"
    }
   ],
   "source": [
    "header_strings"
   ]
  },
  {
   "cell_type": "markdown",
   "id": "6da88a2f-d496-468c-b6c4-5c599522acf1",
   "metadata": {},
   "source": [
    "## Issue_d"
   ]
  },
  {
   "cell_type": "code",
   "execution_count": 988,
   "id": "81183526-7d60-497f-859c-b36247a75fbb",
   "metadata": {},
   "outputs": [
    {
     "data": {
      "text/plain": [
       "np.str_('Issue_date')"
      ]
     },
     "execution_count": 988,
     "metadata": {},
     "output_type": "execute_result"
    }
   ],
   "source": [
    "header_strings[0] = 'Issue_date'\n",
    "header_strings[0]"
   ]
  },
  {
   "cell_type": "code",
   "execution_count": 989,
   "id": "5ed6acef-67aa-4a72-8363-11236eb33425",
   "metadata": {},
   "outputs": [
    {
     "data": {
      "text/plain": [
       "(array(['May-15', '', 'Sep-15', ..., 'Jun-15', 'Apr-15', 'Dec-15'], dtype='<U69'),\n",
       " array(['', 'Apr-15', 'Aug-15', 'Dec-15', 'Feb-15', 'Jan-15', 'Jul-15', 'Jun-15', 'Mar-15',\n",
       "        'May-15', 'Nov-15', 'Oct-15', 'Sep-15'], dtype='<U69'),\n",
       " 13)"
      ]
     },
     "execution_count": 989,
     "metadata": {},
     "output_type": "execute_result"
    }
   ],
   "source": [
    "loan_data_strings[:,0] , np.unique(loan_data_strings[:,0]), np.unique(loan_data_strings[:,0]).size"
   ]
  },
  {
   "cell_type": "code",
   "execution_count": 990,
   "id": "f2c8198e-cc2f-4faf-9952-ed4b8b5a42dd",
   "metadata": {},
   "outputs": [
    {
     "data": {
      "text/plain": [
       "array(['May', '', 'Sep', ..., 'Jun', 'Apr', 'Dec'], dtype='<U69')"
      ]
     },
     "execution_count": 990,
     "metadata": {},
     "output_type": "execute_result"
    }
   ],
   "source": [
    "#exclude \"-15\" from each rows\n",
    "loan_data_strings[:,0] = np.char.strip(loan_data_strings[:,0],\"-15\")\n",
    "loan_data_strings[:,0]"
   ]
  },
  {
   "cell_type": "code",
   "execution_count": 991,
   "id": "17b81795-ab43-4795-8164-9c44bbed6bc2",
   "metadata": {},
   "outputs": [
    {
     "data": {
      "text/plain": [
       "array(['', 'Jan', 'Feb', 'Mar', 'Apr', 'May', 'Jun', 'Jul', 'Aug', 'Sep', 'Oct', 'Nov', 'Dec'],\n",
       "      dtype='<U3')"
      ]
     },
     "execution_count": 991,
     "metadata": {},
     "output_type": "execute_result"
    }
   ],
   "source": [
    "#replacing month with respective number\n",
    "months = np.array(['','Jan', 'Feb', 'Mar', 'Apr', 'May', 'Jun', 'Jul', 'Aug', 'Sep', 'Oct', 'Nov', 'Dec'])\n",
    "months\n"
   ]
  },
  {
   "cell_type": "code",
   "execution_count": 992,
   "id": "5473660b-f5e7-4220-a089-1fb804452a3b",
   "metadata": {},
   "outputs": [
    {
     "data": {
      "text/plain": [
       "(array(['5', '0', '9', ..., '6', '4', '12'], dtype='<U69'),\n",
       " array(['0', '1', '10', '11', '12', '2', '3', '4', '5', '6', '7', '8', '9'], dtype='<U69'))"
      ]
     },
     "execution_count": 992,
     "metadata": {},
     "output_type": "execute_result"
    }
   ],
   "source": [
    "for i in range(0, 13):\n",
    "    loan_data_strings[:, 0] = np.where(np.isin(loan_data_strings[:, 0], months[i]),\n",
    "                                       str(i),\n",
    "                                       loan_data_strings[:, 0])\n",
    "loan_data_strings[:,0] , np.unique(loan_data_strings[:,0])"
   ]
  },
  {
   "cell_type": "markdown",
   "id": "83af786a-7ce3-4d9c-ac38-d66f918fed39",
   "metadata": {},
   "source": [
    "## loan_status"
   ]
  },
  {
   "cell_type": "code",
   "execution_count": 993,
   "id": "6b9ac3c1-6e21-4af7-a599-8bcd067f7a39",
   "metadata": {},
   "outputs": [
    {
     "data": {
      "text/plain": [
       "(array(['', 'Charged Off', 'Current', 'Default', 'Fully Paid', 'In Grace Period', 'Issued',\n",
       "        'Late (16-30 days)', 'Late (31-120 days)'], dtype='<U69'),\n",
       " 9)"
      ]
     },
     "execution_count": 993,
     "metadata": {},
     "output_type": "execute_result"
    }
   ],
   "source": [
    "np.unique(loan_data_strings[:,1]), np.unique(loan_data_strings[:,1]).size"
   ]
  },
  {
   "cell_type": "code",
   "execution_count": 994,
   "id": "e21bb6f9-5926-4780-a62d-115129fa203e",
   "metadata": {},
   "outputs": [],
   "source": [
    "#catagorizing the values\n",
    "status_bad = np.array(['','Charged Off','Default','Late (31-120 days)'])"
   ]
  },
  {
   "cell_type": "code",
   "execution_count": 995,
   "id": "9fa9ded4-c5ff-41b4-9228-1fd97a483b10",
   "metadata": {},
   "outputs": [
    {
     "data": {
      "text/plain": [
       "array(['0', '1'], dtype='<U69')"
      ]
     },
     "execution_count": 995,
     "metadata": {},
     "output_type": "execute_result"
    }
   ],
   "source": [
    "loan_data_strings[:, 1] = np.where(np.isin(loan_data_strings[:, 1], status_bad), 0, 1)\n",
    "np.unique(loan_data_strings[:,1])"
   ]
  },
  {
   "cell_type": "code",
   "execution_count": 996,
   "id": "39e19d44-5976-4379-a98e-c3ad4048e239",
   "metadata": {},
   "outputs": [
    {
     "data": {
      "text/plain": [
       "array(['Issue_date', 'loan_status', 'term', 'grade', 'sub_grade', 'verification_status', 'url',\n",
       "       'addr_state'], dtype='<U19')"
      ]
     },
     "execution_count": 996,
     "metadata": {},
     "output_type": "execute_result"
    }
   ],
   "source": [
    "header_strings"
   ]
  },
  {
   "cell_type": "markdown",
   "id": "a3cac030-8e47-4f83-a6d2-8ea8f3ccb1ce",
   "metadata": {},
   "source": [
    "## term"
   ]
  },
  {
   "cell_type": "code",
   "execution_count": 997,
   "id": "dd923b56-0abc-4312-854b-c7b3a13e634a",
   "metadata": {},
   "outputs": [
    {
     "data": {
      "text/plain": [
       "(array(['36 months', '36 months', '36 months', ..., '36 months', '36 months', '36 months'],\n",
       "       dtype='<U69'),\n",
       " array(['', '36 months', '60 months'], dtype='<U69'))"
      ]
     },
     "execution_count": 997,
     "metadata": {},
     "output_type": "execute_result"
    }
   ],
   "source": [
    "loan_data_strings[:,2] , np.unique(loan_data_strings[:,2])"
   ]
  },
  {
   "cell_type": "code",
   "execution_count": 998,
   "id": "cdec29ed-4e87-41f5-938a-4c9745e18288",
   "metadata": {},
   "outputs": [
    {
     "data": {
      "text/plain": [
       "array(['', '36', '60'], dtype='<U69')"
      ]
     },
     "execution_count": 998,
     "metadata": {},
     "output_type": "execute_result"
    }
   ],
   "source": [
    "loan_data_strings[:,2] = np.char.strip(loan_data_strings[:,2],\" months\")\n",
    "np.unique(loan_data_strings[:,2])"
   ]
  },
  {
   "cell_type": "code",
   "execution_count": 999,
   "id": "bd3d0d2e-49c2-463a-bca0-65140b96d215",
   "metadata": {},
   "outputs": [
    {
     "data": {
      "text/plain": [
       "array(['36', '60'], dtype='<U69')"
      ]
     },
     "execution_count": 999,
     "metadata": {},
     "output_type": "execute_result"
    }
   ],
   "source": [
    "loan_data_strings[:,2] = np.where(loan_data_strings[:,2] == '',\n",
    "                                  str(60),\n",
    "                                  loan_data_strings[:,2])\n",
    "np.unique(loan_data_strings[:,2])"
   ]
  },
  {
   "cell_type": "code",
   "execution_count": 1000,
   "id": "e1f6f2ec-620d-45b0-88c9-1649d234782e",
   "metadata": {},
   "outputs": [
    {
     "data": {
      "text/plain": [
       "np.str_('grade')"
      ]
     },
     "execution_count": 1000,
     "metadata": {},
     "output_type": "execute_result"
    }
   ],
   "source": [
    "header_strings[3]"
   ]
  },
  {
   "cell_type": "markdown",
   "id": "2cd180c3-5fa7-413d-b2f0-9ce7bb073f3a",
   "metadata": {},
   "source": [
    "## Grade and Subgrade"
   ]
  },
  {
   "cell_type": "code",
   "execution_count": 1001,
   "id": "15510e26-e754-400e-b93b-b1b7f8938c82",
   "metadata": {},
   "outputs": [
    {
     "data": {
      "text/plain": [
       "(array(['C', 'A', 'B', ..., 'A', 'D', 'A'], dtype='<U69'),\n",
       " array(['C3', 'A5', 'B5', ..., 'A5', 'D2', 'A4'], dtype='<U69'))"
      ]
     },
     "execution_count": 1001,
     "metadata": {},
     "output_type": "execute_result"
    }
   ],
   "source": [
    "loan_data_strings[:,3],loan_data_strings[:,4]"
   ]
  },
  {
   "cell_type": "code",
   "execution_count": 1002,
   "id": "24cc55e6-be95-43c4-a5ab-9425d97ac540",
   "metadata": {},
   "outputs": [
    {
     "data": {
      "text/plain": [
       "(array(['', 'A', 'B', 'C', 'D', 'E', 'F', 'G'], dtype='<U69'),)"
      ]
     },
     "execution_count": 1002,
     "metadata": {},
     "output_type": "execute_result"
    }
   ],
   "source": [
    "np.unique(loan_data_strings[:,3]), "
   ]
  },
  {
   "cell_type": "code",
   "execution_count": 1003,
   "id": "ceb6c68a-0e68-49e8-bd1d-92b6cb302979",
   "metadata": {},
   "outputs": [
    {
     "data": {
      "text/plain": [
       "(36,\n",
       " array(['', 'A1', 'A2', 'A3', 'A4', 'A5', 'B1', 'B2', 'B3', 'B4', 'B5', 'C1', 'C2', 'C3', 'C4',\n",
       "        'C5', 'D1', 'D2', 'D3', 'D4', 'D5', 'E1', 'E2', 'E3', 'E4', 'E5', 'F1', 'F2', 'F3', 'F4',\n",
       "        'F5', 'G1', 'G2', 'G3', 'G4', 'G5'], dtype='<U69'))"
      ]
     },
     "execution_count": 1003,
     "metadata": {},
     "output_type": "execute_result"
    }
   ],
   "source": [
    "np.unique(loan_data_strings[:,4]).size ,np.unique(loan_data_strings[:,4])"
   ]
  },
  {
   "cell_type": "code",
   "execution_count": 1004,
   "id": "a68206f1-a8dc-4776-80c6-4ef4527fd7d2",
   "metadata": {},
   "outputs": [],
   "source": [
    "#filling the missing value-part 1\n",
    "for i in np.unique(loan_data_strings[:,3])[1:]:\n",
    "    loan_data_strings[:,4] = np.where((loan_data_strings[:,3] == i)& (loan_data_strings[:,4] == ''),\n",
    "                                      i + '5',\n",
    "                                      loan_data_strings[:,4])\n"
   ]
  },
  {
   "cell_type": "code",
   "execution_count": 1005,
   "id": "663628cd-d771-4751-bdb8-81004bd5b66c",
   "metadata": {},
   "outputs": [],
   "source": [
    "#filling the missing value- part 2\n",
    "loan_data_strings[:,4] = np.where(loan_data_strings[:,4] == '',\n",
    "                                      'H1',\n",
    "                                      loan_data_strings[:,4])\n"
   ]
  },
  {
   "cell_type": "code",
   "execution_count": 1006,
   "id": "24ead0b0-9ee9-476e-bbf2-d9704583e766",
   "metadata": {},
   "outputs": [
    {
     "data": {
      "text/plain": [
       "(36,\n",
       " array(['A1', 'A2', 'A3', 'A4', 'A5', 'B1', 'B2', 'B3', 'B4', 'B5', 'C1', 'C2', 'C3', 'C4', 'C5',\n",
       "        'D1', 'D2', 'D3', 'D4', 'D5', 'E1', 'E2', 'E3', 'E4', 'E5', 'F1', 'F2', 'F3', 'F4', 'F5',\n",
       "        'G1', 'G2', 'G3', 'G4', 'G5', 'H1'], dtype='<U69'))"
      ]
     },
     "execution_count": 1006,
     "metadata": {},
     "output_type": "execute_result"
    }
   ],
   "source": [
    "np.unique(loan_data_strings[:,4]).size , np.unique(loan_data_strings[:,4])"
   ]
  },
  {
   "cell_type": "code",
   "execution_count": 1007,
   "id": "dbf9f2b0-06e8-4f30-b5be-451d220e3616",
   "metadata": {},
   "outputs": [],
   "source": [
    "#replacing string value of subgrade into numeric values (1 to 36)\n",
    "keys = list(np.unique(loan_data_strings[:,4]))    \n",
    "values = list(range(1,np.unique(loan_data_strings[:,4]).size+1))\n",
    "dict_sub_grade = dict(zip(keys,values))"
   ]
  },
  {
   "cell_type": "code",
   "execution_count": 1008,
   "id": "12b37bab-b268-4a42-afae-efe2656b5be0",
   "metadata": {
    "scrolled": true
   },
   "outputs": [
    {
     "data": {
      "text/plain": [
       "{np.str_('A1'): 1,\n",
       " np.str_('A2'): 2,\n",
       " np.str_('A3'): 3,\n",
       " np.str_('A4'): 4,\n",
       " np.str_('A5'): 5,\n",
       " np.str_('B1'): 6,\n",
       " np.str_('B2'): 7,\n",
       " np.str_('B3'): 8,\n",
       " np.str_('B4'): 9,\n",
       " np.str_('B5'): 10,\n",
       " np.str_('C1'): 11,\n",
       " np.str_('C2'): 12,\n",
       " np.str_('C3'): 13,\n",
       " np.str_('C4'): 14,\n",
       " np.str_('C5'): 15,\n",
       " np.str_('D1'): 16,\n",
       " np.str_('D2'): 17,\n",
       " np.str_('D3'): 18,\n",
       " np.str_('D4'): 19,\n",
       " np.str_('D5'): 20,\n",
       " np.str_('E1'): 21,\n",
       " np.str_('E2'): 22,\n",
       " np.str_('E3'): 23,\n",
       " np.str_('E4'): 24,\n",
       " np.str_('E5'): 25,\n",
       " np.str_('F1'): 26,\n",
       " np.str_('F2'): 27,\n",
       " np.str_('F3'): 28,\n",
       " np.str_('F4'): 29,\n",
       " np.str_('F5'): 30,\n",
       " np.str_('G1'): 31,\n",
       " np.str_('G2'): 32,\n",
       " np.str_('G3'): 33,\n",
       " np.str_('G4'): 34,\n",
       " np.str_('G5'): 35,\n",
       " np.str_('H1'): 36}"
      ]
     },
     "execution_count": 1008,
     "metadata": {},
     "output_type": "execute_result"
    }
   ],
   "source": [
    "dict_sub_grade"
   ]
  },
  {
   "cell_type": "code",
   "execution_count": 1009,
   "id": "87b1c3d4-c570-45aa-bd2d-bbfdfafae79d",
   "metadata": {},
   "outputs": [],
   "source": [
    "for i in np.unique(loan_data_strings[:,4]):\n",
    "    loan_data_strings[:,4] = np.where(loan_data_strings[:,4] == i,\n",
    "                                      str(dict_sub_grade[i]),\n",
    "                                      loan_data_strings[:,4])"
   ]
  },
  {
   "cell_type": "code",
   "execution_count": 1010,
   "id": "ae8bc0b7-183f-4bcf-87cc-9ff4a2b32fdf",
   "metadata": {},
   "outputs": [
    {
     "data": {
      "text/plain": [
       "(36,\n",
       " array(['1', '10', '11', '12', '13', '14', '15', '16', '17', '18', '19', '2', '20', '21', '22',\n",
       "        '23', '24', '25', '26', '27', '28', '29', '3', '30', '31', '32', '33', '34', '35', '36',\n",
       "        '4', '5', '6', '7', '8', '9'], dtype='<U69'))"
      ]
     },
     "execution_count": 1010,
     "metadata": {},
     "output_type": "execute_result"
    }
   ],
   "source": [
    "np.unique(loan_data_strings[:,4]).size ,np.unique(loan_data_strings[:,4])"
   ]
  },
  {
   "cell_type": "markdown",
   "id": "4795dfb2-bb8f-4874-8070-4253319de289",
   "metadata": {},
   "source": [
    "#### Removing grade column and its header\n",
    "    sub grade contains the information that grade have.so it can be deleted"
   ]
  },
  {
   "cell_type": "code",
   "execution_count": 1011,
   "id": "6e84da90-827c-4f0f-a157-e88041a9d1b1",
   "metadata": {},
   "outputs": [],
   "source": [
    "loan_data_strings = np.delete(loan_data_strings, 3, axis = 1)\n",
    "header_strings = np.delete(header_strings, 3)"
   ]
  },
  {
   "cell_type": "code",
   "execution_count": 1012,
   "id": "92f3f5a7-e149-41cf-acfa-56c6495c1920",
   "metadata": {},
   "outputs": [
    {
     "data": {
      "text/plain": [
       "(array(['Issue_date', 'loan_status', 'term', 'sub_grade', 'verification_status', 'url',\n",
       "        'addr_state'], dtype='<U19'),\n",
       " 3,\n",
       " array(['13', '5', '10', ..., '5', '17', '4'], dtype='<U69'))"
      ]
     },
     "execution_count": 1012,
     "metadata": {},
     "output_type": "execute_result"
    }
   ],
   "source": [
    "header_strings, 3, loan_data_strings[:,3]"
   ]
  },
  {
   "cell_type": "markdown",
   "id": "d5bd9889-735f-4578-bdc5-9e5ba162851b",
   "metadata": {},
   "source": [
    "## Verification_status"
   ]
  },
  {
   "cell_type": "code",
   "execution_count": 1013,
   "id": "08bea4ec-598e-45fc-8d3a-debf2272c6d8",
   "metadata": {},
   "outputs": [
    {
     "data": {
      "text/plain": [
       "(array(['Verified', 'Source Verified', 'Verified', ..., 'Source Verified', 'Source Verified', ''],\n",
       "       dtype='<U69'),\n",
       " array(['', 'Not Verified', 'Source Verified', 'Verified'], dtype='<U69'))"
      ]
     },
     "execution_count": 1013,
     "metadata": {},
     "output_type": "execute_result"
    }
   ],
   "source": [
    "loan_data_strings[:,4] , np.unique(loan_data_strings[:,4])"
   ]
  },
  {
   "cell_type": "code",
   "execution_count": 1014,
   "id": "9115a827-d402-4832-a0b9-4ebc96bd6a81",
   "metadata": {},
   "outputs": [
    {
     "data": {
      "text/plain": [
       "array(['0', '1'], dtype='<U69')"
      ]
     },
     "execution_count": 1014,
     "metadata": {},
     "output_type": "execute_result"
    }
   ],
   "source": [
    "loan_data_strings[:,4] = np.where((loan_data_strings[:,4]=='') | (loan_data_strings[:,4]=='Not Verified'),\n",
    "                                  0,\n",
    "                                  1)\n",
    "np.unique(loan_data_strings[:,4])"
   ]
  },
  {
   "cell_type": "markdown",
   "id": "4817a280-0ad0-49c8-aa1c-3fabaf38dfde",
   "metadata": {},
   "source": [
    "## url"
   ]
  },
  {
   "cell_type": "code",
   "execution_count": 1015,
   "id": "050b1a8e-db34-4879-8d35-1298de007de6",
   "metadata": {},
   "outputs": [
    {
     "data": {
      "text/plain": [
       "array(['48010226', '57693261', '59432726', ..., '50415990', '46154151', '66055249'], dtype='<U69')"
      ]
     },
     "execution_count": 1015,
     "metadata": {},
     "output_type": "execute_result"
    }
   ],
   "source": [
    "loan_data_strings[:,5] = np.char.strip(loan_data_strings[:,5],'https://www.lendingclub.com/browse/loanDetail.action?loan_id=')\n",
    "loan_data_strings[:,5]"
   ]
  },
  {
   "cell_type": "code",
   "execution_count": 1016,
   "id": "542fb9c5-031e-4d3f-9b35-93bb7b0f0ba9",
   "metadata": {},
   "outputs": [
    {
     "data": {
      "text/plain": [
       "True"
      ]
     },
     "execution_count": 1016,
     "metadata": {},
     "output_type": "execute_result"
    }
   ],
   "source": [
    "#Check whether the ID column from loan_data_numeric and the URL column from loan_data_strings (after converting its data type to int) are equal using np.array_equal.\n",
    "np.array_equal (loan_data_numeric[:,0],loan_data_strings[:,5].astype(int))"
   ]
  },
  {
   "cell_type": "code",
   "execution_count": 1017,
   "id": "ae5d7d4a-b717-4809-a163-6b24ccbbfe15",
   "metadata": {},
   "outputs": [],
   "source": [
    "loan_data_strings = np.delete(loan_data_strings,5,axis = 1)\n",
    "header_strings= np.delete(header_strings,5,)"
   ]
  },
  {
   "cell_type": "code",
   "execution_count": 1018,
   "id": "67526dac-8f5a-4f58-8dd4-a858cb1d0622",
   "metadata": {},
   "outputs": [
    {
     "data": {
      "text/plain": [
       "np.str_('addr_state')"
      ]
     },
     "execution_count": 1018,
     "metadata": {},
     "output_type": "execute_result"
    }
   ],
   "source": [
    "loan_data_strings[:,5]\n",
    "header_strings[5]"
   ]
  },
  {
   "cell_type": "code",
   "execution_count": 1019,
   "id": "7190db11-8645-4f3d-bee0-6cc43915d714",
   "metadata": {},
   "outputs": [
    {
     "data": {
      "text/plain": [
       "array(['Issue_date', 'loan_status', 'term', 'sub_grade', 'verification_status', 'addr_state'],\n",
       "      dtype='<U19')"
      ]
     },
     "execution_count": 1019,
     "metadata": {},
     "output_type": "execute_result"
    }
   ],
   "source": [
    "header_strings"
   ]
  },
  {
   "cell_type": "markdown",
   "id": "c87c755e-ba9d-4dff-b6b8-d72a311be26b",
   "metadata": {},
   "source": [
    "## 'addr_state'"
   ]
  },
  {
   "cell_type": "code",
   "execution_count": 1020,
   "id": "abd6e163-446e-48bd-bcfb-c0da7c62cc4f",
   "metadata": {},
   "outputs": [
    {
     "data": {
      "text/plain": [
       "array(['CA', 'NY', 'PA', ..., 'CA', 'OH', 'IL'], dtype='<U69')"
      ]
     },
     "execution_count": 1020,
     "metadata": {},
     "output_type": "execute_result"
    }
   ],
   "source": [
    "loan_data_strings[:,5]"
   ]
  },
  {
   "cell_type": "code",
   "execution_count": 1021,
   "id": "55a0311e-6e05-4808-a374-03eee02a3acd",
   "metadata": {},
   "outputs": [
    {
     "data": {
      "text/plain": [
       "(50,\n",
       " array(['', 'AK', 'AL', 'AR', 'AZ', 'CA', 'CO', 'CT', 'DC', 'DE', 'FL', 'GA', 'HI', 'IL', 'IN',\n",
       "        'KS', 'KY', 'LA', 'MA', 'MD', 'ME', 'MI', 'MN', 'MO', 'MS', 'MT', 'NC', 'ND', 'NE', 'NH',\n",
       "        'NJ', 'NM', 'NV', 'NY', 'OH', 'OK', 'OR', 'PA', 'RI', 'SC', 'SD', 'TN', 'TX', 'UT', 'VA',\n",
       "        'VT', 'WA', 'WI', 'WV', 'WY'], dtype='<U69'))"
      ]
     },
     "execution_count": 1021,
     "metadata": {},
     "output_type": "execute_result"
    }
   ],
   "source": [
    "np.unique(loan_data_strings[:,5]).size ,np.unique(loan_data_strings[:,5]) "
   ]
  },
  {
   "cell_type": "code",
   "execution_count": 1022,
   "id": "24e26897-c8da-4664-83db-c78027e657b5",
   "metadata": {
    "scrolled": true
   },
   "outputs": [
    {
     "data": {
      "text/plain": [
       "(array(['CA', 'NY', 'TX', 'FL', '', 'IL', 'NJ', 'GA', 'PA', 'OH', 'MI', 'NC', 'VA', 'MD', 'AZ',\n",
       "        'WA', 'MA', 'CO', 'MO', 'MN', 'IN', 'WI', 'TN', 'CT', 'NV', 'AL', 'LA', 'OR', 'SC', 'KY',\n",
       "        'KS', 'OK', 'UT', 'AR', 'MS', 'NH', 'NM', 'WV', 'HI', 'RI', 'MT', 'DC', 'DE', 'WY', 'AK',\n",
       "        'NE', 'SD', 'VT', 'ND', 'ME'], dtype='<U69'),\n",
       " array([1336,  777,  758,  690,  500,  389,  341,  321,  320,  312,  267,  261,  242,  222,  220,\n",
       "         216,  210,  201,  160,  156,  152,  148,  143,  143,  130,  119,  116,  108,  107,   84,\n",
       "          84,   83,   74,   74,   61,   58,   57,   49,   44,   40,   28,   27,   27,   27,   26,\n",
       "          25,   24,   17,   16,   10]))"
      ]
     },
     "execution_count": 1022,
     "metadata": {},
     "output_type": "execute_result"
    }
   ],
   "source": [
    "states_names,states_counts = np.unique(loan_data_strings[:,5],return_counts=True)\n",
    "states_counts_sorted = np.argsort(-states_counts)\n",
    "states_names[states_counts_sorted],states_counts[states_counts_sorted]"
   ]
  },
  {
   "cell_type": "code",
   "execution_count": 1023,
   "id": "51883c23-b485-4b0d-a6a5-0d8ee559fb67",
   "metadata": {},
   "outputs": [
    {
     "data": {
      "text/plain": [
       "array(['0', 'AK', 'AL', 'AR', 'AZ', 'CA', 'CO', 'CT', 'DC', 'DE', 'FL', 'GA', 'HI', 'IL', 'IN',\n",
       "       'KS', 'KY', 'LA', 'MA', 'MD', 'ME', 'MI', 'MN', 'MO', 'MS', 'MT', 'NC', 'ND', 'NE', 'NH',\n",
       "       'NJ', 'NM', 'NV', 'NY', 'OH', 'OK', 'OR', 'PA', 'RI', 'SC', 'SD', 'TN', 'TX', 'UT', 'VA',\n",
       "       'VT', 'WA', 'WI', 'WV', 'WY'], dtype='<U69')"
      ]
     },
     "execution_count": 1023,
     "metadata": {},
     "output_type": "execute_result"
    }
   ],
   "source": [
    "loan_data_strings[:,5] = np.where(loan_data_strings[:,5] == '',\n",
    "                                  str(0),\n",
    "                                  loan_data_strings[:,5])\n",
    "np.unique(loan_data_strings[:,5])"
   ]
  },
  {
   "cell_type": "code",
   "execution_count": 1024,
   "id": "3d25580e-1567-4f8f-aad1-e8d9516c6072",
   "metadata": {},
   "outputs": [],
   "source": [
    "#catagorize all of the states into 4\n",
    "states_west = np.array(['WA', 'OR','CA','NV','ID','MT', 'WY','UT','CO', 'AZ','NM','HI','AK'])\n",
    "states_south = np.array(['TX','OK','AR','LA','MS','AL','TN','KY','FL','GA','SC','NC','VA','WV','MD','DE','DC'])\n",
    "states_midwest = np.array(['ND','SD','NE','KS','MN','IA','MO','WI','IL','IN','MI','OH'])\n",
    "states_east = np.array(['PA','NY','NJ','CT','MA','VT','NH','ME','RI'])"
   ]
  },
  {
   "cell_type": "code",
   "execution_count": 1025,
   "id": "6d891e7c-8af1-4892-a7f3-abc50a03c64d",
   "metadata": {},
   "outputs": [],
   "source": [
    "#converting the string address into numeric value\n",
    "loan_data_strings[:,5] = np.where(np.isin(loan_data_strings[:,5],states_west),str(1),loan_data_strings[:,5])\n",
    "loan_data_strings[:,5] = np.where(np.isin(loan_data_strings[:,5],states_south),str(2),loan_data_strings[:,5])\n",
    "loan_data_strings[:,5] = np.where(np.isin(loan_data_strings[:,5],states_midwest),str(3),loan_data_strings[:,5])\n",
    "loan_data_strings[:,5] = np.where(np.isin(loan_data_strings[:,5],states_east),str(4),loan_data_strings[:,5])"
   ]
  },
  {
   "cell_type": "code",
   "execution_count": 1026,
   "id": "9bddcc61-f390-46cd-ac51-9645a5be7043",
   "metadata": {},
   "outputs": [
    {
     "data": {
      "text/plain": [
       "array(['0', '1', '2', '3', '4'], dtype='<U69')"
      ]
     },
     "execution_count": 1026,
     "metadata": {},
     "output_type": "execute_result"
    }
   ],
   "source": [
    "np.unique(loan_data_strings[:,5])"
   ]
  },
  {
   "cell_type": "code",
   "execution_count": 1027,
   "id": "17414361-3f7a-4a03-b7d2-b773063d9b87",
   "metadata": {},
   "outputs": [
    {
     "data": {
      "text/plain": [
       "array([['5', '1', '36', '13', '1', '1'],\n",
       "       ['0', '1', '36', '5', '1', '4'],\n",
       "       ['9', '1', '36', '10', '1', '4'],\n",
       "       ...,\n",
       "       ['6', '1', '36', '5', '1', '1'],\n",
       "       ['4', '1', '36', '17', '1', '3'],\n",
       "       ['12', '1', '36', '4', '0', '3']], dtype='<U69')"
      ]
     },
     "execution_count": 1027,
     "metadata": {},
     "output_type": "execute_result"
    }
   ],
   "source": [
    "loan_data_strings"
   ]
  },
  {
   "cell_type": "code",
   "execution_count": 1028,
   "id": "5f067ec2-472b-48db-a9df-9db0e084e1a7",
   "metadata": {},
   "outputs": [
    {
     "data": {
      "text/plain": [
       "array([[ 5,  1, 36, 13,  1,  1],\n",
       "       [ 0,  1, 36,  5,  1,  4],\n",
       "       [ 9,  1, 36, 10,  1,  4],\n",
       "       ...,\n",
       "       [ 6,  1, 36,  5,  1,  1],\n",
       "       [ 4,  1, 36, 17,  1,  3],\n",
       "       [12,  1, 36,  4,  0,  3]])"
      ]
     },
     "execution_count": 1028,
     "metadata": {},
     "output_type": "execute_result"
    }
   ],
   "source": [
    "#coverting the whole loan_data_strings dataset into numeric\n",
    "loan_data_strings = loan_data_strings.astype(dtype = int)\n",
    "loan_data_strings"
   ]
  },
  {
   "cell_type": "code",
   "execution_count": 1029,
   "id": "29f2d5b1-bf9d-4247-9758-1cfedf373ee8",
   "metadata": {},
   "outputs": [],
   "source": [
    "#creating checkpoints\n",
    "checkpoint_strings = checkpoint(\"checkpoint_strings\",header_strings,loan_data_strings)\n"
   ]
  },
  {
   "cell_type": "code",
   "execution_count": 1030,
   "id": "8d35552f-1b6a-4a6c-ae06-6a7aac988761",
   "metadata": {},
   "outputs": [
    {
     "data": {
      "text/plain": [
       "(array(['Issue_date', 'loan_status', 'term', 'sub_grade', 'verification_status', 'addr_state'],\n",
       "       dtype='<U19'),\n",
       " array([[ 5,  1, 36, 13,  1,  1],\n",
       "        [ 0,  1, 36,  5,  1,  4],\n",
       "        [ 9,  1, 36, 10,  1,  4],\n",
       "        ...,\n",
       "        [ 6,  1, 36,  5,  1,  1],\n",
       "        [ 4,  1, 36, 17,  1,  3],\n",
       "        [12,  1, 36,  4,  0,  3]]))"
      ]
     },
     "execution_count": 1030,
     "metadata": {},
     "output_type": "execute_result"
    }
   ],
   "source": [
    "checkpoint_strings['header'],checkpoint_strings['data']"
   ]
  },
  {
   "cell_type": "code",
   "execution_count": 1031,
   "id": "8850e60c-e99e-462f-a147-8189bfc8b619",
   "metadata": {},
   "outputs": [
    {
     "data": {
      "text/plain": [
       "True"
      ]
     },
     "execution_count": 1031,
     "metadata": {},
     "output_type": "execute_result"
    }
   ],
   "source": [
    "np.array_equal(checkpoint_strings['data'], loan_data_strings)"
   ]
  },
  {
   "cell_type": "markdown",
   "id": "5d7e7f1b-f7e8-4ac7-8d2b-042efe1299c8",
   "metadata": {},
   "source": [
    "# Working with Numeric Columns"
   ]
  },
  {
   "cell_type": "code",
   "execution_count": 1032,
   "id": "9db53171-0aac-4d9d-907f-440c65511eac",
   "metadata": {},
   "outputs": [
    {
     "data": {
      "text/plain": [
       "array(['id', 'loan_amnt', 'funded_amnt', 'int_rate', 'installment', 'total_pymnt'], dtype='<U19')"
      ]
     },
     "execution_count": 1032,
     "metadata": {},
     "output_type": "execute_result"
    }
   ],
   "source": [
    "header_numeric"
   ]
  },
  {
   "cell_type": "code",
   "execution_count": 1033,
   "id": "d65c0506-7b2a-466f-b88e-6f09e66b2f2c",
   "metadata": {},
   "outputs": [
    {
     "data": {
      "text/plain": [
       "array([[48010226.  ,    35000.  ,    35000.  ,       13.33,     1184.86,     9452.96],\n",
       "       [57693261.  ,    30000.  ,    30000.  , 68616520.  ,      938.57,     4679.7 ],\n",
       "       [59432726.  ,    15000.  ,    15000.  , 68616520.  ,      494.86,     1969.83],\n",
       "       ...,\n",
       "       [50415990.  ,    10000.  ,    10000.  , 68616520.  , 68616520.  ,     2185.64],\n",
       "       [46154151.  , 68616520.  ,    10000.  ,       16.55,      354.3 ,     3199.4 ],\n",
       "       [66055249.  ,    10000.  ,    10000.  , 68616520.  ,      309.97,      301.9 ]])"
      ]
     },
     "execution_count": 1033,
     "metadata": {},
     "output_type": "execute_result"
    }
   ],
   "source": [
    "loan_data_numeric"
   ]
  },
  {
   "cell_type": "code",
   "execution_count": 1034,
   "id": "e6883c56-801d-492d-9d45-e221eed47916",
   "metadata": {},
   "outputs": [
    {
     "data": {
      "text/plain": [
       "np.int64(0)"
      ]
     },
     "execution_count": 1034,
     "metadata": {},
     "output_type": "execute_result"
    }
   ],
   "source": [
    "#checking is there any missing values\n",
    "np.isnan(loan_data_numeric).sum()"
   ]
  },
  {
   "cell_type": "code",
   "execution_count": 1035,
   "id": "3ff4b0c8-7c39-4aa2-9150-960283cafe94",
   "metadata": {},
   "outputs": [
    {
     "data": {
      "text/plain": [
       "array(['id', 'Loan_amount', 'funded_amnt', 'int_rate', 'installment', 'total_pymnt'], dtype='<U19')"
      ]
     },
     "execution_count": 1035,
     "metadata": {},
     "output_type": "execute_result"
    }
   ],
   "source": [
    "header_numeric[1] = \"Loan_amount\"\n",
    "header_numeric"
   ]
  },
  {
   "cell_type": "code",
   "execution_count": 1036,
   "id": "06f83ad2-5532-46af-9ddd-fc2939667e8a",
   "metadata": {},
   "outputs": [
    {
     "data": {
      "text/plain": [
       "np.int64(0)"
      ]
     },
     "execution_count": 1036,
     "metadata": {},
     "output_type": "execute_result"
    }
   ],
   "source": [
    "#Checking whether the 'id' column initially had missing values and was later filled with temporary values while loading the dataset\n",
    "\n",
    "np.isin(loan_data_numeric[:,0],temporary_fill).sum()"
   ]
  },
  {
   "cell_type": "code",
   "execution_count": 1037,
   "id": "7e60bf7e-a8d6-49d7-8c66-a202b3995c30",
   "metadata": {},
   "outputs": [
    {
     "name": "stdout",
     "output_type": "stream",
     "text": [
      "500\n",
      "500\n",
      "6004\n",
      "501\n",
      "500\n"
     ]
    }
   ],
   "source": [
    "#Checking whether each column column initially had missing values and was later filled with temporary values while loading the dataset\n",
    "for i in range(0,loan_data_numeric.shape[1]):\n",
    "    if np.isin(loan_data_numeric[:, i], temporary_fill).sum() > 0:\n",
    "        print(np.isin(loan_data_numeric[:, i], temporary_fill).sum())\n"
   ]
  },
  {
   "cell_type": "code",
   "execution_count": 1038,
   "id": "52f89673-2f5c-4817-875b-e106aa81c5bb",
   "metadata": {},
   "outputs": [],
   "source": [
    "for i in range(0,loan_data_numeric.shape[1]):\n",
    "    loan_data_numeric[:,i] = np.where(loan_data_numeric[:,i] == temporary_fill,\n",
    "                                      temporary_stats[0][column_numeric][i],\n",
    "                                      loan_data_numeric[:,i])\n",
    "                                      "
   ]
  },
  {
   "cell_type": "code",
   "execution_count": 1039,
   "id": "f387f35c-8947-41eb-a39d-e648876ceaf7",
   "metadata": {},
   "outputs": [
    {
     "data": {
      "text/plain": [
       "array(['id', 'Loan_amount', 'funded_amnt', 'int_rate', 'installment', 'total_pymnt'], dtype='<U19')"
      ]
     },
     "execution_count": 1039,
     "metadata": {},
     "output_type": "execute_result"
    }
   ],
   "source": [
    "header_numeric"
   ]
  },
  {
   "cell_type": "markdown",
   "id": "8aad617f-847a-4b74-a3ab-26820ebf3cf7",
   "metadata": {},
   "source": [
    "## int_rate"
   ]
  },
  {
   "cell_type": "code",
   "execution_count": 1040,
   "id": "be31903d-bc75-4c96-b4dd-ed2d46b5a2bf",
   "metadata": {},
   "outputs": [
    {
     "data": {
      "text/plain": [
       "array([13.33, 16.62, 16.62, ..., 16.62, 16.55, 16.62])"
      ]
     },
     "execution_count": 1040,
     "metadata": {},
     "output_type": "execute_result"
    }
   ],
   "source": [
    "loan_data_numeric[:,3]  "
   ]
  },
  {
   "cell_type": "code",
   "execution_count": 1041,
   "id": "81d0332c-c8a7-4f09-aadb-a770d8e8fb30",
   "metadata": {},
   "outputs": [
    {
     "data": {
      "text/plain": [
       "array([0.13, 0.17, 0.17, ..., 0.17, 0.17, 0.17])"
      ]
     },
     "execution_count": 1041,
     "metadata": {},
     "output_type": "execute_result"
    }
   ],
   "source": [
    "loan_data_numeric[:,3] = loan_data_numeric[:,3]/100\n",
    "loan_data_numeric[:,3]"
   ]
  },
  {
   "cell_type": "code",
   "execution_count": 1042,
   "id": "23335d55-199e-4e23-a8ec-ecd0657554b0",
   "metadata": {},
   "outputs": [
    {
     "data": {
      "text/plain": [
       "np.str_('Interest_rate')"
      ]
     },
     "execution_count": 1042,
     "metadata": {},
     "output_type": "execute_result"
    }
   ],
   "source": [
    "header_numeric[3] = 'Interest_rate'\n",
    "header_numeric[3]"
   ]
  },
  {
   "cell_type": "markdown",
   "id": "1520e4ed-ea98-426b-ba81-e76fd7ddca98",
   "metadata": {},
   "source": [
    "# Currency Exchange"
   ]
  },
  {
   "cell_type": "code",
   "execution_count": 1043,
   "id": "1645831c-50bb-4c52-bcca-6e8b74873b80",
   "metadata": {},
   "outputs": [],
   "source": [
    "curency_file = 'F:/skillss/data analyst course/data processing via python udemy course/S28 - A Loan Data Example with NumPy/EUR-USD.csv'"
   ]
  },
  {
   "cell_type": "code",
   "execution_count": 1044,
   "id": "0e43485b-30fc-46aa-b871-600a594a05ea",
   "metadata": {},
   "outputs": [
    {
     "data": {
      "text/plain": [
       "array([1.13, 1.12, 1.08, 1.11, 1.1 , 1.12, 1.09, 1.13, 1.13, 1.1 , 1.06, 1.09])"
      ]
     },
     "execution_count": 1044,
     "metadata": {},
     "output_type": "execute_result"
    }
   ],
   "source": [
    "EUR_USD = np.genfromtxt(curency_file, \n",
    "                        delimiter=',',\n",
    "                        skip_header=1,\n",
    "                       usecols=3)\n",
    "EUR_USD"
   ]
  },
  {
   "cell_type": "code",
   "execution_count": 1045,
   "id": "dc4e6eb1-6eaf-429f-b81a-9ad2f72fb090",
   "metadata": {},
   "outputs": [
    {
     "data": {
      "text/plain": [
       "array([1.1 , 1.11, 1.13, ..., 1.12, 1.11, 1.09])"
      ]
     },
     "execution_count": 1045,
     "metadata": {},
     "output_type": "execute_result"
    }
   ],
   "source": [
    "exchange_rate = loan_data_strings[:,0]\n",
    "\n",
    "for i in range(1,13):\n",
    "    exchange_rate = np.where(exchange_rate == i,\n",
    "                             EUR_USD[i-1],\n",
    "                             exchange_rate)\n",
    "\n",
    "exchange_rate = np.where(exchange_rate == 0,\n",
    "                         np.mean(EUR_USD),\n",
    "                         exchange_rate)\n",
    "exchange_rate    "
   ]
  },
  {
   "cell_type": "code",
   "execution_count": 1046,
   "id": "8a1f6702-de5d-44fe-9cfd-fcbe9f558025",
   "metadata": {},
   "outputs": [
    {
     "data": {
      "text/plain": [
       "(array([[1.1 ],\n",
       "        [1.11],\n",
       "        [1.13],\n",
       "        ...,\n",
       "        [1.12],\n",
       "        [1.11],\n",
       "        [1.09]]),\n",
       " (10000, 1))"
      ]
     },
     "execution_count": 1046,
     "metadata": {},
     "output_type": "execute_result"
    }
   ],
   "source": [
    "exchange_rate = np.reshape(exchange_rate,(10000,1))\n",
    "exchange_rate,exchange_rate.shape"
   ]
  },
  {
   "cell_type": "code",
   "execution_count": 1047,
   "id": "60b23585-a9b9-4d71-9c39-9fd883c6a3b9",
   "metadata": {},
   "outputs": [],
   "source": [
    "#adding the exchange_rate column with loan_data_numeric\n",
    "loan_data_numeric = np.hstack((loan_data_numeric,exchange_rate))"
   ]
  },
  {
   "cell_type": "code",
   "execution_count": 1048,
   "id": "ab97fd1a-51bf-4cd5-ae20-218a5c5f2485",
   "metadata": {},
   "outputs": [
    {
     "data": {
      "text/plain": [
       "((10000, 7),\n",
       " array([[48010226.  ,    35000.  ,    35000.  , ...,     1184.86,     9452.96,        1.1 ],\n",
       "        [57693261.  ,    30000.  ,    30000.  , ...,      938.57,     4679.7 ,        1.11],\n",
       "        [59432726.  ,    15000.  ,    15000.  , ...,      494.86,     1969.83,        1.13],\n",
       "        ...,\n",
       "        [50415990.  ,    10000.  ,    10000.  , ...,      440.92,     2185.64,        1.12],\n",
       "        [46154151.  ,    15273.46,    10000.  , ...,      354.3 ,     3199.4 ,        1.11],\n",
       "        [66055249.  ,    10000.  ,    10000.  , ...,      309.97,      301.9 ,        1.09]]))"
      ]
     },
     "execution_count": 1048,
     "metadata": {},
     "output_type": "execute_result"
    }
   ],
   "source": [
    "loan_data_numeric.shape, loan_data_numeric"
   ]
  },
  {
   "cell_type": "code",
   "execution_count": 1049,
   "id": "9c3b4555-fa29-4215-84f2-7ddf18cb2e78",
   "metadata": {},
   "outputs": [
    {
     "data": {
      "text/plain": [
       "array(['id', 'Loan_amount', 'funded_amnt', 'Interest_rate', 'installment', 'total_pymnt',\n",
       "       'Exchange_rate'], dtype='<U19')"
      ]
     },
     "execution_count": 1049,
     "metadata": {},
     "output_type": "execute_result"
    }
   ],
   "source": [
    "#expand the header too.\n",
    "header_numeric = np.hstack((header_numeric,\"Exchange_rate\"))\n",
    "header_numeric"
   ]
  },
  {
   "cell_type": "markdown",
   "id": "3420d588-8f59-4abf-8b4f-b61071935214",
   "metadata": {},
   "source": [
    "## from usd to eur"
   ]
  },
  {
   "cell_type": "code",
   "execution_count": 1050,
   "id": "0e49c36a-2856-45b0-ba99-108001d19a7f",
   "metadata": {},
   "outputs": [],
   "source": [
    "for i in [1,2,4,5]:\n",
    "    loan_data_numeric = np.hstack((loan_data_numeric,np.reshape(loan_data_numeric[:,i]/loan_data_numeric[:,6],(10000,1))))"
   ]
  },
  {
   "cell_type": "code",
   "execution_count": 1051,
   "id": "d2ff22ac-0bd5-427c-8f4f-495832f4f4f0",
   "metadata": {},
   "outputs": [
    {
     "data": {
      "text/plain": [
       "(10000, 11)"
      ]
     },
     "execution_count": 1051,
     "metadata": {},
     "output_type": "execute_result"
    }
   ],
   "source": [
    "loan_data_numeric.shape"
   ]
  },
  {
   "cell_type": "code",
   "execution_count": 1052,
   "id": "c3d4dd78-d398-4505-9af8-bcabbe24084f",
   "metadata": {},
   "outputs": [],
   "source": [
    "#creating header name for the newly created columns\n",
    "header_additional = []\n",
    "for i in [1,2,4,5]:\n",
    "    header_additional.append(np.array(header_numeric[i] + \"_EUR\"))"
   ]
  },
  {
   "cell_type": "code",
   "execution_count": 1053,
   "id": "bac2fb3b-4eab-4408-98da-e756368b77ed",
   "metadata": {},
   "outputs": [
    {
     "data": {
      "text/plain": [
       "[array('Loan_amount_EUR', dtype='<U15'),\n",
       " array('funded_amnt_EUR', dtype='<U15'),\n",
       " array('installment_EUR', dtype='<U15'),\n",
       " array('total_pymnt_EUR', dtype='<U15')]"
      ]
     },
     "execution_count": 1053,
     "metadata": {},
     "output_type": "execute_result"
    }
   ],
   "source": [
    "header_additional"
   ]
  },
  {
   "cell_type": "code",
   "execution_count": 1054,
   "id": "1d0e6d00-8a5e-4280-a564-fcdc476e5d9b",
   "metadata": {},
   "outputs": [
    {
     "data": {
      "text/plain": [
       "array(['id', 'Loan_amount', 'funded_amnt', 'Interest_rate', 'installment', 'total_pymnt',\n",
       "       'Exchange_rate', 'Loan_amount_EUR', 'funded_amnt_EUR', 'installment_EUR', 'total_pymnt_EUR'],\n",
       "      dtype='<U19')"
      ]
     },
     "execution_count": 1054,
     "metadata": {},
     "output_type": "execute_result"
    }
   ],
   "source": [
    "#adding the column name with header_numeric\n",
    "header_numeric = np.hstack((header_numeric,header_additional))\n",
    "header_numeric"
   ]
  },
  {
   "cell_type": "code",
   "execution_count": 1055,
   "id": "28c97e19-8896-4f5c-9e73-df0a946e9120",
   "metadata": {},
   "outputs": [],
   "source": [
    "#change the column name(adding \"-USD\" with the existing columns )\n",
    "for i in [1,2,4,5]:\n",
    "    header_numeric[i] = header_numeric[i] + '_USD'"
   ]
  },
  {
   "cell_type": "code",
   "execution_count": 1056,
   "id": "783a1ead-2368-48fd-a700-fb5ef924f0f0",
   "metadata": {},
   "outputs": [
    {
     "data": {
      "text/plain": [
       "array(['id', 'Loan_amount_USD', 'funded_amnt_USD', 'Interest_rate', 'installment_USD',\n",
       "       'total_pymnt_USD', 'Exchange_rate', 'Loan_amount_EUR', 'funded_amnt_EUR', 'installment_EUR',\n",
       "       'total_pymnt_EUR'], dtype='<U19')"
      ]
     },
     "execution_count": 1056,
     "metadata": {},
     "output_type": "execute_result"
    }
   ],
   "source": [
    "header_numeric"
   ]
  },
  {
   "cell_type": "code",
   "execution_count": 1057,
   "id": "36100756-2bf9-4823-816d-14e915ed1b9a",
   "metadata": {},
   "outputs": [],
   "source": [
    "columns_index_order = [0,1,7,2,8,3,4,9,5,10,6]\n",
    "header_numeric = header_numeric[columns_index_order]\n",
    "loan_data_numeric = loan_data_numeric[:,columns_index_order]"
   ]
  },
  {
   "cell_type": "code",
   "execution_count": 1058,
   "id": "9ab7f86d-29b3-4f0e-bf1b-de6bc97c12f5",
   "metadata": {},
   "outputs": [
    {
     "data": {
      "text/plain": [
       "(array(['id', 'Loan_amount_USD', 'Loan_amount_EUR', 'funded_amnt_USD', 'funded_amnt_EUR',\n",
       "        'Interest_rate', 'installment_USD', 'installment_EUR', 'total_pymnt_USD', 'total_pymnt_EUR',\n",
       "        'Exchange_rate'], dtype='<U19'),\n",
       " array([[48010226.  ,    35000.  ,    31933.3 , ...,     9452.96,     8624.69,        1.1 ],\n",
       "        [57693261.  ,    30000.  ,    27132.46, ...,     4679.7 ,     4232.39,        1.11],\n",
       "        [59432726.  ,    15000.  ,    13326.3 , ...,     1969.83,     1750.04,        1.13],\n",
       "        ...,\n",
       "        [50415990.  ,    10000.  ,     8910.3 , ...,     2185.64,     1947.47,        1.12],\n",
       "        [46154151.  ,    15273.46,    13742.15, ...,     3199.4 ,     2878.63,        1.11],\n",
       "        [66055249.  ,    10000.  ,     9145.8 , ...,      301.9 ,      276.11,        1.09]]))"
      ]
     },
     "execution_count": 1058,
     "metadata": {},
     "output_type": "execute_result"
    }
   ],
   "source": [
    "header_numeric,loan_data_numeric"
   ]
  },
  {
   "cell_type": "code",
   "execution_count": 1059,
   "id": "3c76aa2a-a0c7-4287-bba7-38bb3a11c36f",
   "metadata": {},
   "outputs": [
    {
     "data": {
      "text/plain": [
       "((10000, 11), (11,))"
      ]
     },
     "execution_count": 1059,
     "metadata": {},
     "output_type": "execute_result"
    }
   ],
   "source": [
    "loan_data_numeric.shape,header_numeric.shape"
   ]
  },
  {
   "cell_type": "markdown",
   "id": "45142be7-78d1-439f-b8d5-52b4e99e0d2f",
   "metadata": {},
   "source": [
    "# Checkpoint 2(Numeric)"
   ]
  },
  {
   "cell_type": "code",
   "execution_count": 1060,
   "id": "e028072a-101d-4c8e-8d2b-f2b6ba4a8aa1",
   "metadata": {},
   "outputs": [],
   "source": [
    "checkpoint_numeric = checkpoint('Checkpoint_Numeric',header_numeric,loan_data_numeric)"
   ]
  },
  {
   "cell_type": "code",
   "execution_count": 1061,
   "id": "0e33b763-8dcc-4d12-a3eb-0e58c272151c",
   "metadata": {},
   "outputs": [
    {
     "data": {
      "text/plain": [
       "(array(['id', 'Loan_amount_USD', 'Loan_amount_EUR', 'funded_amnt_USD', 'funded_amnt_EUR',\n",
       "        'Interest_rate', 'installment_USD', 'installment_EUR', 'total_pymnt_USD', 'total_pymnt_EUR',\n",
       "        'Exchange_rate'], dtype='<U19'),\n",
       " array([[48010226.  ,    35000.  ,    31933.3 , ...,     9452.96,     8624.69,        1.1 ],\n",
       "        [57693261.  ,    30000.  ,    27132.46, ...,     4679.7 ,     4232.39,        1.11],\n",
       "        [59432726.  ,    15000.  ,    13326.3 , ...,     1969.83,     1750.04,        1.13],\n",
       "        ...,\n",
       "        [50415990.  ,    10000.  ,     8910.3 , ...,     2185.64,     1947.47,        1.12],\n",
       "        [46154151.  ,    15273.46,    13742.15, ...,     3199.4 ,     2878.63,        1.11],\n",
       "        [66055249.  ,    10000.  ,     9145.8 , ...,      301.9 ,      276.11,        1.09]]))"
      ]
     },
     "execution_count": 1061,
     "metadata": {},
     "output_type": "execute_result"
    }
   ],
   "source": [
    "checkpoint_numeric['header'],checkpoint_numeric['data']"
   ]
  },
  {
   "cell_type": "markdown",
   "id": "6a42c911-550a-49e3-a499-b68e6fbe97be",
   "metadata": {},
   "source": [
    "# Creating the whole dataset"
   ]
  },
  {
   "cell_type": "code",
   "execution_count": 1062,
   "id": "efc7f078-94a4-4c88-860b-3540249d2343",
   "metadata": {},
   "outputs": [
    {
     "data": {
      "text/plain": [
       "(array(['Issue_date', 'loan_status', 'term', 'sub_grade', 'verification_status', 'addr_state', 'id',\n",
       "        'Loan_amount_USD', 'Loan_amount_EUR', 'funded_amnt_USD', 'funded_amnt_EUR', 'Interest_rate',\n",
       "        'installment_USD', 'installment_EUR', 'total_pymnt_USD', 'total_pymnt_EUR', 'Exchange_rate'],\n",
       "       dtype='<U19'),\n",
       " 17)"
      ]
     },
     "execution_count": 1062,
     "metadata": {},
     "output_type": "execute_result"
    }
   ],
   "source": [
    "header_full = np.concatenate((checkpoint_strings['header'],checkpoint_numeric['header']))\n",
    "header_full,header_full.size"
   ]
  },
  {
   "cell_type": "code",
   "execution_count": 1063,
   "id": "82741bdf-63bc-49b4-8304-e86cdb537f05",
   "metadata": {},
   "outputs": [
    {
     "data": {
      "text/plain": [
       "((10000, 17),\n",
       " array([[   5.  ,    1.  ,   36.  , ..., 9452.96, 8624.69,    1.1 ],\n",
       "        [   0.  ,    1.  ,   36.  , ..., 4679.7 , 4232.39,    1.11],\n",
       "        [   9.  ,    1.  ,   36.  , ..., 1969.83, 1750.04,    1.13],\n",
       "        ...,\n",
       "        [   6.  ,    1.  ,   36.  , ..., 2185.64, 1947.47,    1.12],\n",
       "        [   4.  ,    1.  ,   36.  , ..., 3199.4 , 2878.63,    1.11],\n",
       "        [  12.  ,    1.  ,   36.  , ...,  301.9 ,  276.11,    1.09]]))"
      ]
     },
     "execution_count": 1063,
     "metadata": {},
     "output_type": "execute_result"
    }
   ],
   "source": [
    "loan_data = np.hstack((checkpoint_strings['data'],checkpoint_numeric['data']))\n",
    "loan_data.shape,loan_data"
   ]
  },
  {
   "cell_type": "code",
   "execution_count": 1064,
   "id": "e6cf4c73-37e4-4251-84d6-c350046e012b",
   "metadata": {},
   "outputs": [
    {
     "data": {
      "text/plain": [
       "array([[   0.  ,    1.  ,   36.  , ..., 1047.52,  947.39,    1.11],\n",
       "       [   0.  ,    1.  ,   36.  , ...,  738.9 ,  668.27,    1.11],\n",
       "       [   0.  ,    1.  ,   36.  , ..., 1327.29, 1200.42,    1.11],\n",
       "       ...,\n",
       "       [  12.  ,    1.  ,   60.  , ...,  357.38,  326.85,    1.09],\n",
       "       [  12.  ,    0.  ,   60.  , ...,    0.  ,    0.  ,    1.09],\n",
       "       [  12.  ,    1.  ,   36.  , ...,  682.47,  624.17,    1.09]])"
      ]
     },
     "execution_count": 1064,
     "metadata": {},
     "output_type": "execute_result"
    }
   ],
   "source": [
    "loan_data = loan_data[np.argsort(loan_data[:,0])]\n",
    "loan_data"
   ]
  },
  {
   "cell_type": "markdown",
   "id": "fdf47ce8-f981-40cf-97d8-a326ea45dcac",
   "metadata": {},
   "source": [
    "# storing the new dataset"
   ]
  },
  {
   "cell_type": "code",
   "execution_count": 1066,
   "id": "a0ac3c77-3c78-4d82-a628-6724ae545038",
   "metadata": {},
   "outputs": [],
   "source": [
    "loan_data = np.vstack((header_full,loan_data))"
   ]
  },
  {
   "cell_type": "code",
   "execution_count": 1067,
   "id": "c7e0a6c7-3515-430f-ab19-7aea2591b134",
   "metadata": {},
   "outputs": [
    {
     "data": {
      "text/plain": [
       "array([['Issue_date', 'loan_status', 'term', ..., 'total_pymnt_USD', 'total_pymnt_EUR',\n",
       "        'Exchange_rate'],\n",
       "       ['0.0', '1.0', '36.0', ..., '1047.52', '947.393149723985', '1.1056866943836212'],\n",
       "       ['0.0', '1.0', '36.0', ..., '738.9', '668.2724896241145', '1.1056866943836212'],\n",
       "       ...,\n",
       "       ['12.0', '1.0', '60.0', ..., '357.38', '326.8525909302222', '1.093398094177246'],\n",
       "       ['12.0', '0.0', '60.0', ..., '0.0', '0.0', '1.093398094177246'],\n",
       "       ['12.0', '1.0', '36.0', ..., '682.47', '624.1733945160579', '1.093398094177246']],\n",
       "      dtype='<U32')"
      ]
     },
     "execution_count": 1067,
     "metadata": {},
     "output_type": "execute_result"
    }
   ],
   "source": [
    "loan_data"
   ]
  },
  {
   "cell_type": "code",
   "execution_count": 1068,
   "id": "62ec548e-65b1-47c9-9778-72193f9f771a",
   "metadata": {},
   "outputs": [
    {
     "data": {
      "text/plain": [
       "'F:/skillss/data analyst course/data processing via python udemy course/S28 - A Loan Data Example with NumPy/loan-data.csv'"
      ]
     },
     "execution_count": 1068,
     "metadata": {},
     "output_type": "execute_result"
    }
   ],
   "source": [
    "fname"
   ]
  },
  {
   "cell_type": "code",
   "execution_count": 1069,
   "id": "aba0c08a-9ce2-4dbc-b06c-c10d97b8d7fb",
   "metadata": {},
   "outputs": [],
   "source": [
    "np.savetxt(\"F:/skillss/data analyst course/data processing via python udemy course/S28 - A Loan Data Example with NumPy/loan-data-preprocessed.csv\", \n",
    "           loan_data, \n",
    "           fmt = '%s',\n",
    "           delimiter = ',')"
   ]
  },
  {
   "cell_type": "code",
   "execution_count": null,
   "id": "3f967e43-72d2-4edb-a24a-c08baa0b126f",
   "metadata": {},
   "outputs": [],
   "source": []
  },
  {
   "cell_type": "code",
   "execution_count": null,
   "id": "32218323-7d70-4d9c-b9b3-a4e73fc9665d",
   "metadata": {},
   "outputs": [],
   "source": []
  }
 ],
 "metadata": {
  "kernelspec": {
   "display_name": "Python 3 (ipykernel)",
   "language": "python",
   "name": "python3"
  },
  "language_info": {
   "codemirror_mode": {
    "name": "ipython",
    "version": 3
   },
   "file_extension": ".py",
   "mimetype": "text/x-python",
   "name": "python",
   "nbconvert_exporter": "python",
   "pygments_lexer": "ipython3",
   "version": "3.12.4"
  }
 },
 "nbformat": 4,
 "nbformat_minor": 5
}
